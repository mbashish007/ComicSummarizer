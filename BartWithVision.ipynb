{
  "cells": [
    {
      "cell_type": "markdown",
      "metadata": {
        "id": "view-in-github",
        "colab_type": "text"
      },
      "source": [
        "<a href=\"https://colab.research.google.com/github/mbashish007/CommicSummarizer/blob/main/BartWithVision.ipynb\" target=\"_parent\"><img src=\"https://colab.research.google.com/assets/colab-badge.svg\" alt=\"Open In Colab\"/></a>"
      ]
    },
    {
      "cell_type": "code",
      "execution_count": null,
      "metadata": {
        "id": "-J_dWtCbxz0a"
      },
      "outputs": [],
      "source": [
        "# !curl -LO https://huggingface.co/datasets/VITA-MLLM/Comic-9K/resolve/main/images.tar.gz.aa"
      ]
    },
    {
      "cell_type": "code",
      "execution_count": null,
      "metadata": {
        "id": "EFXu8fFJx3HO"
      },
      "outputs": [],
      "source": [
        "# !tar -xvzf images.tar.gz.aa"
      ]
    },
    {
      "cell_type": "code",
      "execution_count": null,
      "metadata": {
        "colab": {
          "base_uri": "https://localhost:8080/"
        },
        "id": "qipp3L469Uxy",
        "outputId": "10d53bc0-14ed-4519-dc8b-1df6df5774d8"
      },
      "outputs": [
        {
          "output_type": "stream",
          "name": "stdout",
          "text": [
            "Reading package lists... Done\n",
            "Building dependency tree... Done\n",
            "Reading state information... Done\n",
            "tesseract-ocr is already the newest version (4.1.1-2.1build1).\n",
            "0 upgraded, 0 newly installed, 0 to remove and 34 not upgraded.\n"
          ]
        }
      ],
      "source": [
        "!sudo apt install tesseract-ocr"
      ]
    },
    {
      "cell_type": "code",
      "execution_count": null,
      "metadata": {
        "colab": {
          "base_uri": "https://localhost:8080/"
        },
        "id": "ZqFMqNe_MSbl",
        "outputId": "46ccf65d-86ab-45e6-8ea4-37aa7a5eb177"
      },
      "outputs": [
        {
          "output_type": "stream",
          "name": "stdout",
          "text": [
            "  Preparing metadata (setup.py) ... \u001b[?25l\u001b[?25hdone\n",
            "\u001b[2K   \u001b[90m━━━━━━━━━━━━━━━━━━━━━━━━━━━━━━━━━━━━━━━━\u001b[0m \u001b[32m363.4/363.4 MB\u001b[0m \u001b[31m2.7 MB/s\u001b[0m eta \u001b[36m0:00:00\u001b[0m\n",
            "\u001b[2K   \u001b[90m━━━━━━━━━━━━━━━━━━━━━━━━━━━━━━━━━━━━━━━━\u001b[0m \u001b[32m13.8/13.8 MB\u001b[0m \u001b[31m127.6 MB/s\u001b[0m eta \u001b[36m0:00:00\u001b[0m\n",
            "\u001b[2K   \u001b[90m━━━━━━━━━━━━━━━━━━━━━━━━━━━━━━━━━━━━━━━━\u001b[0m \u001b[32m24.6/24.6 MB\u001b[0m \u001b[31m99.4 MB/s\u001b[0m eta \u001b[36m0:00:00\u001b[0m\n",
            "\u001b[2K   \u001b[90m━━━━━━━━━━━━━━━━━━━━━━━━━━━━━━━━━━━━━━━━\u001b[0m \u001b[32m883.7/883.7 kB\u001b[0m \u001b[31m58.7 MB/s\u001b[0m eta \u001b[36m0:00:00\u001b[0m\n",
            "\u001b[2K   \u001b[90m━━━━━━━━━━━━━━━━━━━━━━━━━━━━━━━━━━━━━━━━\u001b[0m \u001b[32m664.8/664.8 MB\u001b[0m \u001b[31m1.4 MB/s\u001b[0m eta \u001b[36m0:00:00\u001b[0m\n",
            "\u001b[2K   \u001b[90m━━━━━━━━━━━━━━━━━━━━━━━━━━━━━━━━━━━━━━━━\u001b[0m \u001b[32m211.5/211.5 MB\u001b[0m \u001b[31m10.1 MB/s\u001b[0m eta \u001b[36m0:00:00\u001b[0m\n",
            "\u001b[2K   \u001b[90m━━━━━━━━━━━━━━━━━━━━━━━━━━━━━━━━━━━━━━━━\u001b[0m \u001b[32m56.3/56.3 MB\u001b[0m \u001b[31m38.0 MB/s\u001b[0m eta \u001b[36m0:00:00\u001b[0m\n",
            "\u001b[2K   \u001b[90m━━━━━━━━━━━━━━━━━━━━━━━━━━━━━━━━━━━━━━━━\u001b[0m \u001b[32m127.9/127.9 MB\u001b[0m \u001b[31m8.5 MB/s\u001b[0m eta \u001b[36m0:00:00\u001b[0m\n",
            "\u001b[2K   \u001b[90m━━━━━━━━━━━━━━━━━━━━━━━━━━━━━━━━━━━━━━━━\u001b[0m \u001b[32m207.5/207.5 MB\u001b[0m \u001b[31m10.6 MB/s\u001b[0m eta \u001b[36m0:00:00\u001b[0m\n",
            "\u001b[2K   \u001b[90m━━━━━━━━━━━━━━━━━━━━━━━━━━━━━━━━━━━━━━━━\u001b[0m \u001b[32m21.1/21.1 MB\u001b[0m \u001b[31m97.6 MB/s\u001b[0m eta \u001b[36m0:00:00\u001b[0m\n",
            "\u001b[2K   \u001b[90m━━━━━━━━━━━━━━━━━━━━━━━━━━━━━━━━━━━━━━━━\u001b[0m \u001b[32m491.2/491.2 kB\u001b[0m \u001b[31m38.3 MB/s\u001b[0m eta \u001b[36m0:00:00\u001b[0m\n",
            "\u001b[2K   \u001b[90m━━━━━━━━━━━━━━━━━━━━━━━━━━━━━━━━━━━━━━━━\u001b[0m \u001b[32m116.3/116.3 kB\u001b[0m \u001b[31m10.1 MB/s\u001b[0m eta \u001b[36m0:00:00\u001b[0m\n",
            "\u001b[2K   \u001b[90m━━━━━━━━━━━━━━━━━━━━━━━━━━━━━━━━━━━━━━━━\u001b[0m \u001b[32m183.9/183.9 kB\u001b[0m \u001b[31m15.2 MB/s\u001b[0m eta \u001b[36m0:00:00\u001b[0m\n",
            "\u001b[2K   \u001b[90m━━━━━━━━━━━━━━━━━━━━━━━━━━━━━━━━━━━━━━━━\u001b[0m \u001b[32m143.5/143.5 kB\u001b[0m \u001b[31m13.0 MB/s\u001b[0m eta \u001b[36m0:00:00\u001b[0m\n",
            "\u001b[2K   \u001b[90m━━━━━━━━━━━━━━━━━━━━━━━━━━━━━━━━━━━━━━━━\u001b[0m \u001b[32m194.8/194.8 kB\u001b[0m \u001b[31m19.1 MB/s\u001b[0m eta \u001b[36m0:00:00\u001b[0m\n",
            "\u001b[?25h  Building wheel for rouge-score (setup.py) ... \u001b[?25l\u001b[?25hdone\n",
            "\u001b[31mERROR: pip's dependency resolver does not currently take into account all the packages that are installed. This behaviour is the source of the following dependency conflicts.\n",
            "gcsfs 2025.3.2 requires fsspec==2025.3.2, but you have fsspec 2024.12.0 which is incompatible.\u001b[0m\u001b[31m\n",
            "\u001b[0m"
          ]
        }
      ],
      "source": [
        "!pip install -q pytesseract torchvision transformers datasets accelerate rouge-score"
      ]
    },
    {
      "cell_type": "code",
      "execution_count": null,
      "metadata": {
        "id": "4DEaon0vMYPf"
      },
      "outputs": [],
      "source": [
        "import torch\n",
        "import torch.nn as nn\n",
        "import torchvision.models as models\n",
        "import torchvision.transforms as transforms\n",
        "from torch.nn import TransformerEncoder, TransformerEncoderLayer, TransformerDecoder, TransformerDecoderLayer\n",
        "from transformers import BartTokenizer, BartForConditionalGeneration\n",
        "from torch.utils.data import Dataset, DataLoader, random_split, RandomSampler\n",
        "from torch.amp import autocast, GradScaler\n",
        "from PIL import Image, ImageFile\n",
        "import json\n",
        "import os\n",
        "import pytesseract\n",
        "import re\n",
        "import cv2\n",
        "import string\n",
        "import unicodedata\n",
        "import numpy as np\n",
        "from rouge_score import rouge_scorer\n",
        "from tqdm import tqdm\n",
        "from google.colab import drive\n",
        "import matplotlib.pyplot as plt\n"
      ]
    },
    {
      "cell_type": "code",
      "execution_count": null,
      "metadata": {
        "colab": {
          "base_uri": "https://localhost:8080/"
        },
        "id": "dBvVpgv_Mbl7",
        "outputId": "2102f9a5-26e8-48b5-e28a-53f6ba039a12"
      },
      "outputs": [
        {
          "output_type": "stream",
          "name": "stdout",
          "text": [
            "Mounted at /content/drive\n"
          ]
        }
      ],
      "source": [
        "drive.mount('/content/drive')\n"
      ]
    },
    {
      "cell_type": "code",
      "execution_count": null,
      "metadata": {
        "id": "o463pYh9Mf_E"
      },
      "outputs": [],
      "source": [
        "class Config:\n",
        "\n",
        "    # Model architecture\n",
        "    d_model = 512\n",
        "    nhead = 4\n",
        "    num_encoder_layers = 6\n",
        "    num_decoder_layers = 6\n",
        "    dim_feedforward = 1024\n",
        "    max_text_len = 768\n",
        "    max_len = 768\n",
        "    max_images = 5\n",
        "    image_size = 224\n",
        "    resnet_spatial_size = 7  # For ResNet50 last conv layer\n",
        "\n",
        "    # Training\n",
        "    batch_size = 1\n",
        "    learning_rate = 3e-5\n",
        "    num_epochs = 5\n",
        "    grad_accum_steps = 1\n",
        "    save_path = \"/content/drive/MyDrive/multimodal_summarization/\"\n",
        "\n",
        "    # Dataset\n",
        "    json_file = \"/content/drive/MyDrive/multimodal_summarization/comic_summary_chunks_small.json\"\n",
        "    json_file_small = \"/content/drive/MyDrive/multimodal_summarization/comic_summary_chunks_small.json\"\n",
        "    test_json_file = \"/content/drive/MyDrive/multimodal_summarization/comic_summary_test.json\"\n",
        "\n",
        "    image_dir = \"/content/drive/MyDrive/multimodal_summarization/images\"\n",
        "    # image_dir = \"/content/images\"\n",
        "    test_image_dir = \"/content/drive/MyDrive/multimodal_summarization/test_images\"\n",
        "    pretrained_bart_path = \"/content/drive/MyDrive/multimodal_summarization/xsum_step_4500_1745223373.pt\"\n",
        "\n",
        "    debug_samples = 5\n",
        "\n",
        "config = Config()\n",
        "device = torch.device(\"cuda\" if torch.cuda.is_available() else \"cpu\")"
      ]
    },
    {
      "cell_type": "code",
      "execution_count": null,
      "metadata": {
        "id": "AT6uH-KYekoy"
      },
      "outputs": [],
      "source": [
        "def extract_comic_text(image_path):\n",
        "\n",
        "    img = cv2.imread(image_path)\n",
        "    gray = cv2.cvtColor(img, cv2.COLOR_BGR2GRAY)\n",
        "    text = pytesseract.image_to_string(gray)\n",
        "    return text.strip()"
      ]
    },
    {
      "cell_type": "code",
      "execution_count": null,
      "metadata": {
        "id": "O1obCRRFiHcu"
      },
      "outputs": [],
      "source": [
        "def clean_comic_text(text):\n",
        "\n",
        "    if not text or not isinstance(text, str):\n",
        "        return \"\"\n",
        "\n",
        "    # Normalize unicode characters\n",
        "    text = unicodedata.normalize('NFKD', text)\n",
        "\n",
        "    # Remove non-printable characters\n",
        "    text = ''.join(c for c in text if c.isprintable() or c in ['\\n', '\\t'])\n",
        "\n",
        "    # Fix common OCR errors in comics\n",
        "    replacements = {\n",
        "        'l\\'m': \"I'm\", 'l\\'ll': \"I'll\", 'l\\'ve': \"I've\", 'l\\'d': \"I'd\",\n",
        "        'lt': \"It\", 'ls': \"Is\", 'lf': \"If\", 'lnto': \"Into\", 'ln': \"In\",\n",
        "        '0f': \"Of\", '0n': \"On\", '0r': \"Or\", '0ne': \"One\",\n",
        "        'rnore': 'more', 'frorn': 'from', 'thern': 'them',\n",
        "        '\\\\.\\\\.\\\\.\\\\.\\\\.': '...', '\\\\.\\\\.\\\\.\\\\.\\\\.\\\\.\\\\.': '...',\n",
        "        '!!+': '!!', '\\\\?\\\\?+': '??',\n",
        "        '\\\\[\\\\d+\\\\]': '', '\\\\(\\\\d+\\\\)': '',\n",
        "    }\n",
        "\n",
        "    # Apply all replacements\n",
        "    for error, correction in replacements.items():\n",
        "        text = re.sub(r'\\b' + error + r'\\b', correction, text, flags=re.IGNORECASE)\n",
        "\n",
        "    # Fix spacing around punctuation\n",
        "    text = re.sub(r'\\s+([.,!?:;])', r'\\1', text)\n",
        "\n",
        "    # Fix capitalization\n",
        "    # Capitalize first letter of sentences\n",
        "    text = re.sub(r'(?<=[\\.\\?!]\\s)([a-z])', lambda m: m.group(1).upper(), text)\n",
        "    text = re.sub(r'^([a-z])', lambda m: m.group(1).upper(), text)\n",
        "\n",
        "    # Fix common comic expressions\n",
        "    text = re.sub(r'([Hh])a([Hh])a+', r'\\1a\\2a!', text)  # Fix laughter\n",
        "    text = re.sub(r'([Aa])rgh+', r'\\1rgh!', text)  # Fix screams\n",
        "\n",
        "    # Remove repeated punctuation (except for ellipsis and common expressions)\n",
        "    text = re.sub(r'([.,!?:;])\\1{2,}', r'\\1\\1', text)\n",
        "    text = re.sub(r'\\.{2,5}', '...', text)  # Normalize ellipsis\n",
        "\n",
        "    # Fix common OCR artifacts\n",
        "    text = re.sub(r'[|]', 'I', text)  # Vertical bar to 'I'\n",
        "    text = re.sub(r'[\\u201C\\u201D]', '\"', text)  # Normalize quotes\n",
        "    text = re.sub(r'[\\u2018\\u2019]', \"'\", text)  # Normalize apostrophes\n",
        "\n",
        "    # Remove lines that are likely noise\n",
        "    lines = text.split('\\n')\n",
        "    filtered_lines = []\n",
        "    for line in lines:\n",
        "        line = line.strip()\n",
        "\n",
        "        if len(line) > 2 and any(c.isalpha() for c in line):\n",
        "            alpha_ratio = sum(c.isalpha() for c in line) / len(line)\n",
        "            if alpha_ratio > 0.3:\n",
        "                filtered_lines.append(line)\n",
        "\n",
        "    # Join lines and normalize whitespace\n",
        "    text = '\\n'.join(filtered_lines)\n",
        "    text = re.sub(r'\\s+', ' ', text)  # Normalize whitespace within lines\n",
        "    text = re.sub(r'\\n\\s*\\n+', '\\n\\n', text)  # Normalize paragraph breaks\n",
        "\n",
        "    # Handle comic-specific dialogue markers\n",
        "    text = re.sub(r'^\\s*-\\s*', '', text, flags=re.MULTILINE)  # Remove leading hyphens for dialogue\n",
        "\n",
        "    text = text.strip()\n",
        "\n",
        "    return text\n"
      ]
    },
    {
      "cell_type": "code",
      "execution_count": null,
      "metadata": {
        "id": "JEVwPOCBh_ih"
      },
      "outputs": [],
      "source": [
        "def extract_and_clean_comic_text(image_path):\n",
        "    raw_text = extract_comic_text(image_path)\n",
        "    cleaned_text = clean_comic_text(raw_text)\n",
        "    return cleaned_text\n"
      ]
    },
    {
      "cell_type": "code",
      "execution_count": null,
      "metadata": {
        "id": "bFKwfs0o1PVi"
      },
      "outputs": [],
      "source": [
        "ImageFile.LOAD_TRUNCATED_IMAGES = True"
      ]
    },
    {
      "cell_type": "code",
      "execution_count": null,
      "metadata": {
        "id": "VeBZ3VY9dsg9"
      },
      "outputs": [],
      "source": [
        "class ComicDataset(Dataset):\n",
        "    def __init__(self, json_file, image_dir, tokenizer):\n",
        "        with open(json_file) as f:\n",
        "            self.data = json.load(f)\n",
        "\n",
        "        self.max_chunks = 5\n",
        "        self.image_dir = image_dir\n",
        "        self.tokenizer = tokenizer\n",
        "        self.transform = transforms.Compose([\n",
        "            transforms.Resize(256),\n",
        "            transforms.CenterCrop(config.image_size),\n",
        "            transforms.ToTensor(),\n",
        "            transforms.Normalize(mean=[0.485, 0.456, 0.406],\n",
        "                                 std=[0.229, 0.224, 0.225])\n",
        "        ])\n",
        "\n",
        "        # Flatten chunks\n",
        "        self.chunks = []\n",
        "        for comic in self.data['comics']:\n",
        "            for chunk in comic['chunks']:\n",
        "                self.chunks.append({\n",
        "                    'comic_id': comic['comic_id'],\n",
        "                    'chunk_id': chunk['chunk_id'],\n",
        "                    'summary': chunk['summary'],\n",
        "                    'pages': chunk['pages'],\n",
        "                    'page_range': chunk['page_range']\n",
        "                })\n",
        "\n",
        "    def __len__(self):\n",
        "        return len(self.chunks)\n",
        "\n",
        "    def __getitem__(self, idx):\n",
        "        chunk = self.chunks[idx]\n",
        "\n",
        "        # Load and process images\n",
        "        images = []\n",
        "        ocr_texts = []\n",
        "        valid_pages = []\n",
        "\n",
        "        for page in chunk['pages'][:config.max_images]:\n",
        "            img_path = os.path.join(self.image_dir, chunk['comic_id'], page)\n",
        "            try:\n",
        "\n",
        "                if not os.path.exists(img_path):\n",
        "                    raise FileNotFoundError(f\"Image file not found: {img_path}\")\n",
        "                    continue\n",
        "\n",
        "                with Image.open(img_path) as img:\n",
        "                    img = img.convert('RGB')\n",
        "                    images.append(self.transform(img))\n",
        "                    ocr_text = extract_and_clean_comic_text(img_path)\n",
        "                    ocr_texts.append(ocr_text)\n",
        "                    valid_pages.append(page)\n",
        "\n",
        "                images.append(self.transform(img))\n",
        "\n",
        "                ocr_text = extract_and_clean_comic_text(img_path)\n",
        "                ocr_texts.append(ocr_text)\n",
        "\n",
        "            except Exception as e:\n",
        "                print(f\"[ERROR] Loading {img_path}: {e}\")\n",
        "                continue\n",
        "\n",
        "        # Pad images\n",
        "        while len(images) < config.max_images:\n",
        "            images.append(torch.zeros(3, config.image_size, config.image_size))\n",
        "            ocr_texts.append(\"\")\n",
        "\n",
        "        images = images[:config.max_images]\n",
        "        ocr_texts = ocr_texts[:config.max_images]\n",
        "\n",
        "        images = torch.stack(images)\n",
        "\n",
        "        # Track number of real images\n",
        "        num_real_images = len(images)\n",
        "\n",
        "        # Process text\n",
        "        text_input = f\"Summarize pages {chunk['page_range']}:\"\n",
        "        tokenized = self.tokenizer(\n",
        "            text_input,\n",
        "            padding='max_length',\n",
        "            truncation=True,\n",
        "            max_length=config.max_len,\n",
        "            return_tensors='pt'\n",
        "        )\n",
        "\n",
        "        # Tokenize each OCR chunk separately (no padding, no special tokens)\n",
        "        tokenized_chunks = [\n",
        "            self.tokenizer(\n",
        "                text,\n",
        "                add_special_tokens=False,\n",
        "                truncation=True,\n",
        "                max_length=config.max_len,  # Optional per chunk truncation\n",
        "            )['input_ids']\n",
        "            for text in ocr_texts\n",
        "        ]\n",
        "\n",
        "        # Track start and end indices for each chunk\n",
        "        chunk_indices = []\n",
        "        current = 1  # Start after BOS\n",
        "        for chunk1 in tokenized_chunks:\n",
        "            start = current\n",
        "            end = current + len(chunk1)  # exclusive\n",
        "            chunk_indices.append((start, end))\n",
        "            current = end\n",
        "\n",
        "        #if overflow\n",
        "        chunk_indices = chunk_indices[:self.max_chunks]\n",
        "        # Pad ocr_chunk_indices\n",
        "        while len(chunk_indices) < self.max_chunks:\n",
        "            chunk_indices.append((0, 0))  # Pad with dummy (0, 0) indices\n",
        "\n",
        "        # Flatten the tokenized input and manually add BOS and EOS\n",
        "        combined_input_ids = (\n",
        "            [self.tokenizer.bos_token_id] +\n",
        "            [token_id for chunk in tokenized_chunks for token_id in chunk] +\n",
        "            [self.tokenizer.eos_token_id]\n",
        "        )\n",
        "\n",
        "        # Truncate final sequence if needed\n",
        "        combined_input_ids = combined_input_ids[:config.max_len]\n",
        "\n",
        "        # Pad if shorter\n",
        "        pad_len = config.max_len - len(combined_input_ids)\n",
        "        if pad_len > 0:\n",
        "            combined_input_ids += [self.tokenizer.pad_token_id] * pad_len\n",
        "\n",
        "        # If truncation cut off some chunks, adjust chunk_indices\n",
        "        new_chunk_indices = []\n",
        "        for start, end in chunk_indices:\n",
        "            # If start is beyond the max_len, skip this chunk\n",
        "            if start >= config.max_len - 1:\n",
        "                # break\n",
        "                new_chunk_indices.append((config.max_len, config.max_len))\n",
        "                continue\n",
        "            # Clamp end to max_len - 1 (to leave room for EOS)\n",
        "            end = min(end, config.max_len - 1)\n",
        "            new_chunk_indices.append((start, end))\n",
        "        chunk_indices = new_chunk_indices\n",
        "        chunk_indices = torch.tensor(chunk_indices)\n",
        "\n",
        "        tokenized_ocr_tensor = torch.tensor(combined_input_ids)\n",
        "\n",
        "        attention_mask = torch.ones_like(tokenized_ocr_tensor)\n",
        "\n",
        "        # Process summary (target)\n",
        "        summary = chunk['summary']\n",
        "        if summary.startswith(\"none \"):  # Remove \"none \" prefix if present\n",
        "            summary = summary[5:]\n",
        "\n",
        "        # Tokenize summary\n",
        "        tokenized_summary = self.tokenizer(\n",
        "            summary,\n",
        "            padding='max_length',\n",
        "            truncation=True,\n",
        "            max_length=config.max_len,\n",
        "            return_tensors='pt'\n",
        "        )\n",
        "\n",
        "        # Create decoder input for training (shifted right)\n",
        "        decoder_input_ids = tokenized_summary['input_ids'].clone()\n",
        "        decoder_input_ids = decoder_input_ids.squeeze(0)\n",
        "\n",
        "        # Prepare shifted decoder input (teacher forcing)\n",
        "        labels = decoder_input_ids.clone()\n",
        "        decoder_input_ids = torch.cat([\n",
        "            torch.tensor([self.tokenizer.bos_token_id]),\n",
        "            decoder_input_ids[:-1]\n",
        "        ])\n",
        "\n",
        "        # tgt_key_padding_mask = (decoder_input_ids == self.tokenizer.pad_token_id).transpose(0, 1)\n",
        "        tgt_key_padding_mask = (decoder_input_ids == self.tokenizer.pad_token_id)\n",
        "\n",
        "        return {\n",
        "            'ocr_input_ids': tokenized_ocr_tensor,\n",
        "            'ocr_attention_mask': attention_mask,\n",
        "            'images': images,\n",
        "            'decoder_input_ids': decoder_input_ids,\n",
        "            'decoder_attention_mask': tgt_key_padding_mask.unsqueeze(0),\n",
        "            'ocr_chunk_indices': chunk_indices,\n",
        "            'labels': labels,\n",
        "            'comic_id': chunk['comic_id'],\n",
        "            'chunk_id': chunk['chunk_id'],\n",
        "            'num_real_images': num_real_images\n",
        "        }"
      ]
    },
    {
      "cell_type": "code",
      "source": [
        "tokenizer = BartTokenizer.from_pretrained(\"facebook/bart-base\")\n",
        "\n",
        "dataset = ComicDataset(config.json_file_small, config.image_dir_small, tokenizer)\n",
        "print(f\"Dataset loaded with {len(dataset)} examples\")\n",
        "\n",
        "debug_loader = DataLoader(dataset, batch_size=1, shuffle=True)"
      ],
      "metadata": {
        "id": "pDKPqGhZiY3n",
        "colab": {
          "base_uri": "https://localhost:8080/",
          "height": 457,
          "referenced_widgets": [
            "6e3c5a13fa664d10bcc423b8fb2f5171",
            "b0a240d3b3a049eca86a05a7499e59d5",
            "088aa656aa7849fa809a720c99f007d6",
            "f4809bd5391b4718aa0daad37fb0353c",
            "f62c0425035f4d64ae163e9ff0ba7e44",
            "e0070ace9cbb4e39acda58d8dfe5c23d",
            "d18ba5c4079c400bbe9c370f2dfef3d6",
            "1dda82aecd394c16b9bb1cfd1500a8fc",
            "71a9aa812f3f42f99f553c0088e6ad09",
            "8a8b73e1c81a49fe8ef57d148078a520",
            "2efc3d44e5d34359b6e11eb60ed063ba",
            "46358d651548449fb52904d8dd54f945",
            "797fc47a8d564c3aae22f7ce446b1c4a",
            "33c29dd9e3054d71857fff5cf0a6f7db",
            "e2a1157fef7447e49c26aeb274fc37bc",
            "0d2f72ca78824f1bb5ccccb60addbed2",
            "6625590a135a44939ae4f036df08e1b6",
            "1528fc77007f4f178d1d59f5abc22e85",
            "ad30629cdb924487b5ed2405701e0029",
            "110281471d9c43b68fe669992625e88b",
            "2a0581aab3724f3f8ab1b6ac08a51994",
            "1f197013bb684fd09b70d0ab9cb145fa",
            "8329fd8202a44eec87e90694f524aaf9",
            "b0d554dcd7264abfa2ab7bef64203f4f",
            "0cd822a0928f44cbbc0189e8ce79da4d",
            "e2d4435c75704d6f825df650233f1141",
            "f15b31ee659a4ae480b25fa466da0010",
            "a84ca52eef154544a18144621553efee",
            "f1e60e3139e647e98a2aba29dd05cd7f",
            "e3b3820356ac42bf8ea7e6c342776243",
            "70c779b9100844bdaebdf4a41254dec6",
            "0022c4a37e3242e6b31603100ca523fc",
            "ec25e60780324d3a988c659d4cf57be8",
            "9fce6d44f77547139466ff78984022cb",
            "bf224874e1c14685b3c7ad3b7424985b",
            "cb6d684af0b7447ea171307ee7fcf3dc",
            "ba22d1b9d78b47bebaff21766fe313ae",
            "07a1b46c9f724d20a7a24c356b60dfa5",
            "864eabeeaac94a8f8056abd87a166d8b",
            "7e34f2bab6ea4387b7c2e8b7bac6fc8b",
            "b999ef9938054ca3bb3aafbf28da8faa",
            "a6786499f8104b6a891d28db143f84b7",
            "a0e3e4238dd44f5a8cdf2ad14095bef8",
            "8a0155da07394e89a5a47987dd24b100"
          ]
        },
        "outputId": "f32cb089-a4c1-4204-fa63-6c047a99f5b5"
      },
      "execution_count": null,
      "outputs": [
        {
          "output_type": "stream",
          "name": "stderr",
          "text": [
            "/usr/local/lib/python3.11/dist-packages/huggingface_hub/utils/_auth.py:94: UserWarning: \n",
            "The secret `HF_TOKEN` does not exist in your Colab secrets.\n",
            "To authenticate with the Hugging Face Hub, create a token in your settings tab (https://huggingface.co/settings/tokens), set it as secret in your Google Colab and restart your session.\n",
            "You will be able to reuse this secret in all of your notebooks.\n",
            "Please note that authentication is recommended but still optional to access public models or datasets.\n",
            "  warnings.warn(\n"
          ]
        },
        {
          "output_type": "display_data",
          "data": {
            "text/plain": [
              "vocab.json:   0%|          | 0.00/899k [00:00<?, ?B/s]"
            ],
            "application/vnd.jupyter.widget-view+json": {
              "version_major": 2,
              "version_minor": 0,
              "model_id": "6e3c5a13fa664d10bcc423b8fb2f5171"
            }
          },
          "metadata": {}
        },
        {
          "output_type": "display_data",
          "data": {
            "text/plain": [
              "merges.txt:   0%|          | 0.00/456k [00:00<?, ?B/s]"
            ],
            "application/vnd.jupyter.widget-view+json": {
              "version_major": 2,
              "version_minor": 0,
              "model_id": "46358d651548449fb52904d8dd54f945"
            }
          },
          "metadata": {}
        },
        {
          "output_type": "display_data",
          "data": {
            "text/plain": [
              "tokenizer.json:   0%|          | 0.00/1.36M [00:00<?, ?B/s]"
            ],
            "application/vnd.jupyter.widget-view+json": {
              "version_major": 2,
              "version_minor": 0,
              "model_id": "8329fd8202a44eec87e90694f524aaf9"
            }
          },
          "metadata": {}
        },
        {
          "output_type": "display_data",
          "data": {
            "text/plain": [
              "config.json:   0%|          | 0.00/1.72k [00:00<?, ?B/s]"
            ],
            "application/vnd.jupyter.widget-view+json": {
              "version_major": 2,
              "version_minor": 0,
              "model_id": "9fce6d44f77547139466ff78984022cb"
            }
          },
          "metadata": {}
        },
        {
          "output_type": "error",
          "ename": "AttributeError",
          "evalue": "'Config' object has no attribute 'json_file_small'",
          "traceback": [
            "\u001b[0;31m---------------------------------------------------------------------------\u001b[0m",
            "\u001b[0;31mAttributeError\u001b[0m                            Traceback (most recent call last)",
            "\u001b[0;32m<ipython-input-11-bdd54151d488>\u001b[0m in \u001b[0;36m<cell line: 0>\u001b[0;34m()\u001b[0m\n\u001b[1;32m      1\u001b[0m \u001b[0mtokenizer\u001b[0m \u001b[0;34m=\u001b[0m \u001b[0mBartTokenizer\u001b[0m\u001b[0;34m.\u001b[0m\u001b[0mfrom_pretrained\u001b[0m\u001b[0;34m(\u001b[0m\u001b[0;34m\"facebook/bart-base\"\u001b[0m\u001b[0;34m)\u001b[0m\u001b[0;34m\u001b[0m\u001b[0;34m\u001b[0m\u001b[0m\n\u001b[1;32m      2\u001b[0m \u001b[0;34m\u001b[0m\u001b[0m\n\u001b[0;32m----> 3\u001b[0;31m \u001b[0mdataset\u001b[0m \u001b[0;34m=\u001b[0m \u001b[0mComicDataset\u001b[0m\u001b[0;34m(\u001b[0m\u001b[0mconfig\u001b[0m\u001b[0;34m.\u001b[0m\u001b[0mjson_file_small\u001b[0m\u001b[0;34m,\u001b[0m \u001b[0mconfig\u001b[0m\u001b[0;34m.\u001b[0m\u001b[0mimage_dir_small\u001b[0m\u001b[0;34m,\u001b[0m \u001b[0mtokenizer\u001b[0m\u001b[0;34m)\u001b[0m\u001b[0;34m\u001b[0m\u001b[0;34m\u001b[0m\u001b[0m\n\u001b[0m\u001b[1;32m      4\u001b[0m \u001b[0mprint\u001b[0m\u001b[0;34m(\u001b[0m\u001b[0;34mf\"Dataset loaded with {len(dataset)} examples\"\u001b[0m\u001b[0;34m)\u001b[0m\u001b[0;34m\u001b[0m\u001b[0;34m\u001b[0m\u001b[0m\n\u001b[1;32m      5\u001b[0m \u001b[0;34m\u001b[0m\u001b[0m\n",
            "\u001b[0;31mAttributeError\u001b[0m: 'Config' object has no attribute 'json_file_small'"
          ]
        }
      ]
    },
    {
      "cell_type": "code",
      "source": [
        "def visualize_comic_sample(batch):\n",
        "\n",
        "    images = batch['images'][0]  # [num_images, 3, H, W]\n",
        "\n",
        "    ocr_input_text = tokenizer.batch_decode(batch['ocr_input_ids'], skip_special_tokens=False)\n",
        "\n",
        "    summary = batch['raw_summary'][0]\n",
        "\n",
        "    print(f\"Comic ID: {batch['comic_id'][0]}\")\n",
        "    print(f\"Chunk ID: {batch['chunk_id'][0]}\")\n",
        "    print(f\"\\nOCR Text (first 200 chars): {ocr_input_text[:200]}...\")\n",
        "    print(f\"\\nSummary: {summary}\")\n",
        "\n",
        "    fig, axes = plt.subplots(1, config.max_images, figsize=(20, 4))\n",
        "\n",
        "    for i in range(config.max_images):\n",
        "        img = images[i].permute(1, 2, 0).cpu().numpy()\n",
        "        img = img * np.array([0.229, 0.224, 0.225]) + np.array([0.485, 0.456, 0.406])\n",
        "        img = np.clip(img, 0, 1)\n",
        "\n",
        "        if isinstance(axes, np.ndarray):\n",
        "            axes[i].imshow(img)\n",
        "            axes[i].set_title(f\"Page {i+1}\")\n",
        "            axes[i].axis('off')\n",
        "        else:\n",
        "            axes.imshow(img)\n",
        "            axes.set_title(f\"Page {i+1}\")\n",
        "            axes.axis('off')\n",
        "\n",
        "    plt.tight_layout()\n",
        "    plt.show()\n",
        "\n",
        "for i, batch in enumerate(debug_loader):\n",
        "    visualize_comic_sample(batch)\n",
        "    if i >= config.debug_samples - 1:\n",
        "        break\n"
      ],
      "metadata": {
        "id": "KKT6xYF3ibPu",
        "colab": {
          "base_uri": "https://localhost:8080/",
          "height": 207
        },
        "outputId": "5cdb43b4-2104-416a-e468-db0fc3015a0e"
      },
      "execution_count": null,
      "outputs": [
        {
          "output_type": "error",
          "ename": "NameError",
          "evalue": "name 'debug_loader' is not defined",
          "traceback": [
            "\u001b[0;31m---------------------------------------------------------------------------\u001b[0m",
            "\u001b[0;31mNameError\u001b[0m                                 Traceback (most recent call last)",
            "\u001b[0;32m<ipython-input-34-ffed00a2dc1b>\u001b[0m in \u001b[0;36m<cell line: 0>\u001b[0;34m()\u001b[0m\n\u001b[1;32m     34\u001b[0m     \u001b[0mplt\u001b[0m\u001b[0;34m.\u001b[0m\u001b[0mshow\u001b[0m\u001b[0;34m(\u001b[0m\u001b[0;34m)\u001b[0m\u001b[0;34m\u001b[0m\u001b[0;34m\u001b[0m\u001b[0m\n\u001b[1;32m     35\u001b[0m \u001b[0;34m\u001b[0m\u001b[0m\n\u001b[0;32m---> 36\u001b[0;31m \u001b[0;32mfor\u001b[0m \u001b[0mi\u001b[0m\u001b[0;34m,\u001b[0m \u001b[0mbatch\u001b[0m \u001b[0;32min\u001b[0m \u001b[0menumerate\u001b[0m\u001b[0;34m(\u001b[0m\u001b[0mdebug_loader\u001b[0m\u001b[0;34m)\u001b[0m\u001b[0;34m:\u001b[0m\u001b[0;34m\u001b[0m\u001b[0;34m\u001b[0m\u001b[0m\n\u001b[0m\u001b[1;32m     37\u001b[0m     \u001b[0mvisualize_comic_sample\u001b[0m\u001b[0;34m(\u001b[0m\u001b[0mbatch\u001b[0m\u001b[0;34m)\u001b[0m\u001b[0;34m\u001b[0m\u001b[0;34m\u001b[0m\u001b[0m\n\u001b[1;32m     38\u001b[0m     \u001b[0;32mif\u001b[0m \u001b[0mi\u001b[0m \u001b[0;34m>=\u001b[0m \u001b[0mconfig\u001b[0m\u001b[0;34m.\u001b[0m\u001b[0mdebug_samples\u001b[0m \u001b[0;34m-\u001b[0m \u001b[0;36m1\u001b[0m\u001b[0;34m:\u001b[0m\u001b[0;34m\u001b[0m\u001b[0;34m\u001b[0m\u001b[0m\n",
            "\u001b[0;31mNameError\u001b[0m: name 'debug_loader' is not defined"
          ]
        }
      ]
    },
    {
      "cell_type": "code",
      "execution_count": null,
      "metadata": {
        "id": "H7FXpWuFNb6o"
      },
      "outputs": [],
      "source": [
        "class LearnedPositionalEncoding(nn.Module):\n",
        "    def __init__(self, max_len, d_model):\n",
        "        super().__init__()\n",
        "        self.pos_embedding = nn.Embedding(max_len, d_model)\n",
        "\n",
        "    def forward(self, x):\n",
        "        seq_len = x.size(1)\n",
        "        positions = torch.arange(0, seq_len, dtype=torch.long, device=x.device)\n",
        "        positions = positions.unsqueeze(0).expand(x.size(0), seq_len)\n",
        "        return x + self.pos_embedding(positions)\n",
        "\n",
        "class CustomEncoderLayer(nn.Module):\n",
        "    def __init__(self, d_model, nhead, dim_feedforward):\n",
        "        super().__init__()\n",
        "        self.layer = TransformerEncoderLayer(d_model, nhead, dim_feedforward,  batch_first=True)\n",
        "\n",
        "    def forward(self, src, src_mask=None, src_key_padding_mask=None ):\n",
        "        return self.layer(src, src_mask=src_mask, src_key_padding_mask=src_key_padding_mask)\n",
        "\n",
        "class CustomDecoderLayer(nn.Module):\n",
        "    def __init__(self, d_model, nhead, dim_feedforward):\n",
        "        super().__init__()\n",
        "        self.layer = TransformerDecoderLayer(d_model, nhead, dim_feedforward, batch_first=True)\n",
        "\n",
        "    def forward(self, tgt, memory, tgt_mask=None, memory_mask=None, tgt_key_padding_mask=None, memory_key_padding_mask=None):\n",
        "        return self.layer(tgt, memory, tgt_mask, memory_mask, tgt_key_padding_mask, memory_key_padding_mask)"
      ]
    },
    {
      "cell_type": "code",
      "execution_count": null,
      "metadata": {
        "id": "4vLBwJPEUzjz"
      },
      "outputs": [],
      "source": [
        "class CustomBART(nn.Module):\n",
        "    def __init__(self, vocab_size, d_model=512, nhead=4, num_encoder_layers=6, num_decoder_layers=6, dim_feedforward=1024, max_len=768):\n",
        "        super().__init__()\n",
        "        self.nhead = nhead\n",
        "        self.token_embedding = nn.Embedding(vocab_size, d_model)\n",
        "        self.position_encoding = LearnedPositionalEncoding(max_len, d_model)\n",
        "\n",
        "        self.encoder_layers = nn.ModuleList([CustomEncoderLayer(d_model, nhead, dim_feedforward) for _ in range(num_encoder_layers)])\n",
        "        self.decoder_layers = nn.ModuleList([CustomDecoderLayer(d_model, nhead, dim_feedforward) for _ in range(num_decoder_layers)])\n",
        "\n",
        "        self.output_proj = nn.Linear(d_model, vocab_size)\n",
        "\n",
        "    def forward(self, input_ids=None, decoder_input_ids=None, attention_mask=None,\n",
        "            decoder_attention_mask=None, embeddings=None):\n",
        "\n",
        "        if embeddings is not None:\n",
        "            src_emb = embeddings\n",
        "        else:\n",
        "            src_emb = self.position_encoding(self.token_embedding(input_ids))\n",
        "\n",
        "        if attention_mask is not None:\n",
        "            attention_mask = attention_mask.bool()\n",
        "        if decoder_attention_mask is not None:\n",
        "            decoder_attention_mask = decoder_attention_mask.bool()\n",
        "        # Encoder\n",
        "        memory = src_emb\n",
        "        for layer in self.encoder_layers:\n",
        "            memory = layer(memory, src_key_padding_mask=attention_mask)\n",
        "\n",
        "        # Decoder\n",
        "        tgt_emb = self.position_encoding(self.token_embedding(decoder_input_ids))\n",
        "\n",
        "        # Create causal mask for decoder\n",
        "        tgt_len = decoder_input_ids.size(1)\n",
        "        causal_mask = torch.triu(\n",
        "            torch.ones(tgt_len, tgt_len, device=decoder_input_ids.device) * float('-inf'),\n",
        "            diagonal=1\n",
        "        )\n",
        "\n",
        "        output = tgt_emb\n",
        "        for layer in self.decoder_layers:\n",
        "            output = layer(\n",
        "                output, memory,\n",
        "                tgt_mask=causal_mask,\n",
        "                tgt_key_padding_mask=decoder_attention_mask,\n",
        "                memory_key_padding_mask=attention_mask\n",
        "            )\n",
        "\n",
        "        return self.output_proj(output)"
      ]
    },
    {
      "cell_type": "code",
      "execution_count": null,
      "metadata": {
        "id": "Am3i_2k_M0WN"
      },
      "outputs": [],
      "source": [
        "class ResNetImageEncoder(nn.Module):\n",
        "    def __init__(self):\n",
        "        super().__init__()\n",
        "        resnet = models.resnet50(weights=models.ResNet50_Weights.IMAGENET1K_V1)\n",
        "        self.feature_extractor = nn.Sequential(*list(resnet.children())[:-2])\n",
        "\n",
        "    def forward(self, images):\n",
        "        # images: [batch_size, num_images, 3, H, W]\n",
        "        batch_size, num_images = images.shape[:2]\n",
        "        images = images.view(batch_size * num_images, *images.shape[2:])\n",
        "        features = self.feature_extractor(images)  # [batch*num_images, 2048, 7, 7]\n",
        "        return features.view(batch_size, num_images, 2048, 7, 7)"
      ]
    },
    {
      "cell_type": "code",
      "execution_count": null,
      "metadata": {
        "id": "9luXQZVoEvNY"
      },
      "outputs": [],
      "source": [
        "def interleave_image_text_embeddings(image_feats, text_embs, text_chunk_indices, num_real_images, max_len=768):\n",
        "    B, _, D = text_embs.shape  # B=batch size, D=embedding dim\n",
        "    chunk_count = text_chunk_indices.shape[1]\n",
        "    final_embs = torch.zeros(B, max_len, D, device=text_embs.device)\n",
        "    attention_mask = torch.zeros(B, max_len, dtype=torch.long, device=text_embs.device)\n",
        "\n",
        "    for b in range(B):\n",
        "        embed_ptr = 0  # track how far we’ve written\n",
        "\n",
        "        for i in range(chunk_count):\n",
        "            if i >= num_real_images[b]:\n",
        "                break\n",
        "            # image chunk (49 tokens)\n",
        "            img_start = i * 49\n",
        "            img_end = min(img_start + 49, image_feats.shape[1])\n",
        "            img_chunk = image_feats[b, img_start:img_end]\n",
        "\n",
        "            # Write image tokens\n",
        "            img_len = img_chunk.size(0)\n",
        "            if embed_ptr + img_len > max_len:\n",
        "                break\n",
        "            final_embs[b, embed_ptr:embed_ptr + img_len] = img_chunk\n",
        "            attention_mask[b, embed_ptr:embed_ptr + img_len] = 1\n",
        "            embed_ptr += img_len\n",
        "\n",
        "            # Get corresponding text chunk\n",
        "            t_start, t_end = text_chunk_indices[b, i]\n",
        "                # Skip dummy chunks (they were added as (max_len, max_len))\n",
        "            if t_start >= max_len:\n",
        "                continue\n",
        "            txt_chunk = text_embs[b, t_start:t_end]\n",
        "            txt_len = txt_chunk.size(0)\n",
        "\n",
        "            if embed_ptr + txt_len > max_len:\n",
        "                available = max_len - embed_ptr\n",
        "                txt_chunk = txt_chunk[:available]\n",
        "                txt_len = txt_chunk.size(0)\n",
        "\n",
        "            final_embs[b, embed_ptr:embed_ptr + txt_len] = txt_chunk\n",
        "            attention_mask[b, embed_ptr:embed_ptr + txt_len] = 1\n",
        "            embed_ptr += txt_len\n",
        "\n",
        "    return final_embs, attention_mask\n"
      ]
    },
    {
      "cell_type": "code",
      "execution_count": null,
      "metadata": {
        "id": "abxNIiD5M58V"
      },
      "outputs": [],
      "source": [
        "class CustomBARTWithVision(nn.Module):\n",
        "    def __init__(self, base_model: CustomBART, d_model=512):\n",
        "        super().__init__()\n",
        "        self.base_model = base_model\n",
        "\n",
        "        # Vision encoder using ResNet's last convolutional layer (7x7 spatial features)\n",
        "        self.image_encoder = ResNetImageEncoder()\n",
        "\n",
        "        # Spatial feature projection\n",
        "        self.image_proj = nn.Sequential(\n",
        "            nn.Conv3d(2048, d_model, kernel_size=(1,1,1)),\n",
        "            nn.ReLU(),\n",
        "            nn.LayerNorm([d_model, config.max_images, 7, 7])\n",
        "        )\n",
        "\n",
        "        # Extended positional encoding for combined sequence\n",
        "        self.extended_position_encoding = LearnedPositionalEncoding(\n",
        "            config.max_len + config.max_images * 49,  # 7x7 spatial features per image\n",
        "            d_model\n",
        "        )\n",
        "\n",
        "    def forward(self, input_ids, images, decoder_input_ids, attention_mask=None, decoder_attention_mask=None, ocr_chunk_indices=None, num_real_images=None):\n",
        "        batch_size = images.shape[0]\n",
        "        device = images.device\n",
        "\n",
        "\n",
        "        image_features = self.image_encoder(images)  # [batch, num_images, 2048, 7, 7]\n",
        "\n",
        "        image_features = self.image_proj(image_features.permute(0, 2, 1, 3, 4))  # [batch, d_model, num_images, 7, 7]\n",
        "\n",
        "        # Reshape to sequence of tokens: [batch, num_images*49, d_model]\n",
        "        image_features = image_features.view(batch_size, config.d_model, -1).permute(0, 2, 1)\n",
        "\n",
        "        text_emb = self.base_model.token_embedding(input_ids)\n",
        "\n",
        "        input_emb, input_attention = interleave_image_text_embeddings(image_features, text_emb, ocr_chunk_indices, num_real_images,max_len=config.max_len)\n",
        "        input_emb = self.base_model.position_encoding(input_emb)\n",
        "\n",
        "        return self.base_model(\n",
        "            embeddings=input_emb,\n",
        "            decoder_input_ids=decoder_input_ids,\n",
        "            attention_mask=input_attention,\n",
        "            decoder_attention_mask=decoder_attention_mask\n",
        "        )"
      ]
    },
    {
      "cell_type": "code",
      "execution_count": null,
      "metadata": {
        "id": "xFM03UJgM_nL"
      },
      "outputs": [],
      "source": [
        "def initialize_models():\n",
        "    tokenizer = BartTokenizer.from_pretrained(\"facebook/bart-base\")\n",
        "\n",
        "    base_model = CustomBART(\n",
        "        vocab_size=tokenizer.vocab_size,\n",
        "        d_model=config.d_model,\n",
        "        nhead=config.nhead,\n",
        "        num_encoder_layers=config.num_encoder_layers,\n",
        "        num_decoder_layers=config.num_decoder_layers,\n",
        "        dim_feedforward=config.dim_feedforward,\n",
        "        max_len=config.max_text_len\n",
        "    )\n",
        "\n",
        "    checkpoint = torch.load(config.pretrained_bart_path, map_location='cpu')\n",
        "\n",
        "    if \"model_state_dict\" in checkpoint:\n",
        "        state_dict = checkpoint[\"model_state_dict\"]\n",
        "    else:\n",
        "        state_dict = checkpoint\n",
        "\n",
        "    new_state_dict = {}\n",
        "    for key, value in state_dict.items():\n",
        "        if key.startswith(\"module.\"):\n",
        "            new_key = key[len(\"module.\"):]\n",
        "        elif key.startswith(\"_orig_mod.\"):\n",
        "            new_key = key[len(\"_orig_mod.\"):]\n",
        "        else:\n",
        "            new_key = key\n",
        "        new_state_dict[new_key] = value\n",
        "\n",
        "    base_model.load_state_dict(new_state_dict, strict=False)\n",
        "    print(f\"Loaded pretrained CustomBART weights from {config.pretrained_bart_path}\")\n",
        "\n",
        "    model = CustomBARTWithVision(base_model, d_model=config.d_model)\n",
        "\n",
        "    model = model.to(device)\n",
        "\n",
        "    return tokenizer, model\n"
      ]
    },
    {
      "cell_type": "code",
      "execution_count": null,
      "metadata": {
        "id": "5W_fsxQPCbjN"
      },
      "outputs": [],
      "source": [
        "def train_model(tokenizer=None, model=None, optimizer=None, loss_fn=None, scaler=None, dataset=None, resume=0, resume_batch_idx=0, seed = 42):\n",
        "\n",
        "    train_size = int(0.9 * len(dataset))\n",
        "    val_size = len(dataset) - train_size\n",
        "\n",
        "    generator = torch.Generator().manual_seed(seed)\n",
        "    train_dataset, val_dataset = random_split(dataset, [train_size, val_size], generator=generator)\n",
        "\n",
        "    train_sampler = torch.utils.data.RandomSampler(train_dataset, generator=generator)\n",
        "    train_loader = DataLoader(train_dataset, batch_size=config.batch_size, sampler=train_sampler)\n",
        "\n",
        "    # Training loop\n",
        "    global_step = resume\n",
        "    count = 0\n",
        "    print(global_step)\n",
        "    for epoch in range(config.num_epochs):\n",
        "        model.train()\n",
        "        total_loss = 0\n",
        "        progress_bar = tqdm(train_loader, desc=f\"Epoch {epoch+1}\")\n",
        "\n",
        "        for batch_idx, batch in enumerate(progress_bar):\n",
        "            if epoch == 0 and batch_idx < resume_batch_idx:\n",
        "              continue  # Skip already processed batches\n",
        "            inputs = {\n",
        "                'ocr_input_ids': batch['ocr_input_ids'].to(device),\n",
        "                'ocr_attention_mask': batch['ocr_attention_mask'].to(device),\n",
        "                'images': batch['images'].to(device)\n",
        "            }\n",
        "            labels = batch['labels'].to(device)\n",
        "\n",
        "            # Mixed precision forward\n",
        "            with autocast(device_type=device.type, dtype=torch.float16):\n",
        "                decoder_attention_mask = batch['ocr_input_ids'].eq(tokenizer.pad_token_id).to(device)\n",
        "\n",
        "                if 'attention_mask' in batch and batch['attention_mask'] is not None:\n",
        "                    batch['attention_mask'] = batch['attention_mask'].bool()\n",
        "\n",
        "                if 'decoder_attention_mask' in batch and batch['decoder_attention_mask'] is not None:\n",
        "                    batch['decoder_attention_mask'] = batch['decoder_attention_mask'].bool()\n",
        "\n",
        "                outputs = model(\n",
        "                  input_ids=batch['ocr_input_ids'].to(device),\n",
        "                  images=batch['images'].to(device),\n",
        "                  decoder_input_ids=batch['decoder_input_ids'].to(device),\n",
        "                  attention_mask=batch['ocr_attention_mask'].bool().to(device),\n",
        "                  decoder_attention_mask=decoder_attention_mask,\n",
        "                  ocr_chunk_indices=batch['ocr_chunk_indices'].to(device),\n",
        "                  num_real_images=batch['num_real_images']\n",
        "                )\n",
        "                loss = loss_fn(outputs.view(-1, outputs.size(-1)), labels.view(-1))\n",
        "                loss = loss/config.grad_accum_steps #for gradient accumulation\n",
        "            # Visualization at regular intervals\n",
        "            count += 1\n",
        "            if count % 1 == 0:\n",
        "                print(f\"Global step {global_step}\")\n",
        "\n",
        "                # Get predictions\n",
        "                with torch.no_grad():\n",
        "                    predicted_ids = outputs.argmax(dim=-1)\n",
        "\n",
        "                # Decode inputs, targets, and predictions\n",
        "                ocr_input_text = tokenizer.batch_decode(batch['ocr_input_ids'], skip_special_tokens=False)\n",
        "                decoder_input_text = tokenizer.batch_decode(batch['decoder_input_ids'], skip_special_tokens=False)\n",
        "                predicted_text = tokenizer.batch_decode(predicted_ids, skip_special_tokens=True)\n",
        "\n",
        "                # Handle labels for decoding\n",
        "                labels_for_decode = batch['labels'].clone()\n",
        "                labels_for_decode[labels_for_decode == -100] = tokenizer.pad_token_id\n",
        "                target_text = tokenizer.batch_decode(labels_for_decode, skip_special_tokens=True)\n",
        "\n",
        "                # Print visualization\n",
        "                print(\"\\n [Visualization]\")\n",
        "                print(f\" Input         : {ocr_input_text[0]}\")\n",
        "                print(f\" Target        : {target_text[0]}\")\n",
        "                print(f\" Decoder Input : {decoder_input_text[0]}\")\n",
        "                print(f\" Predicted     : {predicted_text[0]}\")\n",
        "\n",
        "            # Backward pass\n",
        "            scaler.scale(loss).backward()\n",
        "\n",
        "            # Optimize\n",
        "            if (batch_idx + 1) % config.grad_accum_steps == 0:\n",
        "                scaler.step(optimizer)\n",
        "                scaler.update()\n",
        "                optimizer.zero_grad()\n",
        "                global_step += 1\n",
        "\n",
        "            total_loss += loss.item()\n",
        "            progress_bar.set_postfix({'loss': f\"{loss.item():.4f}\"})\n",
        "\n",
        "            if global_step % 10 == 0:\n",
        "              if global_step == 0:\n",
        "                continue\n",
        "              torch.save({\n",
        "                        'epoch': epoch,\n",
        "                        'model_state_dict': model.state_dict(),\n",
        "                        'optimizer_state_dict': optimizer.state_dict(),\n",
        "                        'scaler_state_dict': scaler.state_dict(),\n",
        "                        'step': global_step,\n",
        "                        'batch_idx': batch_idx\n",
        "\n",
        "                    }, f\"{config.save_path}/checkpoint_weight1.pt\")\n",
        "\n",
        "        torch.save({\n",
        "            'epoch': epoch,\n",
        "            'model_state_dict': model.state_dict(),\n",
        "            'optimizer_state_dict': optimizer.state_dict(),\n",
        "            'scaler_state_dict': scaler.state_dict(),\n",
        "            'train_loss': total_loss/len(train_loader),\n",
        "            # 'val_loss': val_loss,\n",
        "            'step': global_step\n",
        "        }, f\"{config.save_path}/checkpoint_weight1.pt\")\n",
        "\n",
        "    return model\n"
      ]
    },
    {
      "cell_type": "code",
      "execution_count": null,
      "metadata": {
        "colab": {
          "base_uri": "https://localhost:8080/",
          "height": 1000
        },
        "id": "d6XsSq06NMPD",
        "outputId": "1b1461d0-6d75-43b7-e30c-b92c8125e614"
      },
      "outputs": [
        {
          "output_type": "stream",
          "name": "stdout",
          "text": [
            "Loaded pretrained CustomBART weights from /content/drive/MyDrive/multimodal_summarization/xsum_step_4500_1745223373.pt\n"
          ]
        },
        {
          "output_type": "stream",
          "name": "stderr",
          "text": [
            "<ipython-input-22-dd2da07f31a2>:8: FutureWarning: `torch.cuda.amp.GradScaler(args...)` is deprecated. Please use `torch.amp.GradScaler('cuda', args...)` instead.\n",
            "  scaler = torch.cuda.amp.GradScaler()\n"
          ]
        },
        {
          "output_type": "stream",
          "name": "stdout",
          "text": [
            "resume_batch_idx =  879\n",
            "631\n"
          ]
        },
        {
          "output_type": "stream",
          "name": "stderr",
          "text": [
            "\rEpoch 1:   0%|          | 0/91 [00:00<?, ?it/s]/usr/local/lib/python3.11/dist-packages/torch/nn/functional.py:5962: UserWarning: Support for mismatched key_padding_mask and attn_mask is deprecated. Use same type for both instead.\n",
            "  warnings.warn(\n"
          ]
        },
        {
          "output_type": "stream",
          "name": "stdout",
          "text": [
            "Global step 631\n",
            "\n",
            "🔍 [Visualization]\n",
            "📝 Input         : <s>Eae ee DOSE GOR the GME We NOT BEN bade mPEW-THOUBAND DOLLARS WA sneer YEAR.IT'S BEEN JEN SINCE Z WENT HUNTING, BUT... _ IZ; TRY NOT TO 7H 'I ABOUT It t HEATHER, LOT EASIER YOU\" TAKE, IT ONE pay KNOW, IT'S pune Bay Brace fain Cte eran TO MAC wwe Fins' \"ere OF COURSE, IF HE HADN'T CONG 'THAT HEP STILL STILL BE. IK THAT WAY, ea seen ALL UNFORTUNATELY THAT. WORK FOR ENERY- ONE, JUDD. T WAS RAISED ALWAYS TO PLAN AHEAD, ALWAYS TO HAVE EVERY TINGENCY ACCOUNTED DOESN'T HESE CIR Wwe SONG 1O ANYTHING TO ANGE, one ae OR THE IMSTANCES, y, How OLD ARE You/HEATHER? IENTY-EIGHT? TWENTY-NINE? AND YOU TALK Like You'Re LOCKED INTo PATTERNS THAT WOULD TAKE A LIFE TA TO BUILD <A IAUCH ONGER CIFE-TIME THAN YOUN T UNDeR- ens\" a YOU'RE UGH) MAY THAN SH? BUT VER_MBAR A TRUER WORD THAN Ww DP atgane oF TIONS ARG STILL ENDLESS, z WAS pee la arta) EADY TO FALL ON HIS rene OVER THEM MESS HOUGHT HE'D GOT hin ELF INTO, BUT I PULLED HIM OUT OF HIS FUNK, AND WHEN HE GOT HIS SIGHTS REALIGNED HE WENT RIGHT ON IND AS TO MAC BEING E Vier rola a NN But gv z We LWA iwane\" PELT...Eae ee DOSE GOR the GME We NOT BEN bade mPEW-THOUBAND DOLLARS WA sneer YEAR.IT'S BEEN JEN SINCE Z WENT HUNTING, BUT... _ IZ; TRY NOT TO 7H 'I ABOUT It t HEATHER, LOT EASIER YOU\" TAKE, IT ONE pay KNOW, IT'S pune Bay Brace fain Cte eran TO MAC wwe Fins' \"ere OF COURSE, IF HE HADN'T CONG 'THAT HEP STILL STILL BE. IK THAT WAY, ea seen ALL UNFORTUNATELY THAT. WORK FOR ENERY- ONE, JUDD. T WAS RAISED ALWAYS TO PLAN AHEAD, ALWAYS TO HAVE EVERY TINGENCY ACCOUNTED DOESN'T HESE CIR Wwe SONG 1O ANYTHING TO ANGE, one ae OR THE IMSTANCES, y, How OLD ARE You/HEATHER? IENTY-EIGHT? TWENTY-NINE? AND YOU TALK Like You'Re LOCKED INTo PATTERNS THAT WOULD TAKE A LIFE TA TO BUILD <A IAUCH ONGER CIFE-TIME THAN YOUN T UNDeR- ens\" a YOU'RE UGH) MAY THAN SH? BUT VER_MBAR A TRUER WORD THAN Ww DP atgane oF TIONS ARG STILL ENDLESS, z WAS pee la arta) EADY TO FALL ON HIS rene OVER THEM MESS HOUGHT HE'D GOT h\n",
            "🎯 Target        : Heather is at loose ends, and despite doing the best she can to pull together the shattered pieces of her life, the going has not been easy. Already deep in conversation, Heather mentions that she has a few thousand in savings, but it wouldn’t be enough to last out the year. She thinks that it has been ten years since she went job hunting last. Puck tries to comfort her, telling her not to worry about it, and tells her life is a lot easier if you take it one day at a time. Heather picks up her cup of tea and tells her friend that unfortunately, it doesn’t work that way for everyone. She tells him that she was raised to always plan ahead, to always have everything accounted for, and that it is not easy to become a free spirit after all these years, especially under these circumstances she adds. Judd asks Heather how old she is and tells her she is talking as if she is locked into patterns that would take a lifetime to build, a much longer lifetime than you have had time to build he adds. Puck tells Heather he understands what she is going through, perhaps better than she would think, and he adds that she will never hear a truer word from him than when he tells her that her options are endless. Heather seems to perk up a little bit, and smiles, telling Judd that hearing him say that reminds her of something she said to Mac not long after they first met. Heather recalls that Mac was moping around ready to “fall on his sword” over the mess he had got himself into, but she pulled him out of it, and when he got his life together, he went on to become Guardian, leader of Alpha Flight! Heather folds her arms on the restaurant table and looks down, saying that if he never did that, he would still be alive…. Judd tells her not to think that way, and reminds her he has been all over the world, seen things others have never dreamed of, and learned that everyone has a time, which in all their years, can not do a thing to change. Judd starts to comment on Heather saying that Mac was leader, while Judd seemed to think otherwise, when suddenly, a loud scream is heard from nearby the restaurant. Heather leaps up from her chair and wonders what is going on, and Judd thinks that it is a woman screaming, and not a “good time” scream either. Judd announces that someone is in trouble and tells Heather to stay where she is. Following Judd out of the restaurant, Heather says ‘Not likely’ and adds that she wants to know what is going on, Judd agrees, but tells Heather to stay out of harms way. Near the lake, strangers who were only out for a good time all become a crowd of people gathering for a look at what is going on, the sudden scream bonded them. Judd pushes through the crowd, and someone gets mad at him asking who he is shoving. While the crowd formed a half circle around the edge of the lake, Judd stands separate from them, and approaches the woman trembling beside the water. Judd carefully asks her what is wrong, and if she is all right, but the woman just shakes, stares at the water and repeats ‘No No No No No’ over and over again. Judd grabs her by the shoulders and snaps her out of it, trying to calm her down, he asks her again what happened. The woman cries for her baby, and proclaims that something in the water took her baby. She says that she was just walking by with her baby, Timmy, in his stroller…the woman kneels to the ground and puts her hands over her head, repeating ‘No’ over and over again. P\n",
            "🤖 Decoder Input : <s><s>Heather is at loose ends, and despite doing the best she can to pull together the shattered pieces of her life, the going has not been easy. Already deep in conversation, Heather mentions that she has a few thousand in savings, but it wouldn’t be enough to last out the year. She thinks that it has been ten years since she went job hunting last. Puck tries to comfort her, telling her not to worry about it, and tells her life is a lot easier if you take it one day at a time. Heather picks up her cup of tea and tells her friend that unfortunately, it doesn’t work that way for everyone. She tells him that she was raised to always plan ahead, to always have everything accounted for, and that it is not easy to become a free spirit after all these years, especially under these circumstances she adds. Judd asks Heather how old she is and tells her she is talking as if she is locked into patterns that would take a lifetime to build, a much longer lifetime than you have had time to build he adds. Puck tells Heather he understands what she is going through, perhaps better than she would think, and he adds that she will never hear a truer word from him than when he tells her that her options are endless. Heather seems to perk up a little bit, and smiles, telling Judd that hearing him say that reminds her of something she said to Mac not long after they first met. Heather recalls that Mac was moping around ready to “fall on his sword” over the mess he had got himself into, but she pulled him out of it, and when he got his life together, he went on to become Guardian, leader of Alpha Flight! Heather folds her arms on the restaurant table and looks down, saying that if he never did that, he would still be alive…. Judd tells her not to think that way, and reminds her he has been all over the world, seen things others have never dreamed of, and learned that everyone has a time, which in all their years, can not do a thing to change. Judd starts to comment on Heather saying that Mac was leader, while Judd seemed to think otherwise, when suddenly, a loud scream is heard from nearby the restaurant. Heather leaps up from her chair and wonders what is going on, and Judd thinks that it is a woman screaming, and not a “good time” scream either. Judd announces that someone is in trouble and tells Heather to stay where she is. Following Judd out of the restaurant, Heather says ‘Not likely’ and adds that she wants to know what is going on, Judd agrees, but tells Heather to stay out of harms way. Near the lake, strangers who were only out for a good time all become a crowd of people gathering for a look at what is going on, the sudden scream bonded them. Judd pushes through the crowd, and someone gets mad at him asking who he is shoving. While the crowd formed a half circle around the edge of the lake, Judd stands separate from them, and approaches the woman trembling beside the water. Judd carefully asks her what is wrong, and if she is all right, but the woman just shakes, stares at the water and repeats ‘No No No No No’ over and over again. Judd grabs her by the shoulders and snaps her out of it, trying to calm her down, he asks her again what happened. The woman cries for her baby, and proclaims that something in the water took her baby. She says that she was just walking by with her baby, Timmy, in his stroller…the woman kneels to the ground and puts her hands over her head, repeating ‘No’ over and over again. P\n",
            "🤖 Predicted     : The is is about the ends, and he the so same thing could to the him, world remains of his.. she X to been been able. he down the, she tells that she is been lot things years the. and she is't�t be easy to make year. whole. She is that she� been a years since she was to. her night Sheuck is to get her, but her she to let about her. but that her she she a good of to she don her. of. a time. She tells up a phone of coffee and tells her she she she she she is’t seem. way. her. She tells her that she is going by the be for of and be be to she for her and that she is a the to tell a member agent. all. years. and when the circumstances. is. She is if if she she is. how her to is going about a she is going up a. she be her lot. her a and way- life. she. been to to work.�. Sheuck asks her that is that she is doing to. and because than the is have. but tells tells that she is be be him thingidentite. the. she she is her. she life are to. She tells to be up and bit bit more but tells at and her that she is that that she him that the she is she him, to enough she were met. She tells that she not aocks, the to be�em the the own”. the nextiah was with. into. and he is him out of the. and that he was to hands back, he was to to say a� and of the,. tells his arms around his ground,, tells at at and that she she was knew it, he would have be able. tells her that to worry about she, and that her that is to a the the world. and the like. been been of. and that that it is had lot to and is the of lives. is be be anything thing. stop the She tells to talk, the that that he is a of but he tells to be that. and he, and little, at heard, the, crowd, She tells to and the bed and tells what she happening on. and asks is that she is a good., and that to woman�good�”.,. She tells that she is a the. that her that be away she is. the,, the restaurant, she is that�I what,�s asks that she is to be what she going on. and,, and that her to get away of the�, She the restaurant, and, are doing a of the while time, the a little, the, up her place at the is going on. and others,, to. She asks the the restaurant. and asks is a. the. what is is.oving the She, door,, group-, the table of the crowd, and tells, from the, and asks the crowd,, her table, She asks, if to she going, and asks she is going right. and she way is a her and her the water. asks.�I one,,, one�t, asks.. She tells the. her water, tells her.. the. and to stop... and tells her.. she, She woman asks out a,, and tells,, she is a water, her., tells that she is a a, the her,, and,, and the eyesings, she baby,els, her water, she her.. her., and that�I.�s the she her,�\n"
          ]
        },
        {
          "output_type": "stream",
          "name": "stderr",
          "text": [
            "Epoch 1:   1%|          | 1/91 [00:56<1:24:48, 56.54s/it, loss=1.1185]/usr/local/lib/python3.11/dist-packages/torch/nn/functional.py:5962: UserWarning: Support for mismatched key_padding_mask and attn_mask is deprecated. Use same type for both instead.\n",
            "  warnings.warn(\n",
            "Epoch 1:   2%|▏         | 2/91 [01:58<1:28:57, 59.97s/it, loss=1.1685]"
          ]
        },
        {
          "output_type": "stream",
          "name": "stdout",
          "text": [
            "Global step 631\n",
            "\n",
            "🔍 [Visualization]\n",
            "📝 Input         : <s>Wae as REASON.\" AS NO NEED FOR = a) VIOLENCE AMONGST g, FRIENDS. HE'S RIGHT. THIS I5 REALLY FOR THE BEST. LOOKS LIKE THE WORST TO ME. AND I THINK WE'VE SEEN fs ENOUGH.Wae as REASON.\" AS NO NEED FOR = a) VIOLENCE AMONGST g, FRIENDS. HE'S RIGHT. THIS I5 REALLY FOR THE BEST. LOOKS LIKE THE WORST TO ME. AND I THINK WE'VE SEEN fs ENOUGH.THOUGH NOT ADVISABLE FOR THE NOVICE, IT IS POSSIBLE, IN AN EMERGENCY... <+.TO CLIMB ONE OF THE LADDERS THAT EXIST IN THE MARGINALIA... «AND MOVE SWIFTLY. THROUGH THE NARRATIVE OF THE REAL WORLD. GO ON, JEAN. GIVE YOUR YOUNGER SELF A LESSON... Goud! KITTY FUTURE...!THOUGH NOT ADVISABLE FOR THE NOVICE, IT IS POSSIBLE, IN AN EMERGENCY... <+.TO CLIMB ONE OF THE LADDERS THAT EXIST IN THE MARGINALIA... «AND MOVE SWIFTLY. THROUGH THE NARRATIVE OF THE REAL WORLD. GO ON, JEAN. GIVE YOUR YOUNGER SELF A LESSON... Goud! KITTY FUTURE...!</s><pad><pad><pad><pad><pad><pad><pad><pad><pad><pad><pad><pad><pad><pad><pad><pad><pad><pad><pad><pad><pad><pad><pad><pad><pad><pad><pad><pad><pad><pad><pad><pad><pad><pad><pad><pad><pad><pad><pad><pad><pad><pad><pad><pad><pad><pad><pad><pad><pad><pad><pad><pad><pad><pad><pad><pad><pad><pad><pad><pad><pad><pad><pad><pad><pad><pad><pad><pad><pad><pad><pad><pad><pad><pad><pad><pad><pad><pad><pad><pad><pad><pad><pad><pad><pad><pad><pad><pad><pad><pad><pad><pad><pad><pad><pad><pad><pad><pad><pad><pad><pad><pad><pad><pad><pad><pad><pad><pad><pad><pad><pad><pad><pad><pad><pad><pad><pad><pad><pad><pad><pad><pad><pad><pad><pad><pad><pad><pad><pad><pad><pad><pad><pad><pad><pad><pad><pad><pad><pad><pad><pad><pad><pad><pad><pad><pad><pad><pad><pad><pad><pad><pad><pad><pad><pad><pad><pad><pad><pad><pad><pad><pad><pad><pad><pad><pad><pad><pad><pad><pad><pad><pad><pad><pad><pad><pad><pad><pad><pad><pad><pad><pad><pad><pad><pad><pad><pad><pad><pad><pad><pad><pad><pad><pad><pad><pad><pad><pad><pad><pad><pad><pad><pad><pad><pad><pad><pad><pad><pad><pad><pad><pad><pad><pad><pad><pad><pad><pad><pad><pad><pad><pad><pad><pad><pad><pad><pad><pad><pad><pad><pad><pad><pad><pad><pad><pad><pad><pad><pad><pad><pad><pad><pad><pad><pad><pad><pad><pad><pad><pad><pad><pad><pad><pad><pad><pad><pad><pad><pad><pad><pad><pad><pad><pad><pad><pad><pad><pad><pad><pad><pad><pad><pad><pad><pad><pad><pad><pad><pad><pad><pad><pad><pad><pad><pad><pad><pad><pad><pad><pad><pad><pad><pad><pad><pad><pad><pad><pad><pad><pad><pad><pad><pad><pad><pad><pad><pad><pad><pad><pad><pad><pad><pad><pad><pad><pad><pad><pad><pad><pad><pad><pad><pad><pad><pad><pad><pad><pad><pad><pad><pad><pad><pad><pad><pad><pad><pad><pad><pad><pad><pad><pad><pad><pad><pad><pad><pad><pad><pad><pad><pad><pad><pad><pad><pad><pad><pad><pad><pad><pad><pad><pad><pad><pad><pad><pad><pad><pad><pad><pad><pad><pad><pad><pad><pad><pad><pad><pad><pad><pad><pad><pad><pad><pad><pad><pad><pad><pad><pad><pad><pad><pad><pad><pad><pad><pad><pad><pad><pad><pad><pad><pad><pad><pad><pad><pad><pad><pad><pad><pad><pad><pad><pad><pad><pad><pad><pad><pad><pad><pad><pad><pad><pad><pad><pad><pad><pad><pad><pad><pad><pad><pad><pad><pad><pad><pad><pad><pad><pad><pad><pad><pad><pad><pad><pad><pad><pad><pad><pad><pad><pad><pad><pad><pad><pad><pad>\n",
            "🎯 Target        : She loves him. “Let’s nuzzle each other untilour noses develop blisters.” He erases what young Cyclops said about Kitty. Suddenly an alarm goes off, screaming Bobby probably isn’t going to like this. Elsewhere, Kitty and Rachel are in a flying car on their way to find Scott and Jean. Bobby probably isn’t going to like this, Rachel points out. That’s Bobby’s problem, Kitty retorts. Rachel remarks that she thought Kitty liked him. That he was fun and uncomplicated. Kitty muses things may have gotten more complicated. How? Rachel asks. It’s like he’s put a spell on her. She can’t stop thinking about him. And wishes she could. Who? Rachel scoffs. Has she been seeing Pete Wisdom again? If only it were that simple, Kitty sighs. Rachel announces they’ve arrived. They see the X-Men of the present and future have surrounded Jean and Scott. As they fly the flying car at the Ice-Hulk, Doop happily films the scene, after which he then climbs through the marginalia to save time. He arrives later when future Kate Pryde cheers her Jean to give her younger self a lesson she won’t forget. Kitty and Rachel conspire to attack future Kate, who angrily shouts at them she knows they are planning something. Doop grabs Kate and takes her into the Marginalia. The Marginalia:Kate is initially confused and, while she is trying to play along, Doop soon realizes she has no idea what he is talking about, doesn’t even know who he is. When he confronts her, she angrily shows her true face, that of Raze, and stabs Doop with his claws. Doop realizes the other future X-Men could be impostors as well. This might become a little confusing.\n",
            "🤖 Decoder Input : <s><s>She loves him. “Let’s nuzzle each other untilour noses develop blisters.” He erases what young Cyclops said about Kitty. Suddenly an alarm goes off, screaming Bobby probably isn’t going to like this. Elsewhere, Kitty and Rachel are in a flying car on their way to find Scott and Jean. Bobby probably isn’t going to like this, Rachel points out. That’s Bobby’s problem, Kitty retorts. Rachel remarks that she thought Kitty liked him. That he was fun and uncomplicated. Kitty muses things may have gotten more complicated. How? Rachel asks. It’s like he’s put a spell on her. She can’t stop thinking about him. And wishes she could. Who? Rachel scoffs. Has she been seeing Pete Wisdom again? If only it were that simple, Kitty sighs. Rachel announces they’ve arrived. They see the X-Men of the present and future have surrounded Jean and Scott. As they fly the flying car at the Ice-Hulk, Doop happily films the scene, after which he then climbs through the marginalia to save time. He arrives later when future Kate Pryde cheers her Jean to give her younger self a lesson she won’t forget. Kitty and Rachel conspire to attack future Kate, who angrily shouts at them she knows they are planning something. Doop grabs Kate and takes her into the Marginalia. The Marginalia:Kate is initially confused and, while she is trying to play along, Doop soon realizes she has no idea what he is talking about, doesn’t even know who he is. When he confronts her, she angrily shows her true face, that of Raze, and stabs Doop with his claws. Doop realizes the other future X-Men could be impostors as well. This might become a little confusing.</s><pad><pad><pad><pad><pad><pad><pad><pad><pad><pad><pad><pad><pad><pad><pad><pad><pad><pad><pad><pad><pad><pad><pad><pad><pad><pad><pad><pad><pad><pad><pad><pad><pad><pad><pad><pad><pad><pad><pad><pad><pad><pad><pad><pad><pad><pad><pad><pad><pad><pad><pad><pad><pad><pad><pad><pad><pad><pad><pad><pad><pad><pad><pad><pad><pad><pad><pad><pad><pad><pad><pad><pad><pad><pad><pad><pad><pad><pad><pad><pad><pad><pad><pad><pad><pad><pad><pad><pad><pad><pad><pad><pad><pad><pad><pad><pad><pad><pad><pad><pad><pad><pad><pad><pad><pad><pad><pad><pad><pad><pad><pad><pad><pad><pad><pad><pad><pad><pad><pad><pad><pad><pad><pad><pad><pad><pad><pad><pad><pad><pad><pad><pad><pad><pad><pad><pad><pad><pad><pad><pad><pad><pad><pad><pad><pad><pad><pad><pad><pad><pad><pad><pad><pad><pad><pad><pad><pad><pad><pad><pad><pad><pad><pad><pad><pad><pad><pad><pad><pad><pad><pad><pad><pad><pad><pad><pad><pad><pad><pad><pad><pad><pad><pad><pad><pad><pad><pad><pad><pad><pad><pad><pad><pad><pad><pad><pad><pad><pad><pad><pad><pad><pad><pad><pad><pad><pad><pad><pad><pad><pad><pad><pad><pad><pad><pad><pad><pad><pad><pad><pad><pad><pad><pad><pad><pad><pad><pad><pad><pad><pad><pad><pad><pad><pad><pad><pad><pad><pad><pad><pad><pad><pad><pad><pad><pad><pad><pad><pad><pad><pad><pad><pad><pad><pad><pad><pad><pad><pad><pad><pad><pad><pad><pad><pad><pad><pad><pad><pad><pad><pad><pad><pad><pad><pad><pad><pad><pad><pad><pad><pad><pad><pad><pad><pad><pad><pad><pad><pad><pad><pad><pad><pad><pad><pad><pad><pad><pad><pad><pad><pad><pad><pad><pad><pad><pad><pad><pad><pad><pad><pad><pad><pad><pad><pad><pad><pad><pad><pad><pad><pad><pad><pad><pad><pad><pad><pad><pad><pad><pad><pad><pad><pad><pad><pad><pad><pad><pad><pad><pad><pad><pad><pad><pad><pad><pad><pad><pad><pad><pad><pad><pad><pad><pad><pad><pad><pad><pad><pad><pad><pad><pad><pad><pad><pad><pad>\n",
            "🤖 Predicted     : The is him. She�I”s notanny, other. he�..izzard. ” he tellsases his he peopleops is to the� �, image. on. and,,.’t the to be him. �where, he� his are all the coma room. the way. the the. the. � is doesn’t going to be this. but tells out. She’s not,�s the. but andorts. � tells. she is she was the. She� was.. heplicated. She askses that. be been worse fun. She did� asks. She’s a that’s going him hole on her. She�’t be her that her. She she she� have She? She asksoffs. She she?? him�.?� she she is her she. she�s. She tells that’re been. She� her other-Men. the X. the. been the. the. She she are, plane car, the samemanMenulk, they they, asks. X. and a the is tells into the window doors. the the. She is and. he. andling, that to. the her a sister- chance. can’t be. She tells the areort. the her.� who is tells. the.�. are. to. She they is her and the the hand the airar�. otherinalia, � is a,, tells she the� a to the, with andop,. that� to longer. she is a to the she’s be though what is is the She she� her. and can, up. form. the she theict him and tellss handop tells her own are Sheop, that other mutant.-H. be aaledor. she. is be the big girlly She!!�!.),,!!!!!!!.):!!!.)!!.).)!.).).)!g�.).).).).)g.)by.)g.).)by.).)!bygrgg….)!byg.).)gby.)g.)by.).).)!.).)!.).)!.)!.).).)!.).)!.).)!.)!.)!!!!!..... all\n"
          ]
        },
        {
          "output_type": "stream",
          "name": "stderr",
          "text": [
            "/usr/local/lib/python3.11/dist-packages/torch/nn/functional.py:5962: UserWarning: Support for mismatched key_padding_mask and attn_mask is deprecated. Use same type for both instead.\n",
            "  warnings.warn(\n",
            "Epoch 1:   3%|▎         | 3/91 [02:52<1:23:46, 57.12s/it, loss=1.1018]"
          ]
        },
        {
          "output_type": "stream",
          "name": "stdout",
          "text": [
            "Global step 631\n",
            "\n",
            "🔍 [Visualization]\n",
            "📝 Input         : <s>Pf Okay, everyone, just calm down, and everything'll be just creamy filling. == See, folks? Sy. 3 \"a this were ee We're doing great. Vj 77 XE any more damn Just a nice drive J fo» y leisurely, through town. © ye fe NA Idhave to get — golf pants. = Lady, it ain't your stop, so quit yanking that cord or I'm gonna rip it off, wrap it around your eck and pull it till you come toa full and complete _4 stop. APf Okay, everyone, just calm down, and everything'll be just creamy filling. == See, folks? Sy. 3 \"a this were ee We're doing great. Vj 77 XE any more damn Just a nice drive J fo» y leisurely, through town. © ye fe NA Idhave to get — golf pants. = Lady, it ain't your stop, so quit yanking that cord or I'm gonna rip it off, wrap it around your eck and pull it till you come toa full and complete _4 stop. ADanger here, Saguri. He's not yet a devious man, for all his anger. He; believes I am at bB. ©. Al his amusement 4 ZZ That's not what I mean,. \\ and you / / I lll know it. / Your position as our Lord is still perilous. Any sign of weakness... This isn't weakness, Saguri. What I'm about to do requires great courage. Where is Wei-san? Ihave undergone tonsure and tt 3 branding, f Higashi-sama. Try not 7 iS To ann to look too the meaning Tespect: self-satisfied, of this? My Lord.Danger here, Saguri. He's not yet a devious man, for all his anger. He; believes I am at bB. ©. Al his amusement 4 ZZ That's not what I mean,. \\ and you / / I lll know it. / Your position as our Lord is still perilous. Any sign of weakness... This isn't weakness, Saguri. What I'm about to do requires great courage. Where is Wei-san? Ihave undergone tonsure and tt 3 branding, f Higashi-sama. Try not 7 iS To ann to look too the meaning Tespect: self-satisfied, of this? My Lord.SN/ Open the door, \\ YN please, Miss \\ Brandenburg... 7st xi = this. Tim trying to concentrate eee on ny rs 3, Here,</s><pad><pad><pad><pad><pad><pad><pad><pad><pad><pad><pad><pad><pad><pad><pad><pad><pad><pad><pad><pad><pad><pad><pad><pad><pad><pad><pad><pad><pad><pad><pad><pad><pad><pad><pad><pad><pad><pad><pad><pad><pad><pad><pad><pad><pad><pad><pad><pad><pad><pad><pad><pad><pad><pad><pad><pad><pad><pad><pad><pad><pad><pad><pad><pad><pad><pad><pad><pad><pad><pad><pad><pad><pad><pad><pad><pad><pad><pad><pad><pad><pad><pad><pad><pad><pad><pad><pad><pad><pad><pad><pad><pad><pad><pad><pad><pad><pad><pad><pad><pad><pad><pad><pad><pad><pad><pad><pad><pad><pad><pad><pad><pad><pad><pad><pad><pad><pad><pad><pad><pad><pad><pad><pad><pad><pad><pad><pad><pad><pad><pad><pad><pad><pad><pad><pad><pad><pad><pad><pad><pad><pad><pad><pad><pad><pad><pad><pad><pad><pad><pad><pad><pad><pad><pad><pad><pad><pad><pad><pad><pad><pad><pad><pad><pad><pad><pad><pad><pad><pad><pad><pad><pad><pad><pad><pad><pad><pad><pad><pad><pad><pad><pad><pad><pad><pad><pad><pad><pad><pad><pad><pad><pad><pad><pad><pad><pad><pad><pad><pad><pad><pad><pad><pad><pad><pad><pad><pad><pad><pad><pad><pad><pad><pad><pad><pad><pad><pad><pad><pad>\n",
            "🎯 Target        : One passenger repeatedly pulls the cord, but Alex ignores her, telling her it isn’t her stop yet. The bus pushes all cars in their way to the side, but the woman still pulls the chord. Alex then pulls out his gun and tells her to quit yanking the chord, or else he’ll rip it off, wrap it around her neck and pull it till she comes to her full ad complete stop. Now with that distraction dealt with, Alex notes to himself that those sea monkeys can really come back on a guy. Sitting in a limousine, Saguri tells Higashi that she doesn’t approve, but Higashi replies that he is perfectly safe – as Alex thins he is at the amusement park, where they in fact are not. Saguri was talking about another matter though, she meant that Higashi’s position is still perilous and he shouldn’t show any sign of weakness. They get out of the car, where they find Wei and other underbosses waiting for them. Wei has shaved off his hair and is sporting tattoo on his bald head, a similar one like Higashi’s. Higashi wants to know the meaning of this, and Wei explains that it is a means to show his loyalty towards Higashi, and that several of the men have done the same. Higashi looks pleased, but Saguri tells him to not look too satisfied. The group makes their way from the parking deck to the door of an apartment – Sandi’s apartment. Higashi rinds the bell, but through the spyhole, Sandi identifies her visitors and refuses to open. She decides to call Alex. In the bus, Alex tells Mary to answer his phone. Mary takes it and hearing a female voice on the other end, she assumes that it is Alex‘ girlfriend. Though uncertain wether Sandi will actually hear her or not, Mary says that she and Alex are in love and that he doesn’t want to see her again. Mary hangs up, and hands the phone back to Alex, says that somebody just dialed the wrong number. Having reached the entrance to Alpine Park, Alex stops the bus and tells everybody, including Mary, to get out. He then drives into the park’s center, where a fire is raging. Seeing this, one of the passengers wonders wether they should call the fire Department. Another one says he just did, but that the fire department answered that they already knew about it. He doesn’t think that they are going to come.\n",
            "🤖 Decoder Input : <s><s>One passenger repeatedly pulls the cord, but Alex ignores her, telling her it isn’t her stop yet. The bus pushes all cars in their way to the side, but the woman still pulls the chord. Alex then pulls out his gun and tells her to quit yanking the chord, or else he’ll rip it off, wrap it around her neck and pull it till she comes to her full ad complete stop. Now with that distraction dealt with, Alex notes to himself that those sea monkeys can really come back on a guy. Sitting in a limousine, Saguri tells Higashi that she doesn’t approve, but Higashi replies that he is perfectly safe – as Alex thins he is at the amusement park, where they in fact are not. Saguri was talking about another matter though, she meant that Higashi’s position is still perilous and he shouldn’t show any sign of weakness. They get out of the car, where they find Wei and other underbosses waiting for them. Wei has shaved off his hair and is sporting tattoo on his bald head, a similar one like Higashi’s. Higashi wants to know the meaning of this, and Wei explains that it is a means to show his loyalty towards Higashi, and that several of the men have done the same. Higashi looks pleased, but Saguri tells him to not look too satisfied. The group makes their way from the parking deck to the door of an apartment – Sandi’s apartment. Higashi rinds the bell, but through the spyhole, Sandi identifies her visitors and refuses to open. She decides to call Alex. In the bus, Alex tells Mary to answer his phone. Mary takes it and hearing a female voice on the other end, she assumes that it is Alex‘ girlfriend. Though uncertain wether Sandi will actually hear her or not, Mary says that she and Alex are in love and that he doesn’t want to see her again. Mary hangs up, and hands the phone back to Alex, says that somebody just dialed the wrong number. Having reached the entrance to Alpine Park, Alex stops the bus and tells everybody, including Mary, to get out. He then drives into the park’s center, where a fire is raging. Seeing this, one of the passengers wonders wether they should call the fire Department. Another one says he just did, but that the fire department answered that they already knew about it. He doesn’t think that they are going to come.</s><pad><pad><pad><pad><pad><pad><pad><pad><pad><pad><pad><pad><pad><pad><pad><pad><pad><pad><pad><pad><pad><pad><pad><pad><pad><pad><pad><pad><pad><pad><pad><pad><pad><pad><pad><pad><pad><pad><pad><pad><pad><pad><pad><pad><pad><pad><pad><pad><pad><pad><pad><pad><pad><pad><pad><pad><pad><pad><pad><pad><pad><pad><pad><pad><pad><pad><pad><pad><pad><pad><pad><pad><pad><pad><pad><pad><pad><pad><pad><pad><pad><pad><pad><pad><pad><pad><pad><pad><pad><pad><pad><pad><pad><pad><pad><pad><pad><pad><pad><pad><pad><pad><pad><pad><pad><pad><pad><pad><pad><pad><pad><pad><pad><pad><pad><pad><pad><pad><pad><pad><pad><pad><pad><pad><pad><pad><pad><pad><pad><pad><pad><pad><pad><pad><pad><pad><pad><pad><pad><pad><pad><pad><pad><pad><pad><pad><pad><pad><pad><pad><pad><pad><pad><pad><pad><pad><pad><pad><pad><pad><pad><pad><pad><pad><pad><pad><pad><pad><pad><pad><pad><pad><pad><pad><pad><pad><pad><pad><pad><pad><pad><pad><pad><pad><pad><pad><pad><pad><pad><pad><pad><pad><pad><pad><pad><pad><pad><pad><pad><pad><pad><pad><pad><pad><pad><pad><pad><pad><pad><pad><pad><pad><pad><pad><pad><pad><pad><pad><pad><pad><pad><pad><pad><pad><pad><pad><pad><pad><pad><pad><pad><pad><pad><pad><pad><pad><pad><pad><pad><pad><pad>\n",
            "🤖 Predicted     : He of, asks the door from and the is the and and her that is't�t a fault.. She driver stops through the to the cars, the train of and the driver is has out cord out The and tells the of helmet, tells her that stop.anking it cord. and to she’ll be the.. and it around her.. pull it out the is to the. heightoration.. She, the,, with the she tells that the that he two- are't be to to the planet. She, the smallousine, the and tells him that that he is’t know of and thatashi is that she� not safe. and he isom from�. the end park. and he are the are.. Heuri tells the to the man of. and has to sheashi was�s got. not in. that�’t be up signs of his. She have to of here car and and they are themselvesar the people-.. for them. The and been his the helmet and tells surprised aed his face head. and little image. theashi.�s head Heashi is to know what truth of the. but she is that he� a good of be that true to theashi� who that he people the other are been the same thing Heashi is up with and heuri is him that be be like pleased. He man is a way through the car lot, the car, the alley, anding,�s body – Theashi tellsipsy, door and and he the windowhole, thei� him as. the to speak the The tells to tell her a She the meantime, she asks her to stay, questions, tells the to tells that call voice calls the door side of and tells that she is a’s. She she,andasi� be be the voice her. she tells. she is her are going danger. she she is’t want to talk her again. She tells up, and tells him door on to her� who that she is wantss her door way. She, the door door the,, she tells. phone, tells her she she the to who which a of She tells asks the the car,�s apartment, and she man broke lit. He the, he of the men asks whatethering� be him door., of of that is wants not and he he driver is is, he are know. it. is’t know he he� going to be back The!!!!!!!.)!!.!!…!!!!….)!….!!!!…!………!!!!!…!…...……………….…………………………!…...……............…............\n"
          ]
        },
        {
          "output_type": "stream",
          "name": "stderr",
          "text": [
            "/usr/local/lib/python3.11/dist-packages/torch/nn/functional.py:5962: UserWarning: Support for mismatched key_padding_mask and attn_mask is deprecated. Use same type for both instead.\n",
            "  warnings.warn(\n"
          ]
        },
        {
          "output_type": "stream",
          "name": "stdout",
          "text": [
            "Global step 631\n",
            "\n",
            "🔍 [Visualization]\n",
            "📝 Input         : <s>DESTRUCTION --- AND HIS RAGGED BREATH AS HE COMES FOR THE KILL -~DESTRUCTION --- AND HIS RAGGED BREATH AS HE COMES FOR THE KILL -~TAKE ALOOK, THORITES! ONE S/GURD JUNGER, WITH HIS WIFE AND KIDDIES -- RECOGNIZE THOSE PRETTY BLUE EYES? 7 AND A DOCU- geno MENT ENTITLING HIM TO. ONLY, IT'S. 3 FREE MEDICAL CARE -- AS we aoe mee, WITH S01 u FeRIINT EXPERIMENT! SOME VERY INTERESTING }} IMAGES STORED SIGURO JUNGER,TAKE ALOOK, THORITES! ONE S/GURD JUNGER, WITH HIS WIFE AND KIDDIES -- RECOGNIZE THOSE PRETTY BLUE EYES? 7 AND A DOCU- geno MENT ENTITLING HIM TO. ONLY, IT'S. 3 FREE MEDICAL CARE -- AS we aoe mee, WITH S01 u FeRIINT EXPERIMENT! SOME VERY INTERESTING }} IMAGES STORED SIGURO JUNGER,BUT LAM THE PERFECT i IW! THE GODS WORKE! T\\ THROUGH THE EXPERI- MENT TO MA</s><pad><pad><pad><pad><pad><pad><pad><pad><pad><pad><pad><pad><pad><pad><pad><pad><pad><pad><pad><pad><pad><pad><pad><pad><pad><pad><pad><pad><pad><pad><pad><pad><pad><pad><pad><pad><pad><pad><pad><pad><pad><pad><pad><pad><pad><pad><pad><pad><pad><pad><pad><pad><pad><pad><pad><pad><pad><pad><pad><pad><pad><pad><pad><pad><pad><pad><pad><pad><pad><pad><pad><pad><pad><pad><pad><pad><pad><pad><pad><pad><pad><pad><pad><pad><pad><pad><pad><pad><pad><pad><pad><pad><pad><pad><pad><pad><pad><pad><pad><pad><pad><pad><pad><pad><pad><pad><pad><pad><pad><pad><pad><pad><pad><pad><pad><pad><pad><pad><pad><pad><pad><pad><pad><pad><pad><pad><pad><pad><pad><pad><pad><pad><pad><pad><pad><pad><pad><pad><pad><pad><pad><pad><pad><pad><pad><pad><pad><pad><pad><pad><pad><pad><pad><pad><pad><pad><pad><pad><pad><pad><pad><pad><pad><pad><pad><pad><pad><pad><pad><pad><pad><pad><pad><pad><pad><pad><pad><pad><pad><pad><pad><pad><pad><pad><pad><pad><pad><pad><pad><pad><pad><pad><pad><pad><pad><pad><pad><pad><pad><pad><pad><pad><pad><pad><pad><pad><pad><pad><pad><pad><pad><pad><pad><pad><pad><pad><pad><pad><pad><pad><pad><pad><pad><pad><pad><pad><pad><pad><pad><pad><pad><pad><pad><pad><pad><pad><pad><pad><pad><pad><pad><pad><pad><pad><pad><pad><pad><pad><pad><pad><pad><pad><pad><pad><pad><pad><pad><pad><pad><pad><pad><pad><pad><pad><pad><pad><pad><pad><pad><pad><pad><pad><pad><pad><pad><pad><pad><pad><pad><pad><pad><pad><pad><pad><pad><pad><pad><pad><pad><pad><pad><pad><pad><pad><pad><pad><pad><pad><pad><pad><pad><pad><pad><pad><pad><pad><pad><pad><pad><pad><pad><pad><pad><pad><pad><pad><pad><pad><pad><pad><pad><pad><pad><pad><pad><pad><pad><pad><pad><pad><pad><pad><pad><pad><pad><pad><pad><pad><pad><pad><pad><pad><pad><pad><pad><pad><pad><pad><pad><pad><pad><pad><pad><pad><pad><pad><pad><pad><pad><pad><pad><pad><pad><pad><pad><pad><pad><pad><pad><pad><pad><pad><pad><pad><pad><pad><pad><pad><pad><pad><pad><pad><pad><pad><pad><pad><pad><pad><pad><pad><pad><pad><pad><pad><pad><pad><pad><pad><pad><pad><pad><pad><pad><pad><pad><pad><pad><pad><pad><pad><pad><pad><pad><pad><pad><pad><pad><pad><pad><pad><pad><pad><pad><pad><pad><pad><pad><pad><pad><pad><pad><pad><pad><pad><pad><pad><pad><pad><pad><pad><pad><pad><pad><pad><pad><pad><pad><pad><pad><pad><pad><pad><pad><pad><pad><pad><pad><pad><pad><pad><pad><pad><pad><pad><pad><pad><pad><pad><pad><pad><pad><pad><pad><pad><pad><pad>\n",
            "🎯 Target        : Seeing that the monster is killing even the cultists who are attracted to him, John becomes the Hulk and attacks Sigurd with no effect.\n",
            "🤖 Decoder Input : <s><s>Seeing that the monster is killing even the cultists who are attracted to him, John becomes the Hulk and attacks Sigurd with no effect.</s><pad><pad><pad><pad><pad><pad><pad><pad><pad><pad><pad><pad><pad><pad><pad><pad><pad><pad><pad><pad><pad><pad><pad><pad><pad><pad><pad><pad><pad><pad><pad><pad><pad><pad><pad><pad><pad><pad><pad><pad><pad><pad><pad><pad><pad><pad><pad><pad><pad><pad><pad><pad><pad><pad><pad><pad><pad><pad><pad><pad><pad><pad><pad><pad><pad><pad><pad><pad><pad><pad><pad><pad><pad><pad><pad><pad><pad><pad><pad><pad><pad><pad><pad><pad><pad><pad><pad><pad><pad><pad><pad><pad><pad><pad><pad><pad><pad><pad><pad><pad><pad><pad><pad><pad><pad><pad><pad><pad><pad><pad><pad><pad><pad><pad><pad><pad><pad><pad><pad><pad><pad><pad><pad><pad><pad><pad><pad><pad><pad><pad><pad><pad><pad><pad><pad><pad><pad><pad><pad><pad><pad><pad><pad><pad><pad><pad><pad><pad><pad><pad><pad><pad><pad><pad><pad><pad><pad><pad><pad><pad><pad><pad><pad><pad><pad><pad><pad><pad><pad><pad><pad><pad><pad><pad><pad><pad><pad><pad><pad><pad><pad><pad><pad><pad><pad><pad><pad><pad><pad><pad><pad><pad><pad><pad><pad><pad><pad><pad><pad><pad><pad><pad><pad><pad><pad><pad><pad><pad><pad><pad><pad><pad><pad><pad><pad><pad><pad><pad><pad><pad><pad><pad><pad><pad><pad><pad><pad><pad><pad><pad><pad><pad><pad><pad><pad><pad><pad><pad><pad><pad><pad><pad><pad><pad><pad><pad><pad><pad><pad><pad><pad><pad><pad><pad><pad><pad><pad><pad><pad><pad><pad><pad><pad><pad><pad><pad><pad><pad><pad><pad><pad><pad><pad><pad><pad><pad><pad><pad><pad><pad><pad><pad><pad><pad><pad><pad><pad><pad><pad><pad><pad><pad><pad><pad><pad><pad><pad><pad><pad><pad><pad><pad><pad><pad><pad><pad><pad><pad><pad><pad><pad><pad><pad><pad><pad><pad><pad><pad><pad><pad><pad><pad><pad><pad><pad><pad><pad><pad><pad><pad><pad><pad><pad><pad><pad><pad><pad><pad><pad><pad><pad><pad><pad><pad><pad><pad><pad><pad><pad><pad><pad><pad><pad><pad><pad><pad><pad><pad><pad><pad><pad><pad><pad><pad><pad><pad><pad><pad><pad><pad><pad><pad><pad><pad><pad><pad><pad><pad><pad><pad><pad><pad><pad><pad><pad><pad><pad><pad><pad><pad><pad><pad><pad><pad><pad><pad><pad><pad><pad><pad><pad><pad><pad><pad><pad><pad><pad><pad><pad><pad><pad><pad><pad><pad><pad><pad><pad><pad><pad><pad><pad><pad><pad><pad><pad><pad><pad><pad><pad><pad><pad><pad><pad><pad><pad><pad><pad><pad><pad><pad><pad><pad><pad><pad><pad><pad><pad><pad><pad><pad><pad><pad><pad><pad><pad><pad><pad><pad><pad><pad><pad><pad><pad><pad><pad><pad><pad><pad><pad><pad><pad><pad><pad><pad><pad><pad><pad><pad><pad><pad><pad><pad><pad><pad><pad><pad><pad><pad><pad><pad><pad><pad><pad><pad><pad><pad><pad><pad><pad><pad><pad><pad><pad><pad><pad><pad><pad><pad><pad><pad><pad><pad><pad><pad><pad><pad><pad><pad><pad><pad><pad><pad><pad><pad><pad><pad><pad><pad><pad><pad><pad><pad><pad><pad><pad><pad><pad><pad><pad><pad><pad><pad><pad><pad><pad><pad><pad><pad><pad><pad><pad><pad><pad><pad><pad><pad><pad><pad><pad><pad><pad><pad><pad><pad><pad><pad><pad><pad><pad><pad><pad><pad><pad><pad><pad><pad><pad><pad><pad><pad><pad><pad><pad><pad><pad><pad><pad><pad><pad><pad><pad><pad><pad><pad><pad><pad><pad><pad><pad><pad><pad><pad><pad><pad><pad><pad><pad><pad><pad><pad><pad><pad><pad><pad><pad><pad><pad><pad><pad><pad><pad><pad><pad><pad><pad><pad><pad><pad><pad><pad><pad><pad><pad><pad><pad><pad><pad><pad><pad><pad><pad><pad><pad><pad><pad><pad><pad><pad><pad><pad><pad><pad><pad><pad><pad><pad><pad><pad><pad><pad><pad><pad><pad><pad><pad><pad><pad><pad><pad><pad><pad><pad><pad><pad><pad><pad><pad><pad><pad><pad><pad><pad><pad><pad><pad><pad><pad><pad><pad><pad><pad><pad><pad><pad><pad><pad><pad><pad><pad><pad><pad><pad><pad><pad><pad><pad><pad><pad><pad><pad><pad><pad><pad><pad><pad><pad><pad><pad><pad><pad><pad><pad><pad><pad><pad><pad><pad><pad><pad><pad><pad><pad><pad><pad><pad><pad><pad>\n",
            "🤖 Predicted     : The to he X is a him more other of, are now to the, he and the villain. tells theik. a power..)!'ang.)agingagingaggressiveichaginggaragingagingagingragedagingagingumberundaggressivegaraggressive.)aggressiveeenthundabblingagingumberumberagingagagingangagingarianangangumbergarichichaggressiveabblingangaggressiveagingagumberaggressiveumbergarichigagingagragedarianundigichagingaggressiveumberannaaggressiveichang.)umbereenthamberagabblingangaggressiveangumbergarumberaggressiveagingabbyamberaggressiveaggressiveeentheenthaggressivearianaggressiveagingagingaggressiveumberabblinggargaraggressiveeenthichagingragedumberaggressiveabblingagigagumberumbergarumbereenthgaraginggarumberabblingaggressiveobbyinalabblingumberiredamberabbyicheenthbyibanamberbyambereenthicheenthabblingbybyaggressiveibanumberagabblingichobbygaragumberichobbygaragumbergrichabbyobbyeenthumberbynabblinggarobbyastereenthichigicheenthbyastereenthbyumberindabblingeenthumberobbyeenthabblinggarigbybyichasteriginal.)aggentobbyigigigobbyumberaggentobbyeenthagigeentheentheentheenthobbyabblingeenthigumberumberobbyeentheenthibanabblingeentheenthichumber.)eenthabbyeenthobbyastereentheenthigeenthgarasterobbyobbyeenthastereenthumberabblingabblingabblingabblingamberasterabblingeentheenthigityobbyagobbybyeenthobbybyobbyumbergrumberasterabblingasteragobbyagagobbyigbyasterobby.)obbyagbyobbyeenthigobbyeenth.)umber.)obbyumberobbyeentheenthbyumbereenthobbyobbyiggumberabbygbyeenthigeenthigasteriggrasterabbyabbyasterumbergrindobbygrbyasterbybyumberumbergbygeenthumberastergarobbyageentheenthbybyeentheenthbyeenth.)bygagingbyeenthbybybygar.)byby\n"
          ]
        },
        {
          "output_type": "stream",
          "name": "stderr",
          "text": [
            "Epoch 1:   4%|▍         | 4/91 [03:53<1:25:05, 58.68s/it, loss=1.0925]/usr/local/lib/python3.11/dist-packages/torch/nn/functional.py:5962: UserWarning: Support for mismatched key_padding_mask and attn_mask is deprecated. Use same type for both instead.\n",
            "  warnings.warn(\n",
            "Epoch 1:   5%|▌         | 5/91 [04:29<1:12:30, 50.59s/it, loss=1.2086]"
          ]
        },
        {
          "output_type": "stream",
          "name": "stdout",
          "text": [
            "Global step 632\n",
            "\n",
            "🔍 [Visualization]\n",
            "📝 Input         : <s>'T KNEW I HAD BETRAYED HIM. JUST AS MERZAH SAID I WOULD. \"MAYBE TO THE OTHERS FRANK CORTEZ LOOKED LIKE SOME KIND OF AVENGING ANGEL THAT DAY. LIKE SOME KIND OF MYSTICAL GOD, OR SOMETHIN'. — xy 'I KNEW THAT VERY DAY HE WAS GOING TO DIE. 'ONLY THING WAS, MERZAH NEVER SAID I WOULDN'T HAVE A CHOICE. FROM HIS SOUL BECAUSE OF WHAT TI DID. 'AN' WHEN HE DID, IT WAS GOING TO BE MY BETRAYAL THAT SENT HIM I — TO HIS GRAVE.\"'T KNEW I HAD BETRAYED HIM. JUST AS MERZAH SAID I WOULD. \"MAYBE TO THE OTHERS FRANK CORTEZ LOOKED LIKE SOME KIND OF AVENGING ANGEL THAT DAY. LIKE SOME KIND OF MYSTICAL GOD, OR SOMETHIN'. — xy 'I KNEW THAT VERY DAY HE WAS GOING TO DIE. 'ONLY THING WAS, MERZAH NEVER SAID I WOULDN'T HAVE A CHOICE. FROM HIS SOUL BECAUSE OF WHAT TI DID. 'AN' WHEN HE DID, IT WAS GOING TO BE MY BETRAYAL THAT SENT HIM I — TO HIS GRAVE.\"SO YOU MADE ~ ME APROMISE, MISS BRYON. THERE'S NOTHING MORE I WANT TO SAY UNTIL YOU TAKE ME > UP ON IT. You PROMISED ME YOU'D UNDERSTAND. EXACTLY. I WANT YOU YOU DON'T TO GO VISIT THESE UNDERSTAND. PEOPLE. THEN YOULL ee\" UNDERSTAND. y \\) eee ' I'M TIRED NOw. BEEN A LONG DAy. T NEVER EXPECTED NO VISITOR. 'SIDES, WE CAIN'T STAY IN HERE FOR MUCH LONGER. THEY GONNA BE WONDERING WHAT WE'RE DOIN' IN HERE. TLL GO, I PROMISE. JUST FOR YOU. BUT YOU'LL BE HERE WHEN I GET BACK, PROMISE? WHERE ELSE WOULD I BE? MORE DAY AIN''T ¥ GONNA MAKE NO DIFFERENCE.SO YOU MADE ~ ME APROMISE, MISS BRYON. THERE'S NOTHING MORE I WANT TO SAY UNTIL YOU TAKE ME > UP ON IT. You PROMISED ME YOU'D UNDERSTAND. EXACTLY. I WANT YOU YOU DON'T TO GO VISIT THESE UNDERSTAND. PEOPLE. THEN YOULL ee\" UNDERSTAND. y \\) eee ' I'M TIRED NOw. BEEN A LONG DAy. T NEVER EXPECTED NO VISITOR. 'SIDES, WE CAIN'T STAY IN HERE FOR MUCH LONGER. THEY GONNA BE WONDERING WHAT WE'RE DOIN' IN HERE. TLL GO, I PROMISE. JUST FOR YOU. BUT YOU'LL BE HERE WHEN I GET BACK, PROMISE? WHERE ELSE WOULD I BE? MORE DAY AIN''T ¥ GONNA MAKE NO DIFFERENCE.Yor REMEMBER THAT WORLD WAR TWO THING I TOLD YOU ABOUT? WELL, NO. I'M SERIOUS. I'M NOT GOING ANYWHERE! PATTI! THEYRE TRYING TO TAKE ME SOMEWHERE! 1 AELPS POLICE!\n",
            "🎯 Target        : Captain Flame faces the enemy troops. In the present Slo-Mo says he had sent Cortez to his death. He doesn't believe Alyssa understands why he did it. He gives her a piece of paper and tells her to go visit the people on it. Then she'll understand. But as Alyssa leaves him she is hustled into a car, where she faces Cap and Nick Fury.\n",
            "🤖 Decoder Input : <s><s>Captain Flame faces the enemy troops. In the present Slo-Mo says he had sent Cortez to his death. He doesn't believe Alyssa understands why he did it. He gives her a piece of paper and tells her to go visit the people on it. Then she'll understand. But as Alyssa leaves him she is hustled into a car, where she faces Cap and Nick Fury.</s><pad><pad><pad><pad><pad><pad><pad><pad><pad><pad><pad><pad><pad><pad><pad><pad><pad><pad><pad><pad><pad><pad><pad><pad><pad><pad><pad><pad><pad><pad><pad><pad><pad><pad><pad><pad><pad><pad><pad><pad><pad><pad><pad><pad><pad><pad><pad><pad><pad><pad><pad><pad><pad><pad><pad><pad><pad><pad><pad><pad><pad><pad><pad><pad><pad><pad><pad><pad><pad><pad><pad><pad><pad><pad><pad><pad><pad><pad><pad><pad><pad><pad><pad><pad><pad><pad><pad><pad><pad><pad><pad><pad><pad><pad><pad><pad><pad><pad><pad><pad><pad><pad><pad><pad><pad><pad><pad><pad><pad><pad><pad><pad><pad><pad><pad><pad><pad><pad><pad><pad><pad><pad><pad><pad><pad><pad><pad><pad><pad><pad><pad><pad><pad><pad><pad><pad><pad><pad><pad><pad><pad><pad><pad><pad><pad><pad><pad><pad><pad><pad><pad><pad><pad><pad><pad><pad><pad><pad><pad><pad><pad><pad><pad><pad><pad><pad><pad><pad><pad><pad><pad><pad><pad><pad><pad><pad><pad><pad><pad><pad><pad><pad><pad><pad><pad><pad><pad><pad><pad><pad><pad><pad><pad><pad><pad><pad><pad><pad><pad><pad><pad><pad><pad><pad><pad><pad><pad><pad><pad><pad><pad><pad><pad><pad><pad><pad><pad><pad><pad><pad><pad><pad><pad><pad><pad><pad><pad><pad><pad><pad><pad><pad><pad><pad><pad><pad><pad><pad><pad><pad><pad><pad><pad><pad><pad><pad><pad><pad><pad><pad><pad><pad><pad><pad><pad><pad><pad><pad><pad><pad><pad><pad><pad><pad><pad><pad><pad><pad><pad><pad><pad><pad><pad><pad><pad><pad><pad><pad><pad><pad><pad><pad><pad><pad><pad><pad><pad><pad><pad><pad><pad><pad><pad><pad><pad><pad><pad><pad><pad><pad><pad><pad><pad><pad><pad><pad><pad><pad><pad><pad><pad><pad><pad><pad><pad><pad><pad><pad><pad><pad><pad><pad><pad><pad><pad><pad><pad><pad><pad><pad><pad><pad><pad><pad><pad><pad><pad><pad><pad><pad><pad><pad><pad><pad><pad><pad><pad><pad><pad><pad><pad><pad><pad><pad><pad><pad><pad><pad><pad><pad><pad><pad><pad><pad><pad><pad><pad><pad><pad><pad><pad><pad><pad><pad><pad><pad><pad><pad><pad><pad><pad><pad><pad><pad><pad><pad><pad><pad><pad><pad><pad><pad><pad><pad><pad><pad><pad><pad><pad><pad><pad><pad><pad><pad><pad><pad><pad><pad><pad><pad><pad><pad><pad><pad><pad><pad><pad><pad><pad><pad><pad><pad><pad><pad><pad><pad><pad><pad><pad><pad><pad><pad><pad><pad><pad><pad><pad><pad><pad><pad><pad><pad><pad><pad><pad><pad><pad><pad><pad><pad><pad><pad><pad><pad><pad><pad><pad><pad><pad><pad><pad><pad><pad><pad><pad><pad><pad><pad><pad><pad><pad><pad><pad><pad><pad><pad><pad><pad><pad><pad><pad><pad><pad><pad><pad><pad><pad><pad><pad><pad><pad><pad><pad><pad><pad><pad><pad><pad><pad><pad><pad><pad><pad><pad><pad><pad><pad><pad><pad><pad><pad><pad><pad><pad><pad><pad><pad><pad><pad><pad><pad><pad><pad><pad><pad><pad><pad><pad><pad><pad><pad><pad><pad><pad><pad><pad><pad><pad><pad><pad><pad><pad><pad><pad><pad><pad><pad><pad><pad><pad><pad><pad><pad><pad><pad><pad><pad><pad><pad><pad><pad><pad><pad><pad><pad><pad><pad><pad><pad><pad><pad><pad><pad><pad><pad><pad><pad><pad><pad><pad><pad><pad><pad><pad><pad><pad><pad><pad><pad><pad><pad><pad><pad><pad><pad><pad><pad><pad><pad><pad><pad><pad><pad><pad><pad><pad><pad><pad><pad><pad><pad><pad><pad><pad><pad><pad><pad><pad><pad><pad><pad><pad><pad><pad><pad><pad><pad><pad><pad><pad><pad><pad><pad><pad><pad><pad><pad><pad><pad><pad><pad><pad><pad><pad><pad><pad><pad><pad><pad><pad><pad><pad><pad><pad><pad><pad><pad><pad><pad><pad><pad><pad><pad><pad><pad><pad><pad><pad><pad><pad><pad><pad><pad><pad><pad><pad><pad><pad><pad><pad><pad><pad>\n",
            "🤖 Predicted     : The,: the story, and The the meantime-ade-Man, that is a the to to the former, He is't know heyres is that he was not. He doesn him a chance of advice. tells her to let to. city of the. He, tells be why She she shelyssa tells the,'ll notled to the coma and and she is her. they. Shegforth.)agingannaichragedaggressivegaraggressiveaggressiveagingagingaggressiveaginganggagingaggressiveragedagingabbyeenthagingamberangantic.)aggressiveeenthagingangagingagingaggressiveaggressiveagingaggressiveagingagingeentheenthagingeenthaggressiveamber.)garagingagingagingaggressiveagingeenthgarumberindeenthinalamberaggressiveaggressiveaggressiveaggressivegarinalannaeenthumberagingeenthambereenthicheenthaggressiveeenthamberagingeenthagichobbyicheenthaggressiveaggressiveumbereenthundumberaggressiveibanichumberambereentheenthinalindinal Banneramberumberumberagingabblingastereenthundumberabblinggreenthobbyabblingundobbyabblingbyobbyundichichabblingigumberindobbyangbyobbybyobbyumberobbyandabblingeenthabblingeenthobbyaggressiveobbyinaleentheenthambereenthinalumberumberumbereentheenthivalobbyibaneenthobbyabblingeentheenthageenthabblingabbyaggressiveeenthobbyumbereentheentheentheenthgentumbereenthgarabblinggaragingabblingeentheentheenthobbyeenthgargeenthabblingeentheentheentheentheenthangabblinggrigeenthgareentheentheenthobbygareentheentheenthabblingeenthobbyag.)eentheentheentheentheentheentheentheenthageenthanggareentheenthgeenthageentheentheentheentheentheentheenthgargareentheenthamberundgareenthobby.)eentheenth.)eenthanticeentheenthgar.)eenth.)eenthagingeentheentheentheentheenthgreentheentheentheenthobbyeenthabbyeenthgareentheenthgareentheenth.).)eenthgreentheenth.)eenthumber.)eenthumbereentheenth.)und.)greenth.)eenth.)eenthyeargargr.).).).)gar.)ageenth.).)eenth.)…..)ag.).).)grgar.).)eenthgar.)greenth.)eenth.).).)eentheenth.)undg.)grgr.).)agingeenth.).).).).)g.).).).).).).).).)….….….)!….….….….….….….….……. all….….….….….…. all….….….….….….….….….….….….…. all….….......….….….….….….…. all….….….….….….….\n"
          ]
        },
        {
          "output_type": "stream",
          "name": "stderr",
          "text": [
            "/usr/local/lib/python3.11/dist-packages/torch/nn/functional.py:5962: UserWarning: Support for mismatched key_padding_mask and attn_mask is deprecated. Use same type for both instead.\n",
            "  warnings.warn(\n",
            "Epoch 1:   7%|▋         | 6/91 [05:26<1:14:40, 52.71s/it, loss=1.1603]"
          ]
        },
        {
          "output_type": "stream",
          "name": "stdout",
          "text": [
            "Global step 632\n",
            "\n",
            "🔍 [Visualization]\n",
            "📝 Input         : <s>\\...GOMETHING: VERY SERIOUS.\" IF THEY CATCH SCOTT AND JEAN, THEY'LL BE FORCED TO GO BACK. AND WE ALL KNOW WHAT'S WAITING FOR THEM. GREY. YOU THINK SENDING IT SUCKS. THEM BACK SUCKS. (OU MUST BE UGH TO STAND UP TO COMPLICATIONS. YOU'RE AN X-MAN. SIDING WITH THE X-MEN IS THE RATIONAL THING TO DO... S NV you MUST FIND THE COURAGE TO BE... IRRATIONAL.\\...GOMETHING: VERY SERIOUS.\" IF THEY CATCH SCOTT AND JEAN, THEY'LL BE FORCED TO GO BACK. AND WE ALL KNOW WHAT'S WAITING FOR THEM. GREY. YOU THINK SENDING IT SUCKS. THEM BACK SUCKS. (OU MUST BE UGH TO STAND UP TO COMPLICATIONS. YOU'RE AN X-MAN. SIDING WITH THE X-MEN IS THE RATIONAL THING TO DO... S NV you MUST FIND THE COURAGE TO BE... IRRATIONAL.IRRATIONAL ENOUGH TO STAND UP FOR WHAT YOU BELIEVE IN. ENOUGH! ENOUGH WITH THE LISTENING. YOU ARE TAKING ME BACK RIGHT NOW. IRRATIONAL ENOUGH TO LOSE YOUR HEART TO A N [_WAIT, ARE YOU TRYING TO PUT SOME KIND OF WEIRD ALIEN SPELL ON ME? _f YOU MEAN MY LOVE EYES? IT's THE WAY DOOP SHOWS DEEP AFFECTION. IT'S NATURAL.IRRATIONAL ENOUGH TO STAND UP FOR WHAT YOU BELIEVE IN. ENOUGH! ENOUGH WITH THE LISTENING. YOU ARE TAKING ME BACK RIGHT NOW. IRRATIONAL ENOUGH TO LOSE YOUR HEART TO A N [_WAIT, ARE YOU TRYING TO PUT SOME KIND OF WEIRD ALIEN SPELL ON ME? _f YOU MEAN MY LOVE EYES? IT's THE WAY DOOP SHOWS DEEP AFFECTION. IT'S NATURAL.Voie r THOUGHT SOU'D BE INTERESTED IN q od A WELL, I THINK SHE DROPPED IT OUTSIDE McCOY'S LAB. MAYBE SOMEONE ELSE</s><pad><pad><pad><pad><pad><pad><pad><pad><pad><pad><pad><pad><pad><pad><pad><pad><pad><pad><pad><pad><pad><pad><pad><pad><pad><pad><pad><pad><pad><pad><pad><pad><pad><pad><pad><pad><pad><pad><pad><pad><pad><pad><pad><pad><pad><pad><pad><pad><pad><pad><pad><pad><pad><pad><pad><pad><pad><pad><pad><pad><pad><pad><pad><pad><pad><pad><pad><pad><pad><pad><pad><pad><pad><pad><pad><pad><pad><pad><pad><pad><pad><pad><pad><pad><pad><pad><pad><pad><pad><pad><pad><pad><pad><pad><pad><pad><pad><pad><pad><pad><pad><pad><pad><pad><pad><pad><pad><pad><pad><pad><pad><pad><pad><pad><pad><pad><pad><pad><pad><pad><pad><pad><pad><pad><pad><pad><pad><pad><pad><pad><pad><pad><pad><pad><pad><pad><pad><pad><pad><pad><pad><pad><pad><pad><pad><pad><pad><pad><pad><pad><pad><pad><pad><pad><pad><pad><pad><pad><pad><pad><pad><pad><pad><pad><pad><pad><pad><pad><pad><pad><pad><pad><pad><pad><pad><pad><pad><pad><pad><pad><pad><pad><pad><pad><pad><pad><pad><pad><pad><pad><pad><pad><pad><pad><pad><pad><pad><pad><pad><pad><pad><pad><pad><pad><pad><pad><pad><pad><pad><pad><pad><pad><pad><pad><pad><pad><pad><pad><pad><pad><pad><pad><pad><pad><pad><pad><pad><pad><pad><pad><pad><pad><pad><pad><pad><pad><pad><pad><pad><pad><pad><pad><pad><pad><pad><pad><pad><pad><pad><pad><pad><pad><pad><pad><pad><pad><pad><pad>\n",
            "🎯 Target        : Kitty sees footage of herself talking to Rachel, feeling something is very wrong. She protests his filming them is creepy. He tells her to watch the close-up of her face where she discusses the original X-Men being sent back again. They all know what’s waiting for them. It sucks! Why is he showing her this? Kitty asks. To remind her of what she really thinks. She agrees it should be the kids’ decision, but it’s complicated. She must be strong enough to stand up to complications, Doop tells her. She is an X-Man. Siding with the X-Men is the rational thing to do. She must find the courage to be… irrational. Irrational enough to stand up for what she believes in. She hesitates. He looks closer into her eyes. Irrational enough to lose her heart to a small green creature with a love of film, long walking and fine dining. His eyes become mesmerizing. She pulls herself free. Is he trying to put some weird kind of alien love spell on her? She means his love eyes? Doop asks. It’s the way he shows deep affection. She orders him to take her back right now. Back at the Jean Grey School, the three Ice-men (including the Ice-hulk from the future) are together. Young Iceman asks his adult counterpart if he gave Kitty this ring. Why would he give her something like that? he scoffs.\n",
            "🤖 Decoder Input : <s><s>Kitty sees footage of herself talking to Rachel, feeling something is very wrong. She protests his filming them is creepy. He tells her to watch the close-up of her face where she discusses the original X-Men being sent back again. They all know what’s waiting for them. It sucks! Why is he showing her this? Kitty asks. To remind her of what she really thinks. She agrees it should be the kids’ decision, but it’s complicated. She must be strong enough to stand up to complications, Doop tells her. She is an X-Man. Siding with the X-Men is the rational thing to do. She must find the courage to be… irrational. Irrational enough to stand up for what she believes in. She hesitates. He looks closer into her eyes. Irrational enough to lose her heart to a small green creature with a love of film, long walking and fine dining. His eyes become mesmerizing. She pulls herself free. Is he trying to put some weird kind of alien love spell on her? She means his love eyes? Doop asks. It’s the way he shows deep affection. She orders him to take her back right now. Back at the Jean Grey School, the three Ice-men (including the Ice-hulk from the future) are together. Young Iceman asks his adult counterpart if he gave Kitty this ring. Why would he give her something like that? he scoffs.</s><pad><pad><pad><pad><pad><pad><pad><pad><pad><pad><pad><pad><pad><pad><pad><pad><pad><pad><pad><pad><pad><pad><pad><pad><pad><pad><pad><pad><pad><pad><pad><pad><pad><pad><pad><pad><pad><pad><pad><pad><pad><pad><pad><pad><pad><pad><pad><pad><pad><pad><pad><pad><pad><pad><pad><pad><pad><pad><pad><pad><pad><pad><pad><pad><pad><pad><pad><pad><pad><pad><pad><pad><pad><pad><pad><pad><pad><pad><pad><pad><pad><pad><pad><pad><pad><pad><pad><pad><pad><pad><pad><pad><pad><pad><pad><pad><pad><pad><pad><pad><pad><pad><pad><pad><pad><pad><pad><pad><pad><pad><pad><pad><pad><pad><pad><pad><pad><pad><pad><pad><pad><pad><pad><pad><pad><pad><pad><pad><pad><pad><pad><pad><pad><pad><pad><pad><pad><pad><pad><pad><pad><pad><pad><pad><pad><pad><pad><pad><pad><pad><pad><pad><pad><pad><pad><pad><pad><pad><pad><pad><pad><pad><pad><pad><pad><pad><pad><pad><pad><pad><pad><pad><pad><pad><pad><pad><pad><pad><pad><pad><pad><pad><pad><pad><pad><pad><pad><pad><pad><pad><pad><pad><pad><pad><pad><pad><pad><pad><pad><pad><pad><pad><pad><pad><pad><pad><pad><pad><pad><pad><pad><pad><pad><pad><pad><pad><pad><pad><pad><pad><pad><pad><pad><pad><pad><pad><pad><pad><pad><pad><pad><pad><pad><pad><pad><pad><pad><pad><pad><pad><pad><pad><pad><pad><pad><pad><pad><pad><pad><pad><pad><pad><pad><pad><pad><pad><pad><pad><pad><pad><pad><pad><pad><pad><pad><pad><pad><pad><pad><pad><pad><pad><pad><pad><pad><pad><pad><pad><pad><pad><pad><pad><pad><pad><pad><pad><pad><pad><pad><pad><pad><pad><pad><pad><pad><pad><pad><pad><pad><pad><pad><pad><pad><pad><pad><pad><pad><pad><pad><pad><pad><pad><pad><pad><pad><pad><pad><pad><pad><pad><pad><pad><pad><pad><pad><pad><pad><pad><pad><pad><pad><pad><pad><pad><pad><pad><pad><pad><pad><pad><pad><pad><pad><pad><pad><pad><pad><pad><pad><pad><pad><pad><pad><pad><pad><pad><pad><pad><pad><pad><pad><pad><pad><pad><pad><pad><pad><pad><pad><pad><pad><pad><pad><pad><pad><pad><pad><pad><pad><pad><pad><pad><pad><pad><pad><pad><pad><pad><pad><pad><pad><pad><pad><pad><pad><pad><pad><pad><pad><pad><pad><pad><pad><pad><pad><pad><pad><pad><pad><pad><pad><pad><pad><pad><pad><pad><pad><pad><pad><pad><pad><pad><pad><pad><pad><pad><pad><pad><pad><pad><pad><pad><pad><pad><pad><pad><pad><pad><pad><pad><pad><pad><pad><pad><pad><pad><pad><pad><pad><pad><pad><pad><pad><pad><pad><pad><pad><pad><pad><pad><pad>\n",
            "🤖 Predicted     : Theurt, the of the being to her that who that is wrong different. tells that way of. a. She is her to be him X ofup of the life. she is her world version-Men.. to to. She are have what they�ve going for them. She� to� is it? her that? asks. She be her to the she has is is She tells. is be a same.�s. but she is�s not. She tells be a enough to make up. her. she notying her. She is the emotional-Men, She. is her X-Men, a only.. do. She is be her X to be a she. Sheks, to be up. the she is is her She�itates. She is at to the eyes. She, enough to be her mind, her point, hole. a red- her. she hair through a.. She dream are wideized. She is away into from She he a to save her of things? mind????? She asks she mind spell. She he asks. He’s a only to can..ately He tells him to be her to to.. She to the end-,, she X menmanMan arewho the X-Manounds) the original) are in. She.- tells what friend friend. he can her a.. The he he be the to to that? She asksoffs. She,….g.)g….umber.)ggabby….umberangamberangangang.)agingggaragingagagangumber…..)…..)angang….gumberumber….….ggangagingumberumber…agg.)umberg.).).)umberichfer….….….….ang.)umber.)g….ang.)g….umber.).)gr…..)aggressive.)g.)…..)…..)…..)….…..)g.).)umbergr.).)gr.)….gaging….….g….)g.)gumbergarg.).).)…..).).).).)gar.).)g.)..).).).)….!.)!……!!!….!!!.?....).....….…….….…\n"
          ]
        },
        {
          "output_type": "stream",
          "name": "stderr",
          "text": [
            "/usr/local/lib/python3.11/dist-packages/torch/nn/functional.py:5962: UserWarning: Support for mismatched key_padding_mask and attn_mask is deprecated. Use same type for both instead.\n",
            "  warnings.warn(\n",
            "Epoch 1:   8%|▊         | 7/91 [06:29<1:18:18, 55.94s/it, loss=1.1244]"
          ]
        },
        {
          "output_type": "stream",
          "name": "stdout",
          "text": [
            "Global step 632\n",
            "\n",
            "🔍 [Visualization]\n",
            "📝 Input         : <s>Sey DO YOU HAVE E&/ A MAP OF A MAP? 4 THE UNITED STATES? OR THE WORLD? (4 SOMETHING [i OR--WOW! YOU KNOW WHO YOU LOOK LIKE?Sey DO YOU HAVE E&/ A MAP OF A MAP? 4 THE UNITED STATES? OR THE WORLD? (4 SOMETHING [i OR--WOW! YOU KNOW WHO YOU LOOK LIKE?You Look Fert] JUST LIKE [2 a — FIVE DOLLARS?! FOR A MAGAZINE?!You Look Fert] JUST LIKE [2 a — FIVE DOLLARS?! FOR A MAGAZINE?!GET YOUR BUTT BACK ON MY BIKE AND BACK TO THE SCHOOL. IT'S NOT FAIR THAT EVERYONE IS BLAMING ME FOR SOMETHING T A DEAL WITH THE PEOPLE OF THIS KEEP OUR MUTANT CRAZY DOWN TOA MINIMUM. YOU'RE HERE LESS THAN 24 HOURS AND ALREADY YOU'RE ANNOYING ME MORE THAN is, T MUST 5 aA 'AH, UNBREAKABLE W BONES, SO WHY SO I CAN PUT YOU IN A HEADLOCK AND SPANK YOU OR YOU CAN JUST GET BACK ON THE BIKE AND-- SLEEP TI THINK, COOLER HEADS I= AND ALL THAT, THAT YOU GUYS NEED TO GO BACK WHERE YOU CAME FROM. T'M THE GUY THAT XAVIER PUT ' OF THE SCHOOL BEFORE YOU MURDERED HIM. CHARGE I DIDN'T YOU HAVE SEEN \\ ALL THIS. UNBREAKABLE BONES?</s><pad><pad><pad><pad><pad><pad><pad><pad><pad><pad><pad><pad><pad><pad><pad><pad><pad><pad><pad><pad><pad><pad><pad><pad><pad><pad><pad><pad><pad><pad><pad><pad><pad><pad><pad><pad><pad><pad><pad><pad><pad><pad><pad><pad><pad><pad><pad><pad><pad><pad><pad><pad><pad><pad><pad><pad><pad><pad><pad><pad><pad><pad><pad><pad><pad><pad><pad><pad><pad><pad><pad><pad><pad><pad><pad><pad><pad><pad><pad><pad><pad><pad><pad><pad><pad><pad><pad><pad><pad><pad><pad><pad><pad><pad><pad><pad><pad><pad><pad><pad><pad><pad><pad><pad><pad><pad><pad><pad><pad><pad><pad><pad><pad><pad><pad><pad><pad><pad><pad><pad><pad><pad><pad><pad><pad><pad><pad><pad><pad><pad><pad><pad><pad><pad><pad><pad><pad><pad><pad><pad><pad><pad><pad><pad><pad><pad><pad><pad><pad><pad><pad><pad><pad><pad><pad><pad><pad><pad><pad><pad><pad><pad><pad><pad><pad><pad><pad><pad><pad><pad><pad><pad><pad><pad><pad><pad><pad><pad><pad><pad><pad><pad><pad><pad><pad><pad><pad><pad><pad><pad><pad><pad><pad><pad><pad><pad><pad><pad><pad><pad><pad><pad><pad><pad><pad><pad><pad><pad><pad><pad><pad><pad><pad><pad><pad><pad><pad><pad><pad><pad><pad><pad><pad><pad><pad><pad><pad><pad><pad><pad><pad><pad><pad><pad><pad><pad><pad><pad><pad><pad><pad><pad><pad><pad><pad><pad><pad><pad><pad><pad><pad><pad><pad><pad><pad><pad><pad><pad><pad><pad><pad><pad><pad><pad><pad><pad><pad><pad><pad><pad><pad><pad><pad><pad><pad><pad><pad><pad><pad><pad><pad><pad><pad><pad><pad><pad><pad><pad><pad><pad><pad><pad><pad><pad><pad><pad><pad><pad><pad><pad><pad><pad><pad><pad><pad><pad><pad><pad><pad><pad><pad><pad><pad><pad><pad><pad><pad><pad><pad><pad><pad><pad><pad><pad><pad><pad><pad><pad><pad><pad><pad><pad><pad><pad><pad><pad><pad><pad><pad><pad><pad><pad><pad><pad><pad><pad><pad><pad><pad><pad><pad><pad><pad><pad><pad><pad><pad><pad><pad><pad><pad><pad><pad><pad><pad><pad><pad><pad><pad><pad><pad><pad><pad><pad><pad><pad><pad><pad><pad><pad><pad><pad><pad><pad><pad><pad><pad><pad><pad><pad><pad><pad><pad><pad><pad><pad><pad><pad><pad><pad><pad><pad><pad><pad><pad><pad><pad><pad><pad><pad><pad><pad><pad><pad><pad><pad><pad><pad><pad><pad><pad><pad><pad><pad><pad><pad><pad><pad><pad>\n",
            "🎯 Target        : Doors! You close each door. One by one. You close them’ Kitty explains to Jean, but the thoughts continue to spill into Marvel Girl’s mind. ‘Can you hear me, Miss Frost?’, ‘Thought I’d seen it all’, ‘Where’s Angel?’, ‘Cyclops was right’, ‘Has anyone seen Angel?’, ‘Outer space?’, ‘Emma?’, ‘Only strike when?’, ‘Does anyone give a crap about the Space Time Continuum?’, ‘Several hundred!’, ‘She hates me!’. ‘This is your brain’ Kitty tells Jean. ‘You control everything about yourself. Decide to do it and you will’ she adds. Jean closes her eyes, and the thoughts are blocked off to her. She looks up, and thanks Kitty, who tells her not to worry about it. ‘I just became a telepath yesterday’ Jean adds. ‘Yeah. That’s crazy. You need training’ Kitty remarks, adding that she can help. She asks Jean if she knows yoga. Jean replies that she does, and Kitty explains that yoga will help. ‘That was good - what you did there. That worked’ Jean tells Kitty, asking her who taught that - Xavier? But, Kitty replies ‘You did’. Jean is surprised, and asks if they were friends. Kitty points out that Jean was in the class in front of her. ‘But yes, yeah, I admired you’ she tells her, while thinking to herself ‘Kind of’. ‘Kind of?’ Jean asks, picking up on Kitty’s thoughts. ‘Oh man, sorry’ Kitty thinks. While looking sheepish, she explains that Jean was a little tough on her sometimes. Kitty stands up and helps Jean up, apologizing for her thoughts betraying her. ‘I shouldn’t be hearing them’ Jean points out. ‘Well, that’s true’ Kitty agrees, before Jean asks where they are going. ‘You have a team to lead’ Kitty remakrs, however Jean reminds Kitty that she isn’t the leader, Scott is. Suddenly, Ororo “Storm” Munroe appears and tells Jean that it was she who convinced the original X-Men to stay in this displaced time. ‘They listen to you. You’re the leader’. Storm’s thoughts introduce herself to the young Jean, who, in another time, was her best friend. ‘Scott is not going to have everyone’s trust here. They are going to need you’ Storm tells Jean. ‘And you’re Storm?’ Jean asks. ‘Yes’ Ororo agrees, before Jean asks if they are friends. ‘Very good friends’ Storm confirms. ‘I thought so’ Jean tells her, before Storm’s thoughts tell Jean that she can look in her head just this once. ‘But after that…’ she begins, when suddenly, Jean asks where Scott is. She concentrates on him, then tells Storm and Kitty that she doesn’t think Scott is here. ‘He left. Wolverine went after him’ Storm reports. ‘Well…%#$@!’ Kitty mutters.\n",
            "🤖 Decoder Input : <s><s>Doors! You close each door. One by one. You close them’ Kitty explains to Jean, but the thoughts continue to spill into Marvel Girl’s mind. ‘Can you hear me, Miss Frost?’, ‘Thought I’d seen it all’, ‘Where’s Angel?’, ‘Cyclops was right’, ‘Has anyone seen Angel?’, ‘Outer space?’, ‘Emma?’, ‘Only strike when?’, ‘Does anyone give a crap about the Space Time Continuum?’, ‘Several hundred!’, ‘She hates me!’. ‘This is your brain’ Kitty tells Jean. ‘You control everything about yourself. Decide to do it and you will’ she adds. Jean closes her eyes, and the thoughts are blocked off to her. She looks up, and thanks Kitty, who tells her not to worry about it. ‘I just became a telepath yesterday’ Jean adds. ‘Yeah. That’s crazy. You need training’ Kitty remarks, adding that she can help. She asks Jean if she knows yoga. Jean replies that she does, and Kitty explains that yoga will help. ‘That was good - what you did there. That worked’ Jean tells Kitty, asking her who taught that - Xavier? But, Kitty replies ‘You did’. Jean is surprised, and asks if they were friends. Kitty points out that Jean was in the class in front of her. ‘But yes, yeah, I admired you’ she tells her, while thinking to herself ‘Kind of’. ‘Kind of?’ Jean asks, picking up on Kitty’s thoughts. ‘Oh man, sorry’ Kitty thinks. While looking sheepish, she explains that Jean was a little tough on her sometimes. Kitty stands up and helps Jean up, apologizing for her thoughts betraying her. ‘I shouldn’t be hearing them’ Jean points out. ‘Well, that’s true’ Kitty agrees, before Jean asks where they are going. ‘You have a team to lead’ Kitty remakrs, however Jean reminds Kitty that she isn’t the leader, Scott is. Suddenly, Ororo “Storm” Munroe appears and tells Jean that it was she who convinced the original X-Men to stay in this displaced time. ‘They listen to you. You’re the leader’. Storm’s thoughts introduce herself to the young Jean, who, in another time, was her best friend. ‘Scott is not going to have everyone’s trust here. They are going to need you’ Storm tells Jean. ‘And you’re Storm?’ Jean asks. ‘Yes’ Ororo agrees, before Jean asks if they are friends. ‘Very good friends’ Storm confirms. ‘I thought so’ Jean tells her, before Storm’s thoughts tell Jean that she can look in her head just this once. ‘But after that…’ she begins, when suddenly, Jean asks where Scott is. She concentrates on him, then tells Storm and Kitty that she doesn’t think Scott is here. ‘He left. Wolverine went after him’ Storm reports. ‘Well…%#$@!’ Kitty mutters.</s><pad><pad><pad><pad><pad><pad><pad><pad><pad><pad><pad><pad><pad><pad><pad><pad><pad><pad><pad><pad><pad><pad><pad><pad><pad>\n",
            "🤖 Predicted     : The you are�� the other, of one. But� each.�ll exclaim. the. who they door of to be. the�.�s mind. The�You you be me?�?,’ the before�I�,’m like you!,�s‘I’. a�’ he ‘Iclops! a,�.‘I-� it?’, ‘I the,.’, ‘Ima asks’, ‘I� me you’,‘I you else you damn? it way??ues�’, ‘I, thousand’, ‘I� you!’, ‘I is a life!�s,,, ‘I� me� it, �o, the this, you� be�t tells. �� her eyes and � tells other are all by by the. �� up at and tells to to who is her that to worry about it. ‘I'm don a littlepathically’s replies. ‘I,�’s not! �� to.�ll replies, and that she�� her � asks what if she� what, � tells that she� not and tells replies that she is be her ‘I� a enough�� think to? �� out�s replies her that who if to she her she�,� she she replies that�I�,�, � replies a to and asks her she are going. � replies out that she is a the middle. the of the. ‘I you, and, and�.’s� her. and she that be.�I, the�s ‘I, the’t replies. and up, the replies�s.. ‘I�, and,�s replies she � � at,, and� that she replies a lot girl! the., � is,, tells her replies, and to the. of me, to ‘You�’ she know a that.�s replies out. ‘I, and she�t not,�t replies, � the.. she were you to ‘I� been lot, be,�s�ot,. and, replies her replies she�’s be other, and replies a �, andk‘I’.,, to that him replies she� a� is, world.-Men, the away the is,. ‘I� to do� � know�s not room,�t �,�s not, her. be school, replies and� and the., and a that thing, ‘I, a to to be a else�s not that, � are you to the to,�s asks her replies ‘I he’s a,’t replies. ‘I!�s�,, and she replies. you�.. ‘I� enough.�ve� that ‘I� she,�s replies her. and she asks�s.. her asks she is� at the., like is, ‘I you she she’ she� to and she, and, if you, not � asksrates, the. and, her, that is she�’. be you is not, ‘I�. �, to the,�s, that ‘I,� of�,’t�ters. �\n"
          ]
        },
        {
          "output_type": "stream",
          "name": "stderr",
          "text": [
            "\rEpoch 1:   8%|▊         | 7/91 [07:13<1:26:45, 61.97s/it, loss=1.1244]\n"
          ]
        },
        {
          "output_type": "error",
          "ename": "KeyboardInterrupt",
          "evalue": "",
          "traceback": [
            "\u001b[0;31m---------------------------------------------------------------------------\u001b[0m",
            "\u001b[0;31mAttributeError\u001b[0m                            Traceback (most recent call last)",
            "\u001b[0;32m/usr/local/lib/python3.11/dist-packages/PIL/ImageFile.py\u001b[0m in \u001b[0;36m_save\u001b[0;34m(im, fp, tile, bufsize)\u001b[0m\n\u001b[1;32m    553\u001b[0m     \u001b[0;32mtry\u001b[0m\u001b[0;34m:\u001b[0m\u001b[0;34m\u001b[0m\u001b[0;34m\u001b[0m\u001b[0m\n\u001b[0;32m--> 554\u001b[0;31m         \u001b[0mfh\u001b[0m \u001b[0;34m=\u001b[0m \u001b[0mfp\u001b[0m\u001b[0;34m.\u001b[0m\u001b[0mfileno\u001b[0m\u001b[0;34m(\u001b[0m\u001b[0;34m)\u001b[0m\u001b[0;34m\u001b[0m\u001b[0;34m\u001b[0m\u001b[0m\n\u001b[0m\u001b[1;32m    555\u001b[0m         \u001b[0mfp\u001b[0m\u001b[0;34m.\u001b[0m\u001b[0mflush\u001b[0m\u001b[0;34m(\u001b[0m\u001b[0;34m)\u001b[0m\u001b[0;34m\u001b[0m\u001b[0;34m\u001b[0m\u001b[0m\n",
            "\u001b[0;31mAttributeError\u001b[0m: '_idat' object has no attribute 'fileno'",
            "\nDuring handling of the above exception, another exception occurred:\n",
            "\u001b[0;31mKeyboardInterrupt\u001b[0m                         Traceback (most recent call last)",
            "\u001b[0;32m<ipython-input-22-dd2da07f31a2>\u001b[0m in \u001b[0;36m<cell line: 0>\u001b[0;34m()\u001b[0m\n\u001b[1;32m     21\u001b[0m     \u001b[0mresume_batch_idx\u001b[0m \u001b[0;34m=\u001b[0m \u001b[0mcheckpoint\u001b[0m\u001b[0;34m.\u001b[0m\u001b[0mget\u001b[0m\u001b[0;34m(\u001b[0m\u001b[0;34m'batch_idx'\u001b[0m\u001b[0;34m,\u001b[0m \u001b[0;36m0\u001b[0m\u001b[0;34m)\u001b[0m \u001b[0;34m+\u001b[0m \u001b[0;36m1\u001b[0m\u001b[0;34m\u001b[0m\u001b[0;34m\u001b[0m\u001b[0m\n\u001b[1;32m     22\u001b[0m     \u001b[0mprint\u001b[0m\u001b[0;34m(\u001b[0m\u001b[0;34m\"resume_batch_idx = \"\u001b[0m\u001b[0;34m,\u001b[0m \u001b[0mresume_batch_idx\u001b[0m\u001b[0;34m)\u001b[0m\u001b[0;34m\u001b[0m\u001b[0;34m\u001b[0m\u001b[0m\n\u001b[0;32m---> 23\u001b[0;31m     \u001b[0mmodel\u001b[0m \u001b[0;34m=\u001b[0m \u001b[0mtrain_model\u001b[0m\u001b[0;34m(\u001b[0m\u001b[0mtokenizer\u001b[0m\u001b[0;34m=\u001b[0m\u001b[0mtokenizer\u001b[0m\u001b[0;34m,\u001b[0m \u001b[0mmodel\u001b[0m\u001b[0;34m=\u001b[0m\u001b[0mmodel\u001b[0m\u001b[0;34m,\u001b[0m \u001b[0moptimizer\u001b[0m\u001b[0;34m=\u001b[0m\u001b[0moptimizer\u001b[0m\u001b[0;34m,\u001b[0m \u001b[0mloss_fn\u001b[0m\u001b[0;34m=\u001b[0m\u001b[0mloss_fn\u001b[0m\u001b[0;34m,\u001b[0m \u001b[0mscaler\u001b[0m\u001b[0;34m=\u001b[0m\u001b[0mscaler\u001b[0m\u001b[0;34m,\u001b[0m \u001b[0mdataset\u001b[0m\u001b[0;34m=\u001b[0m\u001b[0mdataset\u001b[0m\u001b[0;34m,\u001b[0m \u001b[0mresume\u001b[0m\u001b[0;34m=\u001b[0m\u001b[0mglobal_step\u001b[0m\u001b[0;34m,\u001b[0m \u001b[0mseed\u001b[0m\u001b[0;34m=\u001b[0m\u001b[0;36m44\u001b[0m \u001b[0;34m)\u001b[0m\u001b[0;34m\u001b[0m\u001b[0;34m\u001b[0m\u001b[0m\n\u001b[0m\u001b[1;32m     24\u001b[0m \u001b[0;34m\u001b[0m\u001b[0m\n\u001b[1;32m     25\u001b[0m     \u001b[0mtorch\u001b[0m\u001b[0;34m.\u001b[0m\u001b[0msave\u001b[0m\u001b[0;34m(\u001b[0m\u001b[0mmodel\u001b[0m\u001b[0;34m.\u001b[0m\u001b[0mstate_dict\u001b[0m\u001b[0;34m(\u001b[0m\u001b[0;34m)\u001b[0m\u001b[0;34m,\u001b[0m \u001b[0mos\u001b[0m\u001b[0;34m.\u001b[0m\u001b[0mpath\u001b[0m\u001b[0;34m.\u001b[0m\u001b[0mjoin\u001b[0m\u001b[0;34m(\u001b[0m\u001b[0mconfig\u001b[0m\u001b[0;34m.\u001b[0m\u001b[0msave_path\u001b[0m\u001b[0;34m,\u001b[0m \u001b[0;34m\"multimodal_comic_summarizer.pt\"\u001b[0m\u001b[0;34m)\u001b[0m\u001b[0;34m)\u001b[0m\u001b[0;34m\u001b[0m\u001b[0;34m\u001b[0m\u001b[0m\n",
            "\u001b[0;32m<ipython-input-21-c05503655125>\u001b[0m in \u001b[0;36mtrain_model\u001b[0;34m(tokenizer, model, optimizer, loss_fn, scaler, dataset, resume, resume_batch_idx, seed)\u001b[0m\n\u001b[1;32m     27\u001b[0m         \u001b[0mprogress_bar\u001b[0m \u001b[0;34m=\u001b[0m \u001b[0mtqdm\u001b[0m\u001b[0;34m(\u001b[0m\u001b[0mtrain_loader\u001b[0m\u001b[0;34m,\u001b[0m \u001b[0mdesc\u001b[0m\u001b[0;34m=\u001b[0m\u001b[0;34mf\"Epoch {epoch+1}\"\u001b[0m\u001b[0;34m)\u001b[0m\u001b[0;34m\u001b[0m\u001b[0;34m\u001b[0m\u001b[0m\n\u001b[1;32m     28\u001b[0m \u001b[0;34m\u001b[0m\u001b[0m\n\u001b[0;32m---> 29\u001b[0;31m         \u001b[0;32mfor\u001b[0m \u001b[0mbatch_idx\u001b[0m\u001b[0;34m,\u001b[0m \u001b[0mbatch\u001b[0m \u001b[0;32min\u001b[0m \u001b[0menumerate\u001b[0m\u001b[0;34m(\u001b[0m\u001b[0mprogress_bar\u001b[0m\u001b[0;34m)\u001b[0m\u001b[0;34m:\u001b[0m\u001b[0;34m\u001b[0m\u001b[0;34m\u001b[0m\u001b[0m\n\u001b[0m\u001b[1;32m     30\u001b[0m             \u001b[0;32mif\u001b[0m \u001b[0mepoch\u001b[0m \u001b[0;34m==\u001b[0m \u001b[0;36m0\u001b[0m \u001b[0;32mand\u001b[0m \u001b[0mbatch_idx\u001b[0m \u001b[0;34m<\u001b[0m \u001b[0mresume_batch_idx\u001b[0m\u001b[0;34m:\u001b[0m\u001b[0;34m\u001b[0m\u001b[0;34m\u001b[0m\u001b[0m\n\u001b[1;32m     31\u001b[0m               \u001b[0;32mcontinue\u001b[0m  \u001b[0;31m# Skip already processed batches\u001b[0m\u001b[0;34m\u001b[0m\u001b[0;34m\u001b[0m\u001b[0m\n",
            "\u001b[0;32m/usr/local/lib/python3.11/dist-packages/tqdm/std.py\u001b[0m in \u001b[0;36m__iter__\u001b[0;34m(self)\u001b[0m\n\u001b[1;32m   1179\u001b[0m \u001b[0;34m\u001b[0m\u001b[0m\n\u001b[1;32m   1180\u001b[0m         \u001b[0;32mtry\u001b[0m\u001b[0;34m:\u001b[0m\u001b[0;34m\u001b[0m\u001b[0;34m\u001b[0m\u001b[0m\n\u001b[0;32m-> 1181\u001b[0;31m             \u001b[0;32mfor\u001b[0m \u001b[0mobj\u001b[0m \u001b[0;32min\u001b[0m \u001b[0miterable\u001b[0m\u001b[0;34m:\u001b[0m\u001b[0;34m\u001b[0m\u001b[0;34m\u001b[0m\u001b[0m\n\u001b[0m\u001b[1;32m   1182\u001b[0m                 \u001b[0;32myield\u001b[0m \u001b[0mobj\u001b[0m\u001b[0;34m\u001b[0m\u001b[0;34m\u001b[0m\u001b[0m\n\u001b[1;32m   1183\u001b[0m                 \u001b[0;31m# Update and possibly print the progressbar.\u001b[0m\u001b[0;34m\u001b[0m\u001b[0;34m\u001b[0m\u001b[0m\n",
            "\u001b[0;32m/usr/local/lib/python3.11/dist-packages/torch/utils/data/dataloader.py\u001b[0m in \u001b[0;36m__next__\u001b[0;34m(self)\u001b[0m\n\u001b[1;32m    706\u001b[0m                 \u001b[0;31m# TODO(https://github.com/pytorch/pytorch/issues/76750)\u001b[0m\u001b[0;34m\u001b[0m\u001b[0;34m\u001b[0m\u001b[0m\n\u001b[1;32m    707\u001b[0m                 \u001b[0mself\u001b[0m\u001b[0;34m.\u001b[0m\u001b[0m_reset\u001b[0m\u001b[0;34m(\u001b[0m\u001b[0;34m)\u001b[0m  \u001b[0;31m# type: ignore[call-arg]\u001b[0m\u001b[0;34m\u001b[0m\u001b[0;34m\u001b[0m\u001b[0m\n\u001b[0;32m--> 708\u001b[0;31m             \u001b[0mdata\u001b[0m \u001b[0;34m=\u001b[0m \u001b[0mself\u001b[0m\u001b[0;34m.\u001b[0m\u001b[0m_next_data\u001b[0m\u001b[0;34m(\u001b[0m\u001b[0;34m)\u001b[0m\u001b[0;34m\u001b[0m\u001b[0;34m\u001b[0m\u001b[0m\n\u001b[0m\u001b[1;32m    709\u001b[0m             \u001b[0mself\u001b[0m\u001b[0;34m.\u001b[0m\u001b[0m_num_yielded\u001b[0m \u001b[0;34m+=\u001b[0m \u001b[0;36m1\u001b[0m\u001b[0;34m\u001b[0m\u001b[0;34m\u001b[0m\u001b[0m\n\u001b[1;32m    710\u001b[0m             if (\n",
            "\u001b[0;32m/usr/local/lib/python3.11/dist-packages/torch/utils/data/dataloader.py\u001b[0m in \u001b[0;36m_next_data\u001b[0;34m(self)\u001b[0m\n\u001b[1;32m    762\u001b[0m     \u001b[0;32mdef\u001b[0m \u001b[0m_next_data\u001b[0m\u001b[0;34m(\u001b[0m\u001b[0mself\u001b[0m\u001b[0;34m)\u001b[0m\u001b[0;34m:\u001b[0m\u001b[0;34m\u001b[0m\u001b[0;34m\u001b[0m\u001b[0m\n\u001b[1;32m    763\u001b[0m         \u001b[0mindex\u001b[0m \u001b[0;34m=\u001b[0m \u001b[0mself\u001b[0m\u001b[0;34m.\u001b[0m\u001b[0m_next_index\u001b[0m\u001b[0;34m(\u001b[0m\u001b[0;34m)\u001b[0m  \u001b[0;31m# may raise StopIteration\u001b[0m\u001b[0;34m\u001b[0m\u001b[0;34m\u001b[0m\u001b[0m\n\u001b[0;32m--> 764\u001b[0;31m         \u001b[0mdata\u001b[0m \u001b[0;34m=\u001b[0m \u001b[0mself\u001b[0m\u001b[0;34m.\u001b[0m\u001b[0m_dataset_fetcher\u001b[0m\u001b[0;34m.\u001b[0m\u001b[0mfetch\u001b[0m\u001b[0;34m(\u001b[0m\u001b[0mindex\u001b[0m\u001b[0;34m)\u001b[0m  \u001b[0;31m# may raise StopIteration\u001b[0m\u001b[0;34m\u001b[0m\u001b[0;34m\u001b[0m\u001b[0m\n\u001b[0m\u001b[1;32m    765\u001b[0m         \u001b[0;32mif\u001b[0m \u001b[0mself\u001b[0m\u001b[0;34m.\u001b[0m\u001b[0m_pin_memory\u001b[0m\u001b[0;34m:\u001b[0m\u001b[0;34m\u001b[0m\u001b[0;34m\u001b[0m\u001b[0m\n\u001b[1;32m    766\u001b[0m             \u001b[0mdata\u001b[0m \u001b[0;34m=\u001b[0m \u001b[0m_utils\u001b[0m\u001b[0;34m.\u001b[0m\u001b[0mpin_memory\u001b[0m\u001b[0;34m.\u001b[0m\u001b[0mpin_memory\u001b[0m\u001b[0;34m(\u001b[0m\u001b[0mdata\u001b[0m\u001b[0;34m,\u001b[0m \u001b[0mself\u001b[0m\u001b[0;34m.\u001b[0m\u001b[0m_pin_memory_device\u001b[0m\u001b[0;34m)\u001b[0m\u001b[0;34m\u001b[0m\u001b[0;34m\u001b[0m\u001b[0m\n",
            "\u001b[0;32m/usr/local/lib/python3.11/dist-packages/torch/utils/data/_utils/fetch.py\u001b[0m in \u001b[0;36mfetch\u001b[0;34m(self, possibly_batched_index)\u001b[0m\n\u001b[1;32m     48\u001b[0m         \u001b[0;32mif\u001b[0m \u001b[0mself\u001b[0m\u001b[0;34m.\u001b[0m\u001b[0mauto_collation\u001b[0m\u001b[0;34m:\u001b[0m\u001b[0;34m\u001b[0m\u001b[0;34m\u001b[0m\u001b[0m\n\u001b[1;32m     49\u001b[0m             \u001b[0;32mif\u001b[0m \u001b[0mhasattr\u001b[0m\u001b[0;34m(\u001b[0m\u001b[0mself\u001b[0m\u001b[0;34m.\u001b[0m\u001b[0mdataset\u001b[0m\u001b[0;34m,\u001b[0m \u001b[0;34m\"__getitems__\"\u001b[0m\u001b[0;34m)\u001b[0m \u001b[0;32mand\u001b[0m \u001b[0mself\u001b[0m\u001b[0;34m.\u001b[0m\u001b[0mdataset\u001b[0m\u001b[0;34m.\u001b[0m\u001b[0m__getitems__\u001b[0m\u001b[0;34m:\u001b[0m\u001b[0;34m\u001b[0m\u001b[0;34m\u001b[0m\u001b[0m\n\u001b[0;32m---> 50\u001b[0;31m                 \u001b[0mdata\u001b[0m \u001b[0;34m=\u001b[0m \u001b[0mself\u001b[0m\u001b[0;34m.\u001b[0m\u001b[0mdataset\u001b[0m\u001b[0;34m.\u001b[0m\u001b[0m__getitems__\u001b[0m\u001b[0;34m(\u001b[0m\u001b[0mpossibly_batched_index\u001b[0m\u001b[0;34m)\u001b[0m\u001b[0;34m\u001b[0m\u001b[0;34m\u001b[0m\u001b[0m\n\u001b[0m\u001b[1;32m     51\u001b[0m             \u001b[0;32melse\u001b[0m\u001b[0;34m:\u001b[0m\u001b[0;34m\u001b[0m\u001b[0;34m\u001b[0m\u001b[0m\n\u001b[1;32m     52\u001b[0m                 \u001b[0mdata\u001b[0m \u001b[0;34m=\u001b[0m \u001b[0;34m[\u001b[0m\u001b[0mself\u001b[0m\u001b[0;34m.\u001b[0m\u001b[0mdataset\u001b[0m\u001b[0;34m[\u001b[0m\u001b[0midx\u001b[0m\u001b[0;34m]\u001b[0m \u001b[0;32mfor\u001b[0m \u001b[0midx\u001b[0m \u001b[0;32min\u001b[0m \u001b[0mpossibly_batched_index\u001b[0m\u001b[0;34m]\u001b[0m\u001b[0;34m\u001b[0m\u001b[0;34m\u001b[0m\u001b[0m\n",
            "\u001b[0;32m/usr/local/lib/python3.11/dist-packages/torch/utils/data/dataset.py\u001b[0m in \u001b[0;36m__getitems__\u001b[0;34m(self, indices)\u001b[0m\n\u001b[1;32m    418\u001b[0m             \u001b[0;32mreturn\u001b[0m \u001b[0mself\u001b[0m\u001b[0;34m.\u001b[0m\u001b[0mdataset\u001b[0m\u001b[0;34m.\u001b[0m\u001b[0m__getitems__\u001b[0m\u001b[0;34m(\u001b[0m\u001b[0;34m[\u001b[0m\u001b[0mself\u001b[0m\u001b[0;34m.\u001b[0m\u001b[0mindices\u001b[0m\u001b[0;34m[\u001b[0m\u001b[0midx\u001b[0m\u001b[0;34m]\u001b[0m \u001b[0;32mfor\u001b[0m \u001b[0midx\u001b[0m \u001b[0;32min\u001b[0m \u001b[0mindices\u001b[0m\u001b[0;34m]\u001b[0m\u001b[0;34m)\u001b[0m  \u001b[0;31m# type: ignore[attr-defined]\u001b[0m\u001b[0;34m\u001b[0m\u001b[0;34m\u001b[0m\u001b[0m\n\u001b[1;32m    419\u001b[0m         \u001b[0;32melse\u001b[0m\u001b[0;34m:\u001b[0m\u001b[0;34m\u001b[0m\u001b[0;34m\u001b[0m\u001b[0m\n\u001b[0;32m--> 420\u001b[0;31m             \u001b[0;32mreturn\u001b[0m \u001b[0;34m[\u001b[0m\u001b[0mself\u001b[0m\u001b[0;34m.\u001b[0m\u001b[0mdataset\u001b[0m\u001b[0;34m[\u001b[0m\u001b[0mself\u001b[0m\u001b[0;34m.\u001b[0m\u001b[0mindices\u001b[0m\u001b[0;34m[\u001b[0m\u001b[0midx\u001b[0m\u001b[0;34m]\u001b[0m\u001b[0;34m]\u001b[0m \u001b[0;32mfor\u001b[0m \u001b[0midx\u001b[0m \u001b[0;32min\u001b[0m \u001b[0mindices\u001b[0m\u001b[0;34m]\u001b[0m\u001b[0;34m\u001b[0m\u001b[0;34m\u001b[0m\u001b[0m\n\u001b[0m\u001b[1;32m    421\u001b[0m \u001b[0;34m\u001b[0m\u001b[0m\n\u001b[1;32m    422\u001b[0m     \u001b[0;32mdef\u001b[0m \u001b[0m__len__\u001b[0m\u001b[0;34m(\u001b[0m\u001b[0mself\u001b[0m\u001b[0;34m)\u001b[0m\u001b[0;34m:\u001b[0m\u001b[0;34m\u001b[0m\u001b[0;34m\u001b[0m\u001b[0m\n",
            "\u001b[0;32m/usr/local/lib/python3.11/dist-packages/torch/utils/data/dataset.py\u001b[0m in \u001b[0;36m<listcomp>\u001b[0;34m(.0)\u001b[0m\n\u001b[1;32m    418\u001b[0m             \u001b[0;32mreturn\u001b[0m \u001b[0mself\u001b[0m\u001b[0;34m.\u001b[0m\u001b[0mdataset\u001b[0m\u001b[0;34m.\u001b[0m\u001b[0m__getitems__\u001b[0m\u001b[0;34m(\u001b[0m\u001b[0;34m[\u001b[0m\u001b[0mself\u001b[0m\u001b[0;34m.\u001b[0m\u001b[0mindices\u001b[0m\u001b[0;34m[\u001b[0m\u001b[0midx\u001b[0m\u001b[0;34m]\u001b[0m \u001b[0;32mfor\u001b[0m \u001b[0midx\u001b[0m \u001b[0;32min\u001b[0m \u001b[0mindices\u001b[0m\u001b[0;34m]\u001b[0m\u001b[0;34m)\u001b[0m  \u001b[0;31m# type: ignore[attr-defined]\u001b[0m\u001b[0;34m\u001b[0m\u001b[0;34m\u001b[0m\u001b[0m\n\u001b[1;32m    419\u001b[0m         \u001b[0;32melse\u001b[0m\u001b[0;34m:\u001b[0m\u001b[0;34m\u001b[0m\u001b[0;34m\u001b[0m\u001b[0m\n\u001b[0;32m--> 420\u001b[0;31m             \u001b[0;32mreturn\u001b[0m \u001b[0;34m[\u001b[0m\u001b[0mself\u001b[0m\u001b[0;34m.\u001b[0m\u001b[0mdataset\u001b[0m\u001b[0;34m[\u001b[0m\u001b[0mself\u001b[0m\u001b[0;34m.\u001b[0m\u001b[0mindices\u001b[0m\u001b[0;34m[\u001b[0m\u001b[0midx\u001b[0m\u001b[0;34m]\u001b[0m\u001b[0;34m]\u001b[0m \u001b[0;32mfor\u001b[0m \u001b[0midx\u001b[0m \u001b[0;32min\u001b[0m \u001b[0mindices\u001b[0m\u001b[0;34m]\u001b[0m\u001b[0;34m\u001b[0m\u001b[0;34m\u001b[0m\u001b[0m\n\u001b[0m\u001b[1;32m    421\u001b[0m \u001b[0;34m\u001b[0m\u001b[0m\n\u001b[1;32m    422\u001b[0m     \u001b[0;32mdef\u001b[0m \u001b[0m__len__\u001b[0m\u001b[0;34m(\u001b[0m\u001b[0mself\u001b[0m\u001b[0;34m)\u001b[0m\u001b[0;34m:\u001b[0m\u001b[0;34m\u001b[0m\u001b[0;34m\u001b[0m\u001b[0m\n",
            "\u001b[0;32m<ipython-input-10-8297f93bdc09>\u001b[0m in \u001b[0;36m__getitem__\u001b[0;34m(self, idx)\u001b[0m\n\u001b[1;32m     49\u001b[0m                     \u001b[0mimg\u001b[0m \u001b[0;34m=\u001b[0m \u001b[0mimg\u001b[0m\u001b[0;34m.\u001b[0m\u001b[0mconvert\u001b[0m\u001b[0;34m(\u001b[0m\u001b[0;34m'RGB'\u001b[0m\u001b[0;34m)\u001b[0m\u001b[0;34m\u001b[0m\u001b[0;34m\u001b[0m\u001b[0m\n\u001b[1;32m     50\u001b[0m                     \u001b[0mimages\u001b[0m\u001b[0;34m.\u001b[0m\u001b[0mappend\u001b[0m\u001b[0;34m(\u001b[0m\u001b[0mself\u001b[0m\u001b[0;34m.\u001b[0m\u001b[0mtransform\u001b[0m\u001b[0;34m(\u001b[0m\u001b[0mimg\u001b[0m\u001b[0;34m)\u001b[0m\u001b[0;34m)\u001b[0m\u001b[0;34m\u001b[0m\u001b[0;34m\u001b[0m\u001b[0m\n\u001b[0;32m---> 51\u001b[0;31m                     \u001b[0mocr_text\u001b[0m \u001b[0;34m=\u001b[0m \u001b[0mextract_and_clean_comic_text\u001b[0m\u001b[0;34m(\u001b[0m\u001b[0mimg_path\u001b[0m\u001b[0;34m)\u001b[0m\u001b[0;34m\u001b[0m\u001b[0;34m\u001b[0m\u001b[0m\n\u001b[0m\u001b[1;32m     52\u001b[0m                     \u001b[0mocr_texts\u001b[0m\u001b[0;34m.\u001b[0m\u001b[0mappend\u001b[0m\u001b[0;34m(\u001b[0m\u001b[0mocr_text\u001b[0m\u001b[0;34m)\u001b[0m\u001b[0;34m\u001b[0m\u001b[0;34m\u001b[0m\u001b[0m\n\u001b[1;32m     53\u001b[0m                     \u001b[0mvalid_pages\u001b[0m\u001b[0;34m.\u001b[0m\u001b[0mappend\u001b[0m\u001b[0;34m(\u001b[0m\u001b[0mpage\u001b[0m\u001b[0;34m)\u001b[0m\u001b[0;34m\u001b[0m\u001b[0;34m\u001b[0m\u001b[0m\n",
            "\u001b[0;32m<ipython-input-8-a30067b51c3f>\u001b[0m in \u001b[0;36mextract_and_clean_comic_text\u001b[0;34m(image_path)\u001b[0m\n\u001b[1;32m      1\u001b[0m \u001b[0;32mdef\u001b[0m \u001b[0mextract_and_clean_comic_text\u001b[0m\u001b[0;34m(\u001b[0m\u001b[0mimage_path\u001b[0m\u001b[0;34m)\u001b[0m\u001b[0;34m:\u001b[0m\u001b[0;34m\u001b[0m\u001b[0;34m\u001b[0m\u001b[0m\n\u001b[0;32m----> 2\u001b[0;31m     \u001b[0mraw_text\u001b[0m \u001b[0;34m=\u001b[0m \u001b[0mextract_comic_text\u001b[0m\u001b[0;34m(\u001b[0m\u001b[0mimage_path\u001b[0m\u001b[0;34m)\u001b[0m\u001b[0;34m\u001b[0m\u001b[0;34m\u001b[0m\u001b[0m\n\u001b[0m\u001b[1;32m      3\u001b[0m     \u001b[0mcleaned_text\u001b[0m \u001b[0;34m=\u001b[0m \u001b[0mclean_comic_text\u001b[0m\u001b[0;34m(\u001b[0m\u001b[0mraw_text\u001b[0m\u001b[0;34m)\u001b[0m\u001b[0;34m\u001b[0m\u001b[0;34m\u001b[0m\u001b[0m\n\u001b[1;32m      4\u001b[0m     \u001b[0;32mreturn\u001b[0m \u001b[0mcleaned_text\u001b[0m\u001b[0;34m\u001b[0m\u001b[0;34m\u001b[0m\u001b[0m\n",
            "\u001b[0;32m<ipython-input-6-a29c413bc294>\u001b[0m in \u001b[0;36mextract_comic_text\u001b[0;34m(image_path)\u001b[0m\n\u001b[1;32m      3\u001b[0m     \u001b[0mimg\u001b[0m \u001b[0;34m=\u001b[0m \u001b[0mcv2\u001b[0m\u001b[0;34m.\u001b[0m\u001b[0mimread\u001b[0m\u001b[0;34m(\u001b[0m\u001b[0mimage_path\u001b[0m\u001b[0;34m)\u001b[0m\u001b[0;34m\u001b[0m\u001b[0;34m\u001b[0m\u001b[0m\n\u001b[1;32m      4\u001b[0m     \u001b[0mgray\u001b[0m \u001b[0;34m=\u001b[0m \u001b[0mcv2\u001b[0m\u001b[0;34m.\u001b[0m\u001b[0mcvtColor\u001b[0m\u001b[0;34m(\u001b[0m\u001b[0mimg\u001b[0m\u001b[0;34m,\u001b[0m \u001b[0mcv2\u001b[0m\u001b[0;34m.\u001b[0m\u001b[0mCOLOR_BGR2GRAY\u001b[0m\u001b[0;34m)\u001b[0m\u001b[0;34m\u001b[0m\u001b[0;34m\u001b[0m\u001b[0m\n\u001b[0;32m----> 5\u001b[0;31m     \u001b[0mtext\u001b[0m \u001b[0;34m=\u001b[0m \u001b[0mpytesseract\u001b[0m\u001b[0;34m.\u001b[0m\u001b[0mimage_to_string\u001b[0m\u001b[0;34m(\u001b[0m\u001b[0mgray\u001b[0m\u001b[0;34m)\u001b[0m\u001b[0;34m\u001b[0m\u001b[0;34m\u001b[0m\u001b[0m\n\u001b[0m\u001b[1;32m      6\u001b[0m     \u001b[0;32mreturn\u001b[0m \u001b[0mtext\u001b[0m\u001b[0;34m.\u001b[0m\u001b[0mstrip\u001b[0m\u001b[0;34m(\u001b[0m\u001b[0;34m)\u001b[0m\u001b[0;34m\u001b[0m\u001b[0;34m\u001b[0m\u001b[0m\n",
            "\u001b[0;32m/usr/local/lib/python3.11/dist-packages/pytesseract/pytesseract.py\u001b[0m in \u001b[0;36mimage_to_string\u001b[0;34m(image, lang, config, nice, output_type, timeout)\u001b[0m\n\u001b[1;32m    484\u001b[0m     \u001b[0margs\u001b[0m \u001b[0;34m=\u001b[0m \u001b[0;34m[\u001b[0m\u001b[0mimage\u001b[0m\u001b[0;34m,\u001b[0m \u001b[0;34m'txt'\u001b[0m\u001b[0;34m,\u001b[0m \u001b[0mlang\u001b[0m\u001b[0;34m,\u001b[0m \u001b[0mconfig\u001b[0m\u001b[0;34m,\u001b[0m \u001b[0mnice\u001b[0m\u001b[0;34m,\u001b[0m \u001b[0mtimeout\u001b[0m\u001b[0;34m]\u001b[0m\u001b[0;34m\u001b[0m\u001b[0;34m\u001b[0m\u001b[0m\n\u001b[1;32m    485\u001b[0m \u001b[0;34m\u001b[0m\u001b[0m\n\u001b[0;32m--> 486\u001b[0;31m     return {\n\u001b[0m\u001b[1;32m    487\u001b[0m         \u001b[0mOutput\u001b[0m\u001b[0;34m.\u001b[0m\u001b[0mBYTES\u001b[0m\u001b[0;34m:\u001b[0m \u001b[0;32mlambda\u001b[0m\u001b[0;34m:\u001b[0m \u001b[0mrun_and_get_output\u001b[0m\u001b[0;34m(\u001b[0m\u001b[0;34m*\u001b[0m\u001b[0;34m(\u001b[0m\u001b[0margs\u001b[0m \u001b[0;34m+\u001b[0m \u001b[0;34m[\u001b[0m\u001b[0;32mTrue\u001b[0m\u001b[0;34m]\u001b[0m\u001b[0;34m)\u001b[0m\u001b[0;34m)\u001b[0m\u001b[0;34m,\u001b[0m\u001b[0;34m\u001b[0m\u001b[0;34m\u001b[0m\u001b[0m\n\u001b[1;32m    488\u001b[0m         \u001b[0mOutput\u001b[0m\u001b[0;34m.\u001b[0m\u001b[0mDICT\u001b[0m\u001b[0;34m:\u001b[0m \u001b[0;32mlambda\u001b[0m\u001b[0;34m:\u001b[0m \u001b[0;34m{\u001b[0m\u001b[0;34m'text'\u001b[0m\u001b[0;34m:\u001b[0m \u001b[0mrun_and_get_output\u001b[0m\u001b[0;34m(\u001b[0m\u001b[0;34m*\u001b[0m\u001b[0margs\u001b[0m\u001b[0;34m)\u001b[0m\u001b[0;34m}\u001b[0m\u001b[0;34m,\u001b[0m\u001b[0;34m\u001b[0m\u001b[0;34m\u001b[0m\u001b[0m\n",
            "\u001b[0;32m/usr/local/lib/python3.11/dist-packages/pytesseract/pytesseract.py\u001b[0m in \u001b[0;36m<lambda>\u001b[0;34m()\u001b[0m\n\u001b[1;32m    487\u001b[0m         \u001b[0mOutput\u001b[0m\u001b[0;34m.\u001b[0m\u001b[0mBYTES\u001b[0m\u001b[0;34m:\u001b[0m \u001b[0;32mlambda\u001b[0m\u001b[0;34m:\u001b[0m \u001b[0mrun_and_get_output\u001b[0m\u001b[0;34m(\u001b[0m\u001b[0;34m*\u001b[0m\u001b[0;34m(\u001b[0m\u001b[0margs\u001b[0m \u001b[0;34m+\u001b[0m \u001b[0;34m[\u001b[0m\u001b[0;32mTrue\u001b[0m\u001b[0;34m]\u001b[0m\u001b[0;34m)\u001b[0m\u001b[0;34m)\u001b[0m\u001b[0;34m,\u001b[0m\u001b[0;34m\u001b[0m\u001b[0;34m\u001b[0m\u001b[0m\n\u001b[1;32m    488\u001b[0m         \u001b[0mOutput\u001b[0m\u001b[0;34m.\u001b[0m\u001b[0mDICT\u001b[0m\u001b[0;34m:\u001b[0m \u001b[0;32mlambda\u001b[0m\u001b[0;34m:\u001b[0m \u001b[0;34m{\u001b[0m\u001b[0;34m'text'\u001b[0m\u001b[0;34m:\u001b[0m \u001b[0mrun_and_get_output\u001b[0m\u001b[0;34m(\u001b[0m\u001b[0;34m*\u001b[0m\u001b[0margs\u001b[0m\u001b[0;34m)\u001b[0m\u001b[0;34m}\u001b[0m\u001b[0;34m,\u001b[0m\u001b[0;34m\u001b[0m\u001b[0;34m\u001b[0m\u001b[0m\n\u001b[0;32m--> 489\u001b[0;31m         \u001b[0mOutput\u001b[0m\u001b[0;34m.\u001b[0m\u001b[0mSTRING\u001b[0m\u001b[0;34m:\u001b[0m \u001b[0;32mlambda\u001b[0m\u001b[0;34m:\u001b[0m \u001b[0mrun_and_get_output\u001b[0m\u001b[0;34m(\u001b[0m\u001b[0;34m*\u001b[0m\u001b[0margs\u001b[0m\u001b[0;34m)\u001b[0m\u001b[0;34m,\u001b[0m\u001b[0;34m\u001b[0m\u001b[0;34m\u001b[0m\u001b[0m\n\u001b[0m\u001b[1;32m    490\u001b[0m     }[output_type]()\n\u001b[1;32m    491\u001b[0m \u001b[0;34m\u001b[0m\u001b[0m\n",
            "\u001b[0;32m/usr/local/lib/python3.11/dist-packages/pytesseract/pytesseract.py\u001b[0m in \u001b[0;36mrun_and_get_output\u001b[0;34m(image, extension, lang, config, nice, timeout, return_bytes)\u001b[0m\n\u001b[1;32m    339\u001b[0m     \u001b[0mreturn_bytes\u001b[0m\u001b[0;34m=\u001b[0m\u001b[0;32mFalse\u001b[0m\u001b[0;34m,\u001b[0m\u001b[0;34m\u001b[0m\u001b[0;34m\u001b[0m\u001b[0m\n\u001b[1;32m    340\u001b[0m ):\n\u001b[0;32m--> 341\u001b[0;31m     \u001b[0;32mwith\u001b[0m \u001b[0msave\u001b[0m\u001b[0;34m(\u001b[0m\u001b[0mimage\u001b[0m\u001b[0;34m)\u001b[0m \u001b[0;32mas\u001b[0m \u001b[0;34m(\u001b[0m\u001b[0mtemp_name\u001b[0m\u001b[0;34m,\u001b[0m \u001b[0minput_filename\u001b[0m\u001b[0;34m)\u001b[0m\u001b[0;34m:\u001b[0m\u001b[0;34m\u001b[0m\u001b[0;34m\u001b[0m\u001b[0m\n\u001b[0m\u001b[1;32m    342\u001b[0m         kwargs = {\n\u001b[1;32m    343\u001b[0m             \u001b[0;34m'input_filename'\u001b[0m\u001b[0;34m:\u001b[0m \u001b[0minput_filename\u001b[0m\u001b[0;34m,\u001b[0m\u001b[0;34m\u001b[0m\u001b[0;34m\u001b[0m\u001b[0m\n",
            "\u001b[0;32m/usr/lib/python3.11/contextlib.py\u001b[0m in \u001b[0;36m__enter__\u001b[0;34m(self)\u001b[0m\n\u001b[1;32m    135\u001b[0m         \u001b[0;32mdel\u001b[0m \u001b[0mself\u001b[0m\u001b[0;34m.\u001b[0m\u001b[0margs\u001b[0m\u001b[0;34m,\u001b[0m \u001b[0mself\u001b[0m\u001b[0;34m.\u001b[0m\u001b[0mkwds\u001b[0m\u001b[0;34m,\u001b[0m \u001b[0mself\u001b[0m\u001b[0;34m.\u001b[0m\u001b[0mfunc\u001b[0m\u001b[0;34m\u001b[0m\u001b[0;34m\u001b[0m\u001b[0m\n\u001b[1;32m    136\u001b[0m         \u001b[0;32mtry\u001b[0m\u001b[0;34m:\u001b[0m\u001b[0;34m\u001b[0m\u001b[0;34m\u001b[0m\u001b[0m\n\u001b[0;32m--> 137\u001b[0;31m             \u001b[0;32mreturn\u001b[0m \u001b[0mnext\u001b[0m\u001b[0;34m(\u001b[0m\u001b[0mself\u001b[0m\u001b[0;34m.\u001b[0m\u001b[0mgen\u001b[0m\u001b[0;34m)\u001b[0m\u001b[0;34m\u001b[0m\u001b[0;34m\u001b[0m\u001b[0m\n\u001b[0m\u001b[1;32m    138\u001b[0m         \u001b[0;32mexcept\u001b[0m \u001b[0mStopIteration\u001b[0m\u001b[0;34m:\u001b[0m\u001b[0;34m\u001b[0m\u001b[0;34m\u001b[0m\u001b[0m\n\u001b[1;32m    139\u001b[0m             \u001b[0;32mraise\u001b[0m \u001b[0mRuntimeError\u001b[0m\u001b[0;34m(\u001b[0m\u001b[0;34m\"generator didn't yield\"\u001b[0m\u001b[0;34m)\u001b[0m \u001b[0;32mfrom\u001b[0m \u001b[0;32mNone\u001b[0m\u001b[0;34m\u001b[0m\u001b[0;34m\u001b[0m\u001b[0m\n",
            "\u001b[0;32m/usr/local/lib/python3.11/dist-packages/pytesseract/pytesseract.py\u001b[0m in \u001b[0;36msave\u001b[0;34m(image)\u001b[0m\n\u001b[1;32m    214\u001b[0m             \u001b[0mimage\u001b[0m\u001b[0;34m,\u001b[0m \u001b[0mextension\u001b[0m \u001b[0;34m=\u001b[0m \u001b[0mprepare\u001b[0m\u001b[0;34m(\u001b[0m\u001b[0mimage\u001b[0m\u001b[0;34m)\u001b[0m\u001b[0;34m\u001b[0m\u001b[0;34m\u001b[0m\u001b[0m\n\u001b[1;32m    215\u001b[0m             \u001b[0minput_file_name\u001b[0m \u001b[0;34m=\u001b[0m \u001b[0;34mf'{f.name}_input{extsep}{extension}'\u001b[0m\u001b[0;34m\u001b[0m\u001b[0;34m\u001b[0m\u001b[0m\n\u001b[0;32m--> 216\u001b[0;31m             \u001b[0mimage\u001b[0m\u001b[0;34m.\u001b[0m\u001b[0msave\u001b[0m\u001b[0;34m(\u001b[0m\u001b[0minput_file_name\u001b[0m\u001b[0;34m,\u001b[0m \u001b[0mformat\u001b[0m\u001b[0;34m=\u001b[0m\u001b[0mimage\u001b[0m\u001b[0;34m.\u001b[0m\u001b[0mformat\u001b[0m\u001b[0;34m)\u001b[0m\u001b[0;34m\u001b[0m\u001b[0;34m\u001b[0m\u001b[0m\n\u001b[0m\u001b[1;32m    217\u001b[0m             \u001b[0;32myield\u001b[0m \u001b[0mf\u001b[0m\u001b[0;34m.\u001b[0m\u001b[0mname\u001b[0m\u001b[0;34m,\u001b[0m \u001b[0minput_file_name\u001b[0m\u001b[0;34m\u001b[0m\u001b[0;34m\u001b[0m\u001b[0m\n\u001b[1;32m    218\u001b[0m     \u001b[0;32mfinally\u001b[0m\u001b[0;34m:\u001b[0m\u001b[0;34m\u001b[0m\u001b[0;34m\u001b[0m\u001b[0m\n",
            "\u001b[0;32m/usr/local/lib/python3.11/dist-packages/PIL/Image.py\u001b[0m in \u001b[0;36msave\u001b[0;34m(self, fp, format, **params)\u001b[0m\n\u001b[1;32m   2594\u001b[0m \u001b[0;34m\u001b[0m\u001b[0m\n\u001b[1;32m   2595\u001b[0m         \u001b[0;32mtry\u001b[0m\u001b[0;34m:\u001b[0m\u001b[0;34m\u001b[0m\u001b[0;34m\u001b[0m\u001b[0m\n\u001b[0;32m-> 2596\u001b[0;31m             \u001b[0msave_handler\u001b[0m\u001b[0;34m(\u001b[0m\u001b[0mself\u001b[0m\u001b[0;34m,\u001b[0m \u001b[0mfp\u001b[0m\u001b[0;34m,\u001b[0m \u001b[0mfilename\u001b[0m\u001b[0;34m)\u001b[0m\u001b[0;34m\u001b[0m\u001b[0;34m\u001b[0m\u001b[0m\n\u001b[0m\u001b[1;32m   2597\u001b[0m         \u001b[0;32mexcept\u001b[0m \u001b[0mException\u001b[0m\u001b[0;34m:\u001b[0m\u001b[0;34m\u001b[0m\u001b[0;34m\u001b[0m\u001b[0m\n\u001b[1;32m   2598\u001b[0m             \u001b[0;32mif\u001b[0m \u001b[0mopen_fp\u001b[0m\u001b[0;34m:\u001b[0m\u001b[0;34m\u001b[0m\u001b[0;34m\u001b[0m\u001b[0m\n",
            "\u001b[0;32m/usr/local/lib/python3.11/dist-packages/PIL/PngImagePlugin.py\u001b[0m in \u001b[0;36m_save\u001b[0;34m(im, fp, filename, chunk, save_all)\u001b[0m\n\u001b[1;32m   1486\u001b[0m         )\n\u001b[1;32m   1487\u001b[0m     \u001b[0;32mif\u001b[0m \u001b[0msingle_im\u001b[0m\u001b[0;34m:\u001b[0m\u001b[0;34m\u001b[0m\u001b[0;34m\u001b[0m\u001b[0m\n\u001b[0;32m-> 1488\u001b[0;31m         ImageFile._save(\n\u001b[0m\u001b[1;32m   1489\u001b[0m             \u001b[0msingle_im\u001b[0m\u001b[0;34m,\u001b[0m\u001b[0;34m\u001b[0m\u001b[0;34m\u001b[0m\u001b[0m\n\u001b[1;32m   1490\u001b[0m             \u001b[0mcast\u001b[0m\u001b[0;34m(\u001b[0m\u001b[0mIO\u001b[0m\u001b[0;34m[\u001b[0m\u001b[0mbytes\u001b[0m\u001b[0;34m]\u001b[0m\u001b[0;34m,\u001b[0m \u001b[0m_idat\u001b[0m\u001b[0;34m(\u001b[0m\u001b[0mfp\u001b[0m\u001b[0;34m,\u001b[0m \u001b[0mchunk\u001b[0m\u001b[0;34m)\u001b[0m\u001b[0;34m)\u001b[0m\u001b[0;34m,\u001b[0m\u001b[0;34m\u001b[0m\u001b[0;34m\u001b[0m\u001b[0m\n",
            "\u001b[0;32m/usr/local/lib/python3.11/dist-packages/PIL/ImageFile.py\u001b[0m in \u001b[0;36m_save\u001b[0;34m(im, fp, tile, bufsize)\u001b[0m\n\u001b[1;32m    556\u001b[0m         \u001b[0m_encode_tile\u001b[0m\u001b[0;34m(\u001b[0m\u001b[0mim\u001b[0m\u001b[0;34m,\u001b[0m \u001b[0mfp\u001b[0m\u001b[0;34m,\u001b[0m \u001b[0mtile\u001b[0m\u001b[0;34m,\u001b[0m \u001b[0mbufsize\u001b[0m\u001b[0;34m,\u001b[0m \u001b[0mfh\u001b[0m\u001b[0;34m)\u001b[0m\u001b[0;34m\u001b[0m\u001b[0;34m\u001b[0m\u001b[0m\n\u001b[1;32m    557\u001b[0m     \u001b[0;32mexcept\u001b[0m \u001b[0;34m(\u001b[0m\u001b[0mAttributeError\u001b[0m\u001b[0;34m,\u001b[0m \u001b[0mio\u001b[0m\u001b[0;34m.\u001b[0m\u001b[0mUnsupportedOperation\u001b[0m\u001b[0;34m)\u001b[0m \u001b[0;32mas\u001b[0m \u001b[0mexc\u001b[0m\u001b[0;34m:\u001b[0m\u001b[0;34m\u001b[0m\u001b[0;34m\u001b[0m\u001b[0m\n\u001b[0;32m--> 558\u001b[0;31m         \u001b[0m_encode_tile\u001b[0m\u001b[0;34m(\u001b[0m\u001b[0mim\u001b[0m\u001b[0;34m,\u001b[0m \u001b[0mfp\u001b[0m\u001b[0;34m,\u001b[0m \u001b[0mtile\u001b[0m\u001b[0;34m,\u001b[0m \u001b[0mbufsize\u001b[0m\u001b[0;34m,\u001b[0m \u001b[0;32mNone\u001b[0m\u001b[0;34m,\u001b[0m \u001b[0mexc\u001b[0m\u001b[0;34m)\u001b[0m\u001b[0;34m\u001b[0m\u001b[0;34m\u001b[0m\u001b[0m\n\u001b[0m\u001b[1;32m    559\u001b[0m     \u001b[0;32mif\u001b[0m \u001b[0mhasattr\u001b[0m\u001b[0;34m(\u001b[0m\u001b[0mfp\u001b[0m\u001b[0;34m,\u001b[0m \u001b[0;34m\"flush\"\u001b[0m\u001b[0;34m)\u001b[0m\u001b[0;34m:\u001b[0m\u001b[0;34m\u001b[0m\u001b[0;34m\u001b[0m\u001b[0m\n\u001b[1;32m    560\u001b[0m         \u001b[0mfp\u001b[0m\u001b[0;34m.\u001b[0m\u001b[0mflush\u001b[0m\u001b[0;34m(\u001b[0m\u001b[0;34m)\u001b[0m\u001b[0;34m\u001b[0m\u001b[0;34m\u001b[0m\u001b[0m\n",
            "\u001b[0;32m/usr/local/lib/python3.11/dist-packages/PIL/ImageFile.py\u001b[0m in \u001b[0;36m_encode_tile\u001b[0;34m(im, fp, tile, bufsize, fh, exc)\u001b[0m\n\u001b[1;32m    582\u001b[0m                     \u001b[0;31m# compress to Python file-compatible object\u001b[0m\u001b[0;34m\u001b[0m\u001b[0;34m\u001b[0m\u001b[0m\n\u001b[1;32m    583\u001b[0m                     \u001b[0;32mwhile\u001b[0m \u001b[0;32mTrue\u001b[0m\u001b[0;34m:\u001b[0m\u001b[0;34m\u001b[0m\u001b[0;34m\u001b[0m\u001b[0m\n\u001b[0;32m--> 584\u001b[0;31m                         \u001b[0merrcode\u001b[0m\u001b[0;34m,\u001b[0m \u001b[0mdata\u001b[0m \u001b[0;34m=\u001b[0m \u001b[0mencoder\u001b[0m\u001b[0;34m.\u001b[0m\u001b[0mencode\u001b[0m\u001b[0;34m(\u001b[0m\u001b[0mbufsize\u001b[0m\u001b[0;34m)\u001b[0m\u001b[0;34m[\u001b[0m\u001b[0;36m1\u001b[0m\u001b[0;34m:\u001b[0m\u001b[0;34m]\u001b[0m\u001b[0;34m\u001b[0m\u001b[0;34m\u001b[0m\u001b[0m\n\u001b[0m\u001b[1;32m    585\u001b[0m                         \u001b[0mfp\u001b[0m\u001b[0;34m.\u001b[0m\u001b[0mwrite\u001b[0m\u001b[0;34m(\u001b[0m\u001b[0mdata\u001b[0m\u001b[0;34m)\u001b[0m\u001b[0;34m\u001b[0m\u001b[0;34m\u001b[0m\u001b[0m\n\u001b[1;32m    586\u001b[0m                         \u001b[0;32mif\u001b[0m \u001b[0merrcode\u001b[0m\u001b[0;34m:\u001b[0m\u001b[0;34m\u001b[0m\u001b[0;34m\u001b[0m\u001b[0m\n",
            "\u001b[0;31mKeyboardInterrupt\u001b[0m: "
          ]
        }
      ],
      "source": [
        "if __name__ == \"__main__\":\n",
        "\n",
        "    tokenizer, model = initialize_models()\n",
        "    dataset = ComicDataset(config.json_file, config.image_dir, tokenizer)\n",
        "\n",
        "    optimizer = torch.optim.AdamW(model.parameters(), lr=config.learning_rate)\n",
        "    loss_fn = nn.CrossEntropyLoss(ignore_index=tokenizer.pad_token_id)\n",
        "    scaler = torch.cuda.amp.GradScaler()\n",
        "\n",
        "    checkpoint = torch.load(\"/content/drive/MyDrive/multimodal_summarization/checkpoint_weight.pt\", map_location=device)\n",
        "\n",
        "    global_step = 0\n",
        "    model.load_state_dict(checkpoint['model_state_dict'], strict=False)\n",
        "\n",
        "\n",
        "    optimizer.load_state_dict(checkpoint['optimizer_state_dict'])\n",
        "    scaler.load_state_dict(checkpoint['scaler_state_dict'])\n",
        "\n",
        "    global_step = checkpoint['step'] + 1\n",
        "\n",
        "    resume_batch_idx = checkpoint.get('batch_idx', 0) + 1\n",
        "    print(\"resume_batch_idx = \", resume_batch_idx)\n",
        "    model = train_model(tokenizer=tokenizer, model=model, optimizer=optimizer, loss_fn=loss_fn, scaler=scaler, dataset=dataset, resume=global_step, seed=44 )\n",
        "\n",
        "    torch.save(model.state_dict(), os.path.join(config.save_path, \"multimodal_comic_summarizer.pt\"))\n",
        "\n",
        "    tokenizer = BartTokenizer.from_pretrained(\"facebook/bart-base\")\n",
        "    test_dataset = ComicDataset(config.json_file, config.image_dir, tokenizer)\n",
        "    test_loader = DataLoader(test_dataset, batch_size=config.batch_size)\n",
        "\n",
        "    rouge_scores = evaluate_model(model, test_loader, tokenizer)\n",
        "    print(\"\\nFinal Evaluation Scores:\")\n",
        "    for key in rouge_scores:\n",
        "        print(f\"{key}:\")\n",
        "        print(f\"  Precision: {rouge_scores[key]['precision']:.4f}\")\n",
        "        print(f\"  Recall:    {rouge_scores[key]['recall']:.4f}\")\n",
        "        print(f\"  F1:        {rouge_scores[key]['fmeasure']:.4f}\")"
      ]
    },
    {
      "cell_type": "code",
      "execution_count": null,
      "metadata": {
        "id": "pMea8nQ7udsr"
      },
      "outputs": [],
      "source": [
        "def evaluate_model(model, test_loader, tokenizer):\n",
        "    scorer = rouge_scorer.RougeScorer(['rouge1', 'rouge2', 'rougeL'], use_stemmer=True)\n",
        "    model.eval()\n",
        "    all_preds = []\n",
        "    all_labels = []\n",
        "\n",
        "    with torch.no_grad():\n",
        "        for batch in tqdm(test_loader, desc=\"Evaluating\"):\n",
        "            # Prepare inputs\n",
        "            inputs = {\n",
        "                'input_ids': batch['ocr_input_ids'].to(device),\n",
        "                'images': batch['images'].to(device),\n",
        "                'decoder_input_ids': batch['decoder_input_ids'].to(device),\n",
        "                'attention_mask': batch['ocr_attention_mask'].bool().to(device),\n",
        "                'decoder_attention_mask': batch['ocr_input_ids'].eq(tokenizer.pad_token_id).to(device),\n",
        "                'ocr_chunk_indices': batch['ocr_chunk_indices'].to(device),\n",
        "                'num_real_images': batch['num_real_images']\n",
        "            }\n",
        "\n",
        "            # Get labels (convert -100 to pad token id for decoding)\n",
        "            labels = batch['labels'].clone()\n",
        "            labels[labels == -100] = tokenizer.pad_token_id\n",
        "            labels = labels.cpu().numpy()\n",
        "\n",
        "            # Generate summaries using greedy decoding\n",
        "            batch_size = inputs['input_ids'].size(0)\n",
        "            generated = torch.full((batch_size, 1), tokenizer.bos_token_id, dtype=torch.long, device=device)\n",
        "\n",
        "            for _ in range(config.max_text_len):\n",
        "                outputs = model(\n",
        "                    input_ids=inputs['input_ids'],\n",
        "                    images=inputs['images'],\n",
        "                    decoder_input_ids=generated,\n",
        "                    attention_mask=inputs['attention_mask'],\n",
        "                    decoder_attention_mask=None,  # Don't need mask for generation\n",
        "                    ocr_chunk_indices=inputs['ocr_chunk_indices'],\n",
        "                    num_real_images=inputs['num_real_images']\n",
        "                )\n",
        "\n",
        "                next_token_logits = outputs[:, -1, :]\n",
        "                next_tokens = torch.argmax(next_token_logits, dim=-1).unsqueeze(1)\n",
        "                generated = torch.cat([generated, next_tokens], dim=-1)\n",
        "\n",
        "                # Stop if all sequences generated EOS\n",
        "                if (next_tokens == tokenizer.eos_token_id).all():\n",
        "                    break\n",
        "\n",
        "            # Decode predictions and references\n",
        "            preds = tokenizer.batch_decode(generated, skip_special_tokens=True)\n",
        "            refs = tokenizer.batch_decode(labels, skip_special_tokens=True)\n",
        "\n",
        "            # Store for scoring\n",
        "            all_preds.extend(preds)\n",
        "            all_labels.extend(refs)\n",
        "\n",
        "    # Calculate ROUGE scores\n",
        "    rouge_scores = {\n",
        "        'rouge1': {'precision': 0, 'recall': 0, 'fmeasure': 0},\n",
        "        'rouge2': {'precision': 0, 'recall': 0, 'fmeasure': 0},\n",
        "        'rougeL': {'precision': 0, 'recall': 0, 'fmeasure': 0}\n",
        "    }\n",
        "\n",
        "    for pred, ref in zip(all_preds, all_labels):\n",
        "        scores = scorer.score(ref, pred)\n",
        "        for key in scores:\n",
        "            rouge_scores[key]['precision'] += scores[key].precision\n",
        "            rouge_scores[key]['recall'] += scores[key].recall\n",
        "            rouge_scores[key]['fmeasure'] += scores[key].fmeasure\n",
        "\n",
        "    # Average scores\n",
        "    for key in rouge_scores:\n",
        "        for metric in ['precision', 'recall', 'fmeasure']:\n",
        "            rouge_scores[key][metric] /= len(all_preds)\n",
        "\n",
        "\n",
        "    with open(f\"{config.save_path}/evaluation_results.json\", 'w') as f:\n",
        "        json.dump(rouge_scores, f, indent=2)\n",
        "\n",
        "    print(f\"Results saved to {config.save_path}/evaluation_results.json\")\n",
        "\n",
        "    return rouge_scores"
      ]
    },
    {
      "cell_type": "code",
      "execution_count": null,
      "metadata": {
        "colab": {
          "base_uri": "https://localhost:8080/"
        },
        "id": "eSMHiI4X0lXd",
        "outputId": "d4e60330-62d8-4c2c-ec32-ddbdbc3de7a9"
      },
      "outputs": [
        {
          "output_type": "stream",
          "name": "stdout",
          "text": [
            "Loaded pretrained CustomBART weights from /content/drive/MyDrive/multimodal_summarization/xsum_step_4500_1745223373.pt\n"
          ]
        },
        {
          "output_type": "stream",
          "name": "stderr",
          "text": [
            "Downloading: \"https://download.pytorch.org/models/resnet50-0676ba61.pth\" to /root/.cache/torch/hub/checkpoints/resnet50-0676ba61.pth\n",
            "100%|██████████| 97.8M/97.8M [00:00<00:00, 206MB/s]\n"
          ]
        },
        {
          "output_type": "stream",
          "name": "stdout",
          "text": [
            "Loaded model from /content/drive/MyDrive/multimodal_summarization/checkpoint_weight.pt\n"
          ]
        }
      ],
      "source": [
        "tokenizer, model = initialize_models()\n",
        "\n",
        "checkpoint_path = \"/content/drive/MyDrive/multimodal_summarization/checkpoint_weight.pt\"\n",
        "checkpoint = torch.load(checkpoint_path, map_location=device)\n",
        "model.load_state_dict(checkpoint['model_state_dict'], strict=False)\n",
        "print(f\"Loaded model from {checkpoint_path}\")\n",
        "\n",
        "test_dataset = ComicDataset(config.test_json_file, config.test_image_dir, tokenizer)\n",
        "test_loader = DataLoader(test_dataset, batch_size=config.batch_size)\n"
      ]
    },
    {
      "cell_type": "code",
      "execution_count": null,
      "metadata": {
        "colab": {
          "base_uri": "https://localhost:8080/"
        },
        "id": "3i9tKTNBw-ai",
        "outputId": "2d3c2c1a-a3fd-4718-e0ee-56f49e0e5f1d"
      },
      "outputs": [
        {
          "name": "stderr",
          "output_type": "stream",
          "text": [
            "Evaluating:  86%|████████▋ | 139/161 [3:14:29<32:36, 88.94s/it]"
          ]
        },
        {
          "name": "stdout",
          "output_type": "stream",
          "text": [
            "[ERROR] Loading /content/drive/MyDrive/multimodal_summarization/test_images/x-treme-x-men-v1-010-2002/2.jpg: cannot identify image file '/content/drive/MyDrive/multimodal_summarization/test_images/x-treme-x-men-v1-010-2002/2.jpg'\n",
            "[ERROR] Loading /content/drive/MyDrive/multimodal_summarization/test_images/x-treme-x-men-v1-010-2002/3.jpg: cannot identify image file '/content/drive/MyDrive/multimodal_summarization/test_images/x-treme-x-men-v1-010-2002/3.jpg'\n",
            "[ERROR] Loading /content/drive/MyDrive/multimodal_summarization/test_images/x-treme-x-men-v1-010-2002/4.jpg: cannot identify image file '/content/drive/MyDrive/multimodal_summarization/test_images/x-treme-x-men-v1-010-2002/4.jpg'\n",
            "[ERROR] Loading /content/drive/MyDrive/multimodal_summarization/test_images/x-treme-x-men-v1-010-2002/5.jpg: cannot identify image file '/content/drive/MyDrive/multimodal_summarization/test_images/x-treme-x-men-v1-010-2002/5.jpg'\n",
            "[ERROR] Loading /content/drive/MyDrive/multimodal_summarization/test_images/x-treme-x-men-v1-010-2002/6.jpg: cannot identify image file '/content/drive/MyDrive/multimodal_summarization/test_images/x-treme-x-men-v1-010-2002/6.jpg'\n",
            "[ERROR] Loading /content/drive/MyDrive/multimodal_summarization/test_images/x-treme-x-men-v1-010-2002/7.jpg: cannot identify image file '/content/drive/MyDrive/multimodal_summarization/test_images/x-treme-x-men-v1-010-2002/7.jpg'\n",
            "[ERROR] Loading /content/drive/MyDrive/multimodal_summarization/test_images/x-treme-x-men-v1-010-2002/8.jpg: cannot identify image file '/content/drive/MyDrive/multimodal_summarization/test_images/x-treme-x-men-v1-010-2002/8.jpg'\n",
            "[ERROR] Loading /content/drive/MyDrive/multimodal_summarization/test_images/x-treme-x-men-v1-010-2002/9.jpg: cannot identify image file '/content/drive/MyDrive/multimodal_summarization/test_images/x-treme-x-men-v1-010-2002/9.jpg'\n"
          ]
        },
        {
          "name": "stderr",
          "output_type": "stream",
          "text": [
            "\rEvaluating:  87%|████████▋ | 140/161 [3:15:21<27:18, 78.03s/it]"
          ]
        },
        {
          "name": "stdout",
          "output_type": "stream",
          "text": [
            "[ERROR] Loading /content/drive/MyDrive/multimodal_summarization/test_images/x-treme-x-men-v1-010-2002/16.jpg: cannot identify image file '/content/drive/MyDrive/multimodal_summarization/test_images/x-treme-x-men-v1-010-2002/16.jpg'\n",
            "[ERROR] Loading /content/drive/MyDrive/multimodal_summarization/test_images/x-treme-x-men-v1-010-2002/17.jpg: cannot identify image file '/content/drive/MyDrive/multimodal_summarization/test_images/x-treme-x-men-v1-010-2002/17.jpg'\n",
            "[ERROR] Loading /content/drive/MyDrive/multimodal_summarization/test_images/x-treme-x-men-v1-010-2002/18.jpg: cannot identify image file '/content/drive/MyDrive/multimodal_summarization/test_images/x-treme-x-men-v1-010-2002/18.jpg'\n",
            "[ERROR] Loading /content/drive/MyDrive/multimodal_summarization/test_images/x-treme-x-men-v1-010-2002/19.jpg: cannot identify image file '/content/drive/MyDrive/multimodal_summarization/test_images/x-treme-x-men-v1-010-2002/19.jpg'\n",
            "[ERROR] Loading /content/drive/MyDrive/multimodal_summarization/test_images/x-treme-x-men-v1-010-2002/20.jpg: cannot identify image file '/content/drive/MyDrive/multimodal_summarization/test_images/x-treme-x-men-v1-010-2002/20.jpg'\n",
            "[ERROR] Loading /content/drive/MyDrive/multimodal_summarization/test_images/x-treme-x-men-v1-010-2002/21.jpg: cannot identify image file '/content/drive/MyDrive/multimodal_summarization/test_images/x-treme-x-men-v1-010-2002/21.jpg'\n",
            "[ERROR] Loading /content/drive/MyDrive/multimodal_summarization/test_images/x-treme-x-men-v1-010-2002/22.jpg: cannot identify image file '/content/drive/MyDrive/multimodal_summarization/test_images/x-treme-x-men-v1-010-2002/22.jpg'\n",
            "[ERROR] Loading /content/drive/MyDrive/multimodal_summarization/test_images/x-treme-x-men-v1-033-2003/1.jpg: cannot identify image file '/content/drive/MyDrive/multimodal_summarization/test_images/x-treme-x-men-v1-033-2003/1.jpg'\n",
            "[ERROR] Loading /content/drive/MyDrive/multimodal_summarization/test_images/x-treme-x-men-v1-033-2003/2.jpg: cannot identify image file '/content/drive/MyDrive/multimodal_summarization/test_images/x-treme-x-men-v1-033-2003/2.jpg'\n",
            "[ERROR] Loading /content/drive/MyDrive/multimodal_summarization/test_images/x-treme-x-men-v1-033-2003/3.jpg: cannot identify image file '/content/drive/MyDrive/multimodal_summarization/test_images/x-treme-x-men-v1-033-2003/3.jpg'\n",
            "[ERROR] Loading /content/drive/MyDrive/multimodal_summarization/test_images/x-treme-x-men-v1-033-2003/4.jpg: cannot identify image file '/content/drive/MyDrive/multimodal_summarization/test_images/x-treme-x-men-v1-033-2003/4.jpg'\n",
            "[ERROR] Loading /content/drive/MyDrive/multimodal_summarization/test_images/x-treme-x-men-v1-033-2003/5.jpg: cannot identify image file '/content/drive/MyDrive/multimodal_summarization/test_images/x-treme-x-men-v1-033-2003/5.jpg'\n"
          ]
        },
        {
          "name": "stderr",
          "output_type": "stream",
          "text": [
            "\rEvaluating:  88%|████████▊ | 141/161 [3:15:56<21:42, 65.12s/it]"
          ]
        },
        {
          "name": "stdout",
          "output_type": "stream",
          "text": [
            "[ERROR] Loading /content/drive/MyDrive/multimodal_summarization/test_images/x-treme-x-men-v1-033-2003/6.jpg: cannot identify image file '/content/drive/MyDrive/multimodal_summarization/test_images/x-treme-x-men-v1-033-2003/6.jpg'\n",
            "[ERROR] Loading /content/drive/MyDrive/multimodal_summarization/test_images/x-treme-x-men-v1-033-2003/7.jpg: cannot identify image file '/content/drive/MyDrive/multimodal_summarization/test_images/x-treme-x-men-v1-033-2003/7.jpg'\n",
            "[ERROR] Loading /content/drive/MyDrive/multimodal_summarization/test_images/x-treme-x-men-v1-033-2003/8.jpg: cannot identify image file '/content/drive/MyDrive/multimodal_summarization/test_images/x-treme-x-men-v1-033-2003/8.jpg'\n",
            "[ERROR] Loading /content/drive/MyDrive/multimodal_summarization/test_images/x-treme-x-men-v1-033-2003/9.jpg: cannot identify image file '/content/drive/MyDrive/multimodal_summarization/test_images/x-treme-x-men-v1-033-2003/9.jpg'\n",
            "[ERROR] Loading /content/drive/MyDrive/multimodal_summarization/test_images/x-treme-x-men-v1-033-2003/10.jpg: cannot identify image file '/content/drive/MyDrive/multimodal_summarization/test_images/x-treme-x-men-v1-033-2003/10.jpg'\n",
            "[ERROR] Loading /content/drive/MyDrive/multimodal_summarization/test_images/x-treme-x-men-v1-033-2003/11.jpg: cannot identify image file '/content/drive/MyDrive/multimodal_summarization/test_images/x-treme-x-men-v1-033-2003/11.jpg'\n",
            "[ERROR] Loading /content/drive/MyDrive/multimodal_summarization/test_images/x-treme-x-men-v1-033-2003/12.jpg: cannot identify image file '/content/drive/MyDrive/multimodal_summarization/test_images/x-treme-x-men-v1-033-2003/12.jpg'\n",
            "[ERROR] Loading /content/drive/MyDrive/multimodal_summarization/test_images/x-treme-x-men-v1-033-2003/13.jpg: cannot identify image file '/content/drive/MyDrive/multimodal_summarization/test_images/x-treme-x-men-v1-033-2003/13.jpg'\n",
            "[ERROR] Loading /content/drive/MyDrive/multimodal_summarization/test_images/x-treme-x-men-v1-033-2003/14.jpg: cannot identify image file '/content/drive/MyDrive/multimodal_summarization/test_images/x-treme-x-men-v1-033-2003/14.jpg'\n",
            "[ERROR] Loading /content/drive/MyDrive/multimodal_summarization/test_images/x-treme-x-men-v1-033-2003/15.jpg: cannot identify image file '/content/drive/MyDrive/multimodal_summarization/test_images/x-treme-x-men-v1-033-2003/15.jpg'\n",
            "[ERROR] Loading /content/drive/MyDrive/multimodal_summarization/test_images/x-treme-x-men-v1-033-2003/16.jpg: cannot identify image file '/content/drive/MyDrive/multimodal_summarization/test_images/x-treme-x-men-v1-033-2003/16.jpg'\n",
            "[ERROR] Loading /content/drive/MyDrive/multimodal_summarization/test_images/x-treme-x-men-v1-033-2003/17.jpg: cannot identify image file '/content/drive/MyDrive/multimodal_summarization/test_images/x-treme-x-men-v1-033-2003/17.jpg'\n",
            "[ERROR] Loading /content/drive/MyDrive/multimodal_summarization/test_images/x-treme-x-men-v1-033-2003/18.jpg: cannot identify image file '/content/drive/MyDrive/multimodal_summarization/test_images/x-treme-x-men-v1-033-2003/18.jpg'\n",
            "[ERROR] Loading /content/drive/MyDrive/multimodal_summarization/test_images/x-treme-x-men-v1-033-2003/19.jpg: cannot identify image file '/content/drive/MyDrive/multimodal_summarization/test_images/x-treme-x-men-v1-033-2003/19.jpg'\n",
            "[ERROR] Loading /content/drive/MyDrive/multimodal_summarization/test_images/x-treme-x-men-v1-033-2003/20.jpg: cannot identify image file '/content/drive/MyDrive/multimodal_summarization/test_images/x-treme-x-men-v1-033-2003/20.jpg'\n",
            "[ERROR] Loading /content/drive/MyDrive/multimodal_summarization/test_images/x-treme-x-men-v1-033-2003/21.jpg: cannot identify image file '/content/drive/MyDrive/multimodal_summarization/test_images/x-treme-x-men-v1-033-2003/21.jpg'\n",
            "[ERROR] Loading /content/drive/MyDrive/multimodal_summarization/test_images/x-treme-x-men-v1-033-2003/22.jpg: cannot identify image file '/content/drive/MyDrive/multimodal_summarization/test_images/x-treme-x-men-v1-033-2003/22.jpg'\n",
            "[ERROR] Loading /content/drive/MyDrive/multimodal_summarization/test_images/x-treme-x-men-v1-033-2003/23.jpg: cannot identify image file '/content/drive/MyDrive/multimodal_summarization/test_images/x-treme-x-men-v1-033-2003/23.jpg'\n",
            "[ERROR] Loading /content/drive/MyDrive/multimodal_summarization/test_images/x-treme-x-men-v1-033-2003/24.jpg: cannot identify image file '/content/drive/MyDrive/multimodal_summarization/test_images/x-treme-x-men-v1-033-2003/24.jpg'\n"
          ]
        },
        {
          "name": "stderr",
          "output_type": "stream",
          "text": [
            "\rEvaluating:  88%|████████▊ | 142/161 [3:16:21<16:49, 53.13s/it]"
          ]
        },
        {
          "name": "stdout",
          "output_type": "stream",
          "text": [
            "[ERROR] Loading /content/drive/MyDrive/multimodal_summarization/test_images/xmen-blue-2017-10/1.jpg: cannot identify image file '/content/drive/MyDrive/multimodal_summarization/test_images/xmen-blue-2017-10/1.jpg'\n",
            "[ERROR] Loading /content/drive/MyDrive/multimodal_summarization/test_images/xmen-blue-2017-10/2.jpg: cannot identify image file '/content/drive/MyDrive/multimodal_summarization/test_images/xmen-blue-2017-10/2.jpg'\n",
            "[ERROR] Loading /content/drive/MyDrive/multimodal_summarization/test_images/xmen-blue-2017-10/3.jpg: cannot identify image file '/content/drive/MyDrive/multimodal_summarization/test_images/xmen-blue-2017-10/3.jpg'\n",
            "[ERROR] Loading /content/drive/MyDrive/multimodal_summarization/test_images/xmen-blue-2017-10/4.jpg: cannot identify image file '/content/drive/MyDrive/multimodal_summarization/test_images/xmen-blue-2017-10/4.jpg'\n",
            "[ERROR] Loading /content/drive/MyDrive/multimodal_summarization/test_images/xmen-blue-2017-10/5.jpg: cannot identify image file '/content/drive/MyDrive/multimodal_summarization/test_images/xmen-blue-2017-10/5.jpg'\n",
            "[ERROR] Loading /content/drive/MyDrive/multimodal_summarization/test_images/xmen-blue-2017-10/6.jpg: cannot identify image file '/content/drive/MyDrive/multimodal_summarization/test_images/xmen-blue-2017-10/6.jpg'\n",
            "[ERROR] Loading /content/drive/MyDrive/multimodal_summarization/test_images/xmen-blue-2017-10/7.jpg: cannot identify image file '/content/drive/MyDrive/multimodal_summarization/test_images/xmen-blue-2017-10/7.jpg'\n",
            "[ERROR] Loading /content/drive/MyDrive/multimodal_summarization/test_images/xmen-blue-2017-10/8.jpg: cannot identify image file '/content/drive/MyDrive/multimodal_summarization/test_images/xmen-blue-2017-10/8.jpg'\n",
            "[ERROR] Loading /content/drive/MyDrive/multimodal_summarization/test_images/xmen-blue-2017-10/9.jpg: cannot identify image file '/content/drive/MyDrive/multimodal_summarization/test_images/xmen-blue-2017-10/9.jpg'\n",
            "[ERROR] Loading /content/drive/MyDrive/multimodal_summarization/test_images/xmen-blue-2017-10/10.jpg: cannot identify image file '/content/drive/MyDrive/multimodal_summarization/test_images/xmen-blue-2017-10/10.jpg'\n",
            "[ERROR] Loading /content/drive/MyDrive/multimodal_summarization/test_images/xmen-blue-2017-10/11.jpg: cannot identify image file '/content/drive/MyDrive/multimodal_summarization/test_images/xmen-blue-2017-10/11.jpg'\n",
            "[ERROR] Loading /content/drive/MyDrive/multimodal_summarization/test_images/xmen-blue-2017-10/12.jpg: cannot identify image file '/content/drive/MyDrive/multimodal_summarization/test_images/xmen-blue-2017-10/12.jpg'\n",
            "[ERROR] Loading /content/drive/MyDrive/multimodal_summarization/test_images/xmen-blue-2017-10/13.jpg: cannot identify image file '/content/drive/MyDrive/multimodal_summarization/test_images/xmen-blue-2017-10/13.jpg'\n",
            "[ERROR] Loading /content/drive/MyDrive/multimodal_summarization/test_images/xmen-blue-2017-10/14.jpg: cannot identify image file '/content/drive/MyDrive/multimodal_summarization/test_images/xmen-blue-2017-10/14.jpg'\n",
            "[ERROR] Loading /content/drive/MyDrive/multimodal_summarization/test_images/xmen-blue-2017-10/15.jpg: cannot identify image file '/content/drive/MyDrive/multimodal_summarization/test_images/xmen-blue-2017-10/15.jpg'\n",
            "[ERROR] Loading /content/drive/MyDrive/multimodal_summarization/test_images/xmen-blue-2017-10/16.jpg: cannot identify image file '/content/drive/MyDrive/multimodal_summarization/test_images/xmen-blue-2017-10/16.jpg'\n",
            "[ERROR] Loading /content/drive/MyDrive/multimodal_summarization/test_images/xmen-blue-2017-10/17.jpg: cannot identify image file '/content/drive/MyDrive/multimodal_summarization/test_images/xmen-blue-2017-10/17.jpg'\n",
            "[ERROR] Loading /content/drive/MyDrive/multimodal_summarization/test_images/xmen-blue-2017-10/18.jpg: cannot identify image file '/content/drive/MyDrive/multimodal_summarization/test_images/xmen-blue-2017-10/18.jpg'\n",
            "[ERROR] Loading /content/drive/MyDrive/multimodal_summarization/test_images/xmen-blue-2017-10/19.jpg: cannot identify image file '/content/drive/MyDrive/multimodal_summarization/test_images/xmen-blue-2017-10/19.jpg'\n",
            "[ERROR] Loading /content/drive/MyDrive/multimodal_summarization/test_images/xmen-blue-2017-10/20.jpg: cannot identify image file '/content/drive/MyDrive/multimodal_summarization/test_images/xmen-blue-2017-10/20.jpg'\n"
          ]
        },
        {
          "name": "stderr",
          "output_type": "stream",
          "text": [
            "\rEvaluating:  89%|████████▉ | 143/161 [3:16:47<13:26, 44.81s/it]"
          ]
        },
        {
          "name": "stdout",
          "output_type": "stream",
          "text": [
            "[ERROR] Loading /content/drive/MyDrive/multimodal_summarization/test_images/xmen-blue-2017-10/21.jpg: cannot identify image file '/content/drive/MyDrive/multimodal_summarization/test_images/xmen-blue-2017-10/21.jpg'\n",
            "[ERROR] Loading /content/drive/MyDrive/multimodal_summarization/test_images/xmen-blue-2017-10/22.jpg: cannot identify image file '/content/drive/MyDrive/multimodal_summarization/test_images/xmen-blue-2017-10/22.jpg'\n",
            "[ERROR] Loading /content/drive/MyDrive/multimodal_summarization/test_images/xmen-blue-2017-11/1.jpg: cannot identify image file '/content/drive/MyDrive/multimodal_summarization/test_images/xmen-blue-2017-11/1.jpg'\n",
            "[ERROR] Loading /content/drive/MyDrive/multimodal_summarization/test_images/xmen-blue-2017-11/2.jpg: cannot identify image file '/content/drive/MyDrive/multimodal_summarization/test_images/xmen-blue-2017-11/2.jpg'\n",
            "[ERROR] Loading /content/drive/MyDrive/multimodal_summarization/test_images/xmen-blue-2017-11/3.jpg: cannot identify image file '/content/drive/MyDrive/multimodal_summarization/test_images/xmen-blue-2017-11/3.jpg'\n",
            "[ERROR] Loading /content/drive/MyDrive/multimodal_summarization/test_images/xmen-blue-2017-11/4.jpg: cannot identify image file '/content/drive/MyDrive/multimodal_summarization/test_images/xmen-blue-2017-11/4.jpg'\n",
            "[ERROR] Loading /content/drive/MyDrive/multimodal_summarization/test_images/xmen-blue-2017-11/5.jpg: cannot identify image file '/content/drive/MyDrive/multimodal_summarization/test_images/xmen-blue-2017-11/5.jpg'\n",
            "[ERROR] Loading /content/drive/MyDrive/multimodal_summarization/test_images/xmen-blue-2017-11/6.jpg: cannot identify image file '/content/drive/MyDrive/multimodal_summarization/test_images/xmen-blue-2017-11/6.jpg'\n",
            "[ERROR] Loading /content/drive/MyDrive/multimodal_summarization/test_images/xmen-blue-2017-11/7.jpg: cannot identify image file '/content/drive/MyDrive/multimodal_summarization/test_images/xmen-blue-2017-11/7.jpg'\n",
            "[ERROR] Loading /content/drive/MyDrive/multimodal_summarization/test_images/xmen-blue-2017-11/8.jpg: cannot identify image file '/content/drive/MyDrive/multimodal_summarization/test_images/xmen-blue-2017-11/8.jpg'\n",
            "[ERROR] Loading /content/drive/MyDrive/multimodal_summarization/test_images/xmen-blue-2017-11/9.jpg: cannot identify image file '/content/drive/MyDrive/multimodal_summarization/test_images/xmen-blue-2017-11/9.jpg'\n",
            "[ERROR] Loading /content/drive/MyDrive/multimodal_summarization/test_images/xmen-blue-2017-11/10.jpg: cannot identify image file '/content/drive/MyDrive/multimodal_summarization/test_images/xmen-blue-2017-11/10.jpg'\n",
            "[ERROR] Loading /content/drive/MyDrive/multimodal_summarization/test_images/xmen-blue-2017-11/11.jpg: cannot identify image file '/content/drive/MyDrive/multimodal_summarization/test_images/xmen-blue-2017-11/11.jpg'\n",
            "[ERROR] Loading /content/drive/MyDrive/multimodal_summarization/test_images/xmen-blue-2017-11/12.jpg: cannot identify image file '/content/drive/MyDrive/multimodal_summarization/test_images/xmen-blue-2017-11/12.jpg'\n",
            "[ERROR] Loading /content/drive/MyDrive/multimodal_summarization/test_images/xmen-blue-2017-11/13.jpg: cannot identify image file '/content/drive/MyDrive/multimodal_summarization/test_images/xmen-blue-2017-11/13.jpg'\n",
            "[ERROR] Loading /content/drive/MyDrive/multimodal_summarization/test_images/xmen-blue-2017-11/14.jpg: cannot identify image file '/content/drive/MyDrive/multimodal_summarization/test_images/xmen-blue-2017-11/14.jpg'\n",
            "[ERROR] Loading /content/drive/MyDrive/multimodal_summarization/test_images/xmen-blue-2017-11/15.jpg: cannot identify image file '/content/drive/MyDrive/multimodal_summarization/test_images/xmen-blue-2017-11/15.jpg'\n"
          ]
        },
        {
          "name": "stderr",
          "output_type": "stream",
          "text": [
            "\rEvaluating:  89%|████████▉ | 144/161 [3:17:12<11:02, 38.96s/it]"
          ]
        },
        {
          "name": "stdout",
          "output_type": "stream",
          "text": [
            "[ERROR] Loading /content/drive/MyDrive/multimodal_summarization/test_images/xmen-blue-2017-11/16.jpg: cannot identify image file '/content/drive/MyDrive/multimodal_summarization/test_images/xmen-blue-2017-11/16.jpg'\n",
            "[ERROR] Loading /content/drive/MyDrive/multimodal_summarization/test_images/xmen-blue-2017-11/17.jpg: cannot identify image file '/content/drive/MyDrive/multimodal_summarization/test_images/xmen-blue-2017-11/17.jpg'\n",
            "[ERROR] Loading /content/drive/MyDrive/multimodal_summarization/test_images/xmen-blue-2017-11/18.jpg: cannot identify image file '/content/drive/MyDrive/multimodal_summarization/test_images/xmen-blue-2017-11/18.jpg'\n",
            "[ERROR] Loading /content/drive/MyDrive/multimodal_summarization/test_images/xmen-blue-2017-11/19.jpg: cannot identify image file '/content/drive/MyDrive/multimodal_summarization/test_images/xmen-blue-2017-11/19.jpg'\n",
            "[ERROR] Loading /content/drive/MyDrive/multimodal_summarization/test_images/xmen-blue-2017-11/20.jpg: cannot identify image file '/content/drive/MyDrive/multimodal_summarization/test_images/xmen-blue-2017-11/20.jpg'\n",
            "[ERROR] Loading /content/drive/MyDrive/multimodal_summarization/test_images/xmen-blue-2017-11/21.jpg: cannot identify image file '/content/drive/MyDrive/multimodal_summarization/test_images/xmen-blue-2017-11/21.jpg'\n",
            "[ERROR] Loading /content/drive/MyDrive/multimodal_summarization/test_images/xmen-blue-2017-14/1.jpg: cannot identify image file '/content/drive/MyDrive/multimodal_summarization/test_images/xmen-blue-2017-14/1.jpg'\n",
            "[ERROR] Loading /content/drive/MyDrive/multimodal_summarization/test_images/xmen-blue-2017-14/2.jpg: cannot identify image file '/content/drive/MyDrive/multimodal_summarization/test_images/xmen-blue-2017-14/2.jpg'\n",
            "[ERROR] Loading /content/drive/MyDrive/multimodal_summarization/test_images/xmen-blue-2017-14/3.jpg: cannot identify image file '/content/drive/MyDrive/multimodal_summarization/test_images/xmen-blue-2017-14/3.jpg'\n",
            "[ERROR] Loading /content/drive/MyDrive/multimodal_summarization/test_images/xmen-blue-2017-14/4.jpg: cannot identify image file '/content/drive/MyDrive/multimodal_summarization/test_images/xmen-blue-2017-14/4.jpg'\n",
            "[ERROR] Loading /content/drive/MyDrive/multimodal_summarization/test_images/xmen-blue-2017-14/5.jpg: cannot identify image file '/content/drive/MyDrive/multimodal_summarization/test_images/xmen-blue-2017-14/5.jpg'\n",
            "[ERROR] Loading /content/drive/MyDrive/multimodal_summarization/test_images/xmen-blue-2017-14/6.jpg: cannot identify image file '/content/drive/MyDrive/multimodal_summarization/test_images/xmen-blue-2017-14/6.jpg'\n",
            "[ERROR] Loading /content/drive/MyDrive/multimodal_summarization/test_images/xmen-blue-2017-14/7.jpg: cannot identify image file '/content/drive/MyDrive/multimodal_summarization/test_images/xmen-blue-2017-14/7.jpg'\n",
            "[ERROR] Loading /content/drive/MyDrive/multimodal_summarization/test_images/xmen-blue-2017-14/8.jpg: cannot identify image file '/content/drive/MyDrive/multimodal_summarization/test_images/xmen-blue-2017-14/8.jpg'\n",
            "[ERROR] Loading /content/drive/MyDrive/multimodal_summarization/test_images/xmen-blue-2017-14/9.jpg: cannot identify image file '/content/drive/MyDrive/multimodal_summarization/test_images/xmen-blue-2017-14/9.jpg'\n",
            "[ERROR] Loading /content/drive/MyDrive/multimodal_summarization/test_images/xmen-blue-2017-14/10.jpg: cannot identify image file '/content/drive/MyDrive/multimodal_summarization/test_images/xmen-blue-2017-14/10.jpg'\n"
          ]
        },
        {
          "name": "stderr",
          "output_type": "stream",
          "text": [
            "\rEvaluating:  90%|█████████ | 145/161 [3:17:37<09:18, 34.88s/it]"
          ]
        },
        {
          "name": "stdout",
          "output_type": "stream",
          "text": [
            "[ERROR] Loading /content/drive/MyDrive/multimodal_summarization/test_images/xmen-blue-2017-14/11.jpg: cannot identify image file '/content/drive/MyDrive/multimodal_summarization/test_images/xmen-blue-2017-14/11.jpg'\n",
            "[ERROR] Loading /content/drive/MyDrive/multimodal_summarization/test_images/xmen-blue-2017-14/12.jpg: cannot identify image file '/content/drive/MyDrive/multimodal_summarization/test_images/xmen-blue-2017-14/12.jpg'\n",
            "[ERROR] Loading /content/drive/MyDrive/multimodal_summarization/test_images/xmen-blue-2017-14/13.jpg: cannot identify image file '/content/drive/MyDrive/multimodal_summarization/test_images/xmen-blue-2017-14/13.jpg'\n",
            "[ERROR] Loading /content/drive/MyDrive/multimodal_summarization/test_images/xmen-blue-2017-14/14.jpg: cannot identify image file '/content/drive/MyDrive/multimodal_summarization/test_images/xmen-blue-2017-14/14.jpg'\n",
            "[ERROR] Loading /content/drive/MyDrive/multimodal_summarization/test_images/xmen-blue-2017-14/15.jpg: cannot identify image file '/content/drive/MyDrive/multimodal_summarization/test_images/xmen-blue-2017-14/15.jpg'\n",
            "[ERROR] Loading /content/drive/MyDrive/multimodal_summarization/test_images/xmen-blue-2017-14/16.jpg: cannot identify image file '/content/drive/MyDrive/multimodal_summarization/test_images/xmen-blue-2017-14/16.jpg'\n",
            "[ERROR] Loading /content/drive/MyDrive/multimodal_summarization/test_images/xmen-blue-2017-14/17.jpg: cannot identify image file '/content/drive/MyDrive/multimodal_summarization/test_images/xmen-blue-2017-14/17.jpg'\n",
            "[ERROR] Loading /content/drive/MyDrive/multimodal_summarization/test_images/xmen-blue-2017-14/18.jpg: cannot identify image file '/content/drive/MyDrive/multimodal_summarization/test_images/xmen-blue-2017-14/18.jpg'\n",
            "[ERROR] Loading /content/drive/MyDrive/multimodal_summarization/test_images/xmen-blue-2017-14/19.jpg: cannot identify image file '/content/drive/MyDrive/multimodal_summarization/test_images/xmen-blue-2017-14/19.jpg'\n",
            "[ERROR] Loading /content/drive/MyDrive/multimodal_summarization/test_images/xmen-blue-2017-14/20.jpg: cannot identify image file '/content/drive/MyDrive/multimodal_summarization/test_images/xmen-blue-2017-14/20.jpg'\n",
            "[ERROR] Loading /content/drive/MyDrive/multimodal_summarization/test_images/xmen-blue-2017-14/21.jpg: cannot identify image file '/content/drive/MyDrive/multimodal_summarization/test_images/xmen-blue-2017-14/21.jpg'\n",
            "[ERROR] Loading /content/drive/MyDrive/multimodal_summarization/test_images/xmen-gold-2017-1/1.jpg: cannot identify image file '/content/drive/MyDrive/multimodal_summarization/test_images/xmen-gold-2017-1/1.jpg'\n",
            "[ERROR] Loading /content/drive/MyDrive/multimodal_summarization/test_images/xmen-gold-2017-1/2.jpg: cannot identify image file '/content/drive/MyDrive/multimodal_summarization/test_images/xmen-gold-2017-1/2.jpg'\n",
            "[ERROR] Loading /content/drive/MyDrive/multimodal_summarization/test_images/xmen-gold-2017-1/3.jpg: cannot identify image file '/content/drive/MyDrive/multimodal_summarization/test_images/xmen-gold-2017-1/3.jpg'\n",
            "[ERROR] Loading /content/drive/MyDrive/multimodal_summarization/test_images/xmen-gold-2017-1/4.jpg: cannot identify image file '/content/drive/MyDrive/multimodal_summarization/test_images/xmen-gold-2017-1/4.jpg'\n",
            "[ERROR] Loading /content/drive/MyDrive/multimodal_summarization/test_images/xmen-gold-2017-1/5.jpg: cannot identify image file '/content/drive/MyDrive/multimodal_summarization/test_images/xmen-gold-2017-1/5.jpg'\n"
          ]
        },
        {
          "name": "stderr",
          "output_type": "stream",
          "text": [
            "\rEvaluating:  91%|█████████ | 146/161 [3:18:03<08:01, 32.09s/it]"
          ]
        },
        {
          "name": "stdout",
          "output_type": "stream",
          "text": [
            "[ERROR] Loading /content/drive/MyDrive/multimodal_summarization/test_images/xmen-gold-2017-1/6.jpg: cannot identify image file '/content/drive/MyDrive/multimodal_summarization/test_images/xmen-gold-2017-1/6.jpg'\n",
            "[ERROR] Loading /content/drive/MyDrive/multimodal_summarization/test_images/xmen-gold-2017-1/7.jpg: cannot identify image file '/content/drive/MyDrive/multimodal_summarization/test_images/xmen-gold-2017-1/7.jpg'\n",
            "[ERROR] Loading /content/drive/MyDrive/multimodal_summarization/test_images/xmen-gold-2017-1/8.jpg: cannot identify image file '/content/drive/MyDrive/multimodal_summarization/test_images/xmen-gold-2017-1/8.jpg'\n",
            "[ERROR] Loading /content/drive/MyDrive/multimodal_summarization/test_images/xmen-gold-2017-1/9.jpg: cannot identify image file '/content/drive/MyDrive/multimodal_summarization/test_images/xmen-gold-2017-1/9.jpg'\n",
            "[ERROR] Loading /content/drive/MyDrive/multimodal_summarization/test_images/xmen-gold-2017-1/10.jpg: cannot identify image file '/content/drive/MyDrive/multimodal_summarization/test_images/xmen-gold-2017-1/10.jpg'\n",
            "[ERROR] Loading /content/drive/MyDrive/multimodal_summarization/test_images/xmen-gold-2017-1/11.jpg: cannot identify image file '/content/drive/MyDrive/multimodal_summarization/test_images/xmen-gold-2017-1/11.jpg'\n",
            "[ERROR] Loading /content/drive/MyDrive/multimodal_summarization/test_images/xmen-gold-2017-1/12.jpg: cannot identify image file '/content/drive/MyDrive/multimodal_summarization/test_images/xmen-gold-2017-1/12.jpg'\n",
            "[ERROR] Loading /content/drive/MyDrive/multimodal_summarization/test_images/xmen-gold-2017-1/13.jpg: cannot identify image file '/content/drive/MyDrive/multimodal_summarization/test_images/xmen-gold-2017-1/13.jpg'\n",
            "[ERROR] Loading /content/drive/MyDrive/multimodal_summarization/test_images/xmen-gold-2017-1/14.jpg: cannot identify image file '/content/drive/MyDrive/multimodal_summarization/test_images/xmen-gold-2017-1/14.jpg'\n",
            "[ERROR] Loading /content/drive/MyDrive/multimodal_summarization/test_images/xmen-gold-2017-1/15.jpg: cannot identify image file '/content/drive/MyDrive/multimodal_summarization/test_images/xmen-gold-2017-1/15.jpg'\n",
            "[ERROR] Loading /content/drive/MyDrive/multimodal_summarization/test_images/xmen-gold-2017-1/16.jpg: cannot identify image file '/content/drive/MyDrive/multimodal_summarization/test_images/xmen-gold-2017-1/16.jpg'\n",
            "[ERROR] Loading /content/drive/MyDrive/multimodal_summarization/test_images/xmen-gold-2017-1/17.jpg: cannot identify image file '/content/drive/MyDrive/multimodal_summarization/test_images/xmen-gold-2017-1/17.jpg'\n",
            "[ERROR] Loading /content/drive/MyDrive/multimodal_summarization/test_images/xmen-gold-2017-1/18.jpg: cannot identify image file '/content/drive/MyDrive/multimodal_summarization/test_images/xmen-gold-2017-1/18.jpg'\n",
            "[ERROR] Loading /content/drive/MyDrive/multimodal_summarization/test_images/xmen-gold-2017-1/19.jpg: cannot identify image file '/content/drive/MyDrive/multimodal_summarization/test_images/xmen-gold-2017-1/19.jpg'\n",
            "[ERROR] Loading /content/drive/MyDrive/multimodal_summarization/test_images/xmen-gold-2017-1/20.jpg: cannot identify image file '/content/drive/MyDrive/multimodal_summarization/test_images/xmen-gold-2017-1/20.jpg'\n",
            "[ERROR] Loading /content/drive/MyDrive/multimodal_summarization/test_images/xmen-gold-2017-1/21.jpg: cannot identify image file '/content/drive/MyDrive/multimodal_summarization/test_images/xmen-gold-2017-1/21.jpg'\n",
            "[ERROR] Loading /content/drive/MyDrive/multimodal_summarization/test_images/xmen-gold-2017-1/22.jpg: cannot identify image file '/content/drive/MyDrive/multimodal_summarization/test_images/xmen-gold-2017-1/22.jpg'\n",
            "[ERROR] Loading /content/drive/MyDrive/multimodal_summarization/test_images/xmen-gold-2017-1/23.jpg: cannot identify image file '/content/drive/MyDrive/multimodal_summarization/test_images/xmen-gold-2017-1/23.jpg'\n",
            "[ERROR] Loading /content/drive/MyDrive/multimodal_summarization/test_images/xmen-gold-2017-1/24.jpg: cannot identify image file '/content/drive/MyDrive/multimodal_summarization/test_images/xmen-gold-2017-1/24.jpg'\n",
            "[ERROR] Loading /content/drive/MyDrive/multimodal_summarization/test_images/xmen-gold-2017-1/25.jpg: cannot identify image file '/content/drive/MyDrive/multimodal_summarization/test_images/xmen-gold-2017-1/25.jpg'\n"
          ]
        },
        {
          "name": "stderr",
          "output_type": "stream",
          "text": [
            "\rEvaluating:  91%|█████████▏| 147/161 [3:18:28<07:00, 30.03s/it]"
          ]
        },
        {
          "name": "stdout",
          "output_type": "stream",
          "text": [
            "[ERROR] Loading /content/drive/MyDrive/multimodal_summarization/test_images/xmen-gold-2017-1/26.jpg: cannot identify image file '/content/drive/MyDrive/multimodal_summarization/test_images/xmen-gold-2017-1/26.jpg'\n",
            "[ERROR] Loading /content/drive/MyDrive/multimodal_summarization/test_images/xmen-gold-2017-1/27.jpg: cannot identify image file '/content/drive/MyDrive/multimodal_summarization/test_images/xmen-gold-2017-1/27.jpg'\n",
            "[ERROR] Loading /content/drive/MyDrive/multimodal_summarization/test_images/xmen-gold-2017-1/28.jpg: cannot identify image file '/content/drive/MyDrive/multimodal_summarization/test_images/xmen-gold-2017-1/28.jpg'\n",
            "[ERROR] Loading /content/drive/MyDrive/multimodal_summarization/test_images/xmen-gold-2017-1/29.jpg: cannot identify image file '/content/drive/MyDrive/multimodal_summarization/test_images/xmen-gold-2017-1/29.jpg'\n",
            "[ERROR] Loading /content/drive/MyDrive/multimodal_summarization/test_images/xmen-gold-2017-1/30.jpg: cannot identify image file '/content/drive/MyDrive/multimodal_summarization/test_images/xmen-gold-2017-1/30.jpg'\n",
            "[ERROR] Loading /content/drive/MyDrive/multimodal_summarization/test_images/xmen-gold-2017-1/31.jpg: cannot identify image file '/content/drive/MyDrive/multimodal_summarization/test_images/xmen-gold-2017-1/31.jpg'\n",
            "[ERROR] Loading /content/drive/MyDrive/multimodal_summarization/test_images/xmen-gold-2017-1/32.jpg: cannot identify image file '/content/drive/MyDrive/multimodal_summarization/test_images/xmen-gold-2017-1/32.jpg'\n",
            "[ERROR] Loading /content/drive/MyDrive/multimodal_summarization/test_images/xmen-gold-2017-10/1.jpg: cannot identify image file '/content/drive/MyDrive/multimodal_summarization/test_images/xmen-gold-2017-10/1.jpg'\n",
            "[ERROR] Loading /content/drive/MyDrive/multimodal_summarization/test_images/xmen-gold-2017-10/2.jpg: cannot identify image file '/content/drive/MyDrive/multimodal_summarization/test_images/xmen-gold-2017-10/2.jpg'\n",
            "[ERROR] Loading /content/drive/MyDrive/multimodal_summarization/test_images/xmen-gold-2017-10/3.jpg: cannot identify image file '/content/drive/MyDrive/multimodal_summarization/test_images/xmen-gold-2017-10/3.jpg'\n",
            "[ERROR] Loading /content/drive/MyDrive/multimodal_summarization/test_images/xmen-gold-2017-10/4.jpg: cannot identify image file '/content/drive/MyDrive/multimodal_summarization/test_images/xmen-gold-2017-10/4.jpg'\n",
            "[ERROR] Loading /content/drive/MyDrive/multimodal_summarization/test_images/xmen-gold-2017-10/5.jpg: cannot identify image file '/content/drive/MyDrive/multimodal_summarization/test_images/xmen-gold-2017-10/5.jpg'\n",
            "[ERROR] Loading /content/drive/MyDrive/multimodal_summarization/test_images/xmen-gold-2017-10/6.jpg: cannot identify image file '/content/drive/MyDrive/multimodal_summarization/test_images/xmen-gold-2017-10/6.jpg'\n",
            "[ERROR] Loading /content/drive/MyDrive/multimodal_summarization/test_images/xmen-gold-2017-10/7.jpg: cannot identify image file '/content/drive/MyDrive/multimodal_summarization/test_images/xmen-gold-2017-10/7.jpg'\n",
            "[ERROR] Loading /content/drive/MyDrive/multimodal_summarization/test_images/xmen-gold-2017-10/8.jpg: cannot identify image file '/content/drive/MyDrive/multimodal_summarization/test_images/xmen-gold-2017-10/8.jpg'\n",
            "[ERROR] Loading /content/drive/MyDrive/multimodal_summarization/test_images/xmen-gold-2017-10/9.jpg: cannot identify image file '/content/drive/MyDrive/multimodal_summarization/test_images/xmen-gold-2017-10/9.jpg'\n",
            "[ERROR] Loading /content/drive/MyDrive/multimodal_summarization/test_images/xmen-gold-2017-10/10.jpg: cannot identify image file '/content/drive/MyDrive/multimodal_summarization/test_images/xmen-gold-2017-10/10.jpg'\n"
          ]
        },
        {
          "name": "stderr",
          "output_type": "stream",
          "text": [
            "\rEvaluating:  92%|█████████▏| 148/161 [3:18:54<06:12, 28.69s/it]"
          ]
        },
        {
          "name": "stdout",
          "output_type": "stream",
          "text": [
            "[ERROR] Loading /content/drive/MyDrive/multimodal_summarization/test_images/xmen-gold-2017-10/11.jpg: cannot identify image file '/content/drive/MyDrive/multimodal_summarization/test_images/xmen-gold-2017-10/11.jpg'\n",
            "[ERROR] Loading /content/drive/MyDrive/multimodal_summarization/test_images/xmen-gold-2017-10/12.jpg: cannot identify image file '/content/drive/MyDrive/multimodal_summarization/test_images/xmen-gold-2017-10/12.jpg'\n",
            "[ERROR] Loading /content/drive/MyDrive/multimodal_summarization/test_images/xmen-gold-2017-10/13.jpg: cannot identify image file '/content/drive/MyDrive/multimodal_summarization/test_images/xmen-gold-2017-10/13.jpg'\n",
            "[ERROR] Loading /content/drive/MyDrive/multimodal_summarization/test_images/xmen-gold-2017-10/14.jpg: cannot identify image file '/content/drive/MyDrive/multimodal_summarization/test_images/xmen-gold-2017-10/14.jpg'\n",
            "[ERROR] Loading /content/drive/MyDrive/multimodal_summarization/test_images/xmen-gold-2017-10/15.jpg: cannot identify image file '/content/drive/MyDrive/multimodal_summarization/test_images/xmen-gold-2017-10/15.jpg'\n",
            "[ERROR] Loading /content/drive/MyDrive/multimodal_summarization/test_images/xmen-gold-2017-10/16.jpg: cannot identify image file '/content/drive/MyDrive/multimodal_summarization/test_images/xmen-gold-2017-10/16.jpg'\n",
            "[ERROR] Loading /content/drive/MyDrive/multimodal_summarization/test_images/xmen-gold-2017-10/17.jpg: cannot identify image file '/content/drive/MyDrive/multimodal_summarization/test_images/xmen-gold-2017-10/17.jpg'\n",
            "[ERROR] Loading /content/drive/MyDrive/multimodal_summarization/test_images/xmen-gold-2017-10/18.jpg: cannot identify image file '/content/drive/MyDrive/multimodal_summarization/test_images/xmen-gold-2017-10/18.jpg'\n",
            "[ERROR] Loading /content/drive/MyDrive/multimodal_summarization/test_images/xmen-gold-2017-10/19.jpg: cannot identify image file '/content/drive/MyDrive/multimodal_summarization/test_images/xmen-gold-2017-10/19.jpg'\n",
            "[ERROR] Loading /content/drive/MyDrive/multimodal_summarization/test_images/xmen-gold-2017-10/20.jpg: cannot identify image file '/content/drive/MyDrive/multimodal_summarization/test_images/xmen-gold-2017-10/20.jpg'\n",
            "[ERROR] Loading /content/drive/MyDrive/multimodal_summarization/test_images/xmen-gold-2017-10/21.jpg: cannot identify image file '/content/drive/MyDrive/multimodal_summarization/test_images/xmen-gold-2017-10/21.jpg'\n",
            "[ERROR] Loading /content/drive/MyDrive/multimodal_summarization/test_images/xmen-gold-2017-10/22.jpg: cannot identify image file '/content/drive/MyDrive/multimodal_summarization/test_images/xmen-gold-2017-10/22.jpg'\n",
            "[ERROR] Loading /content/drive/MyDrive/multimodal_summarization/test_images/xmen-gold-2017-10/23.jpg: cannot identify image file '/content/drive/MyDrive/multimodal_summarization/test_images/xmen-gold-2017-10/23.jpg'\n",
            "[ERROR] Loading /content/drive/MyDrive/multimodal_summarization/test_images/xmen-gold-2017-10/24.jpg: cannot identify image file '/content/drive/MyDrive/multimodal_summarization/test_images/xmen-gold-2017-10/24.jpg'\n",
            "[ERROR] Loading /content/drive/MyDrive/multimodal_summarization/test_images/xmen-gold-2017-10/25.jpg: cannot identify image file '/content/drive/MyDrive/multimodal_summarization/test_images/xmen-gold-2017-10/25.jpg'\n",
            "[ERROR] Loading /content/drive/MyDrive/multimodal_summarization/test_images/xmen-gold-2017-14/1.jpg: cannot identify image file '/content/drive/MyDrive/multimodal_summarization/test_images/xmen-gold-2017-14/1.jpg'\n",
            "[ERROR] Loading /content/drive/MyDrive/multimodal_summarization/test_images/xmen-gold-2017-14/2.jpg: cannot identify image file '/content/drive/MyDrive/multimodal_summarization/test_images/xmen-gold-2017-14/2.jpg'\n",
            "[ERROR] Loading /content/drive/MyDrive/multimodal_summarization/test_images/xmen-gold-2017-14/3.jpg: cannot identify image file '/content/drive/MyDrive/multimodal_summarization/test_images/xmen-gold-2017-14/3.jpg'\n",
            "[ERROR] Loading /content/drive/MyDrive/multimodal_summarization/test_images/xmen-gold-2017-14/4.jpg: cannot identify image file '/content/drive/MyDrive/multimodal_summarization/test_images/xmen-gold-2017-14/4.jpg'\n",
            "[ERROR] Loading /content/drive/MyDrive/multimodal_summarization/test_images/xmen-gold-2017-14/5.jpg: cannot identify image file '/content/drive/MyDrive/multimodal_summarization/test_images/xmen-gold-2017-14/5.jpg'\n"
          ]
        },
        {
          "name": "stderr",
          "output_type": "stream",
          "text": [
            "\rEvaluating:  93%|█████████▎| 149/161 [3:19:19<05:32, 27.70s/it]"
          ]
        },
        {
          "name": "stdout",
          "output_type": "stream",
          "text": [
            "[ERROR] Loading /content/drive/MyDrive/multimodal_summarization/test_images/xmen-gold-2017-14/6.jpg: cannot identify image file '/content/drive/MyDrive/multimodal_summarization/test_images/xmen-gold-2017-14/6.jpg'\n",
            "[ERROR] Loading /content/drive/MyDrive/multimodal_summarization/test_images/xmen-gold-2017-14/7.jpg: cannot identify image file '/content/drive/MyDrive/multimodal_summarization/test_images/xmen-gold-2017-14/7.jpg'\n",
            "[ERROR] Loading /content/drive/MyDrive/multimodal_summarization/test_images/xmen-gold-2017-14/8.jpg: cannot identify image file '/content/drive/MyDrive/multimodal_summarization/test_images/xmen-gold-2017-14/8.jpg'\n",
            "[ERROR] Loading /content/drive/MyDrive/multimodal_summarization/test_images/xmen-gold-2017-14/9.jpg: cannot identify image file '/content/drive/MyDrive/multimodal_summarization/test_images/xmen-gold-2017-14/9.jpg'\n",
            "[ERROR] Loading /content/drive/MyDrive/multimodal_summarization/test_images/xmen-gold-2017-14/10.jpg: cannot identify image file '/content/drive/MyDrive/multimodal_summarization/test_images/xmen-gold-2017-14/10.jpg'\n",
            "[ERROR] Loading /content/drive/MyDrive/multimodal_summarization/test_images/xmen-gold-2017-14/11.jpg: cannot identify image file '/content/drive/MyDrive/multimodal_summarization/test_images/xmen-gold-2017-14/11.jpg'\n",
            "[ERROR] Loading /content/drive/MyDrive/multimodal_summarization/test_images/xmen-gold-2017-14/12.jpg: cannot identify image file '/content/drive/MyDrive/multimodal_summarization/test_images/xmen-gold-2017-14/12.jpg'\n",
            "[ERROR] Loading /content/drive/MyDrive/multimodal_summarization/test_images/xmen-gold-2017-14/13.jpg: cannot identify image file '/content/drive/MyDrive/multimodal_summarization/test_images/xmen-gold-2017-14/13.jpg'\n",
            "[ERROR] Loading /content/drive/MyDrive/multimodal_summarization/test_images/xmen-gold-2017-14/14.jpg: cannot identify image file '/content/drive/MyDrive/multimodal_summarization/test_images/xmen-gold-2017-14/14.jpg'\n",
            "[ERROR] Loading /content/drive/MyDrive/multimodal_summarization/test_images/xmen-gold-2017-14/15.jpg: cannot identify image file '/content/drive/MyDrive/multimodal_summarization/test_images/xmen-gold-2017-14/15.jpg'\n",
            "[ERROR] Loading /content/drive/MyDrive/multimodal_summarization/test_images/xmen-gold-2017-14/16.jpg: cannot identify image file '/content/drive/MyDrive/multimodal_summarization/test_images/xmen-gold-2017-14/16.jpg'\n",
            "[ERROR] Loading /content/drive/MyDrive/multimodal_summarization/test_images/xmen-gold-2017-14/17.jpg: cannot identify image file '/content/drive/MyDrive/multimodal_summarization/test_images/xmen-gold-2017-14/17.jpg'\n",
            "[ERROR] Loading /content/drive/MyDrive/multimodal_summarization/test_images/xmen-gold-2017-14/18.jpg: cannot identify image file '/content/drive/MyDrive/multimodal_summarization/test_images/xmen-gold-2017-14/18.jpg'\n",
            "[ERROR] Loading /content/drive/MyDrive/multimodal_summarization/test_images/xmen-gold-2017-14/19.jpg: cannot identify image file '/content/drive/MyDrive/multimodal_summarization/test_images/xmen-gold-2017-14/19.jpg'\n",
            "[ERROR] Loading /content/drive/MyDrive/multimodal_summarization/test_images/xmen-gold-2017-14/20.jpg: cannot identify image file '/content/drive/MyDrive/multimodal_summarization/test_images/xmen-gold-2017-14/20.jpg'\n",
            "[ERROR] Loading /content/drive/MyDrive/multimodal_summarization/test_images/xmen-gold-2017-14/21.jpg: cannot identify image file '/content/drive/MyDrive/multimodal_summarization/test_images/xmen-gold-2017-14/21.jpg'\n",
            "[ERROR] Loading /content/drive/MyDrive/multimodal_summarization/test_images/xmen-gold-2017-14/22.jpg: cannot identify image file '/content/drive/MyDrive/multimodal_summarization/test_images/xmen-gold-2017-14/22.jpg'\n",
            "[ERROR] Loading /content/drive/MyDrive/multimodal_summarization/test_images/xmen-gold-2017-14/23.jpg: cannot identify image file '/content/drive/MyDrive/multimodal_summarization/test_images/xmen-gold-2017-14/23.jpg'\n",
            "[ERROR] Loading /content/drive/MyDrive/multimodal_summarization/test_images/xmen-gold-2017-14/24.jpg: cannot identify image file '/content/drive/MyDrive/multimodal_summarization/test_images/xmen-gold-2017-14/24.jpg'\n"
          ]
        },
        {
          "name": "stderr",
          "output_type": "stream",
          "text": [
            "\rEvaluating:  93%|█████████▎| 150/161 [3:19:44<04:56, 26.94s/it]"
          ]
        },
        {
          "name": "stdout",
          "output_type": "stream",
          "text": [
            "[ERROR] Loading /content/drive/MyDrive/multimodal_summarization/test_images/xmen-gold-2017-3/1.jpg: cannot identify image file '/content/drive/MyDrive/multimodal_summarization/test_images/xmen-gold-2017-3/1.jpg'\n",
            "[ERROR] Loading /content/drive/MyDrive/multimodal_summarization/test_images/xmen-gold-2017-3/2.jpg: cannot identify image file '/content/drive/MyDrive/multimodal_summarization/test_images/xmen-gold-2017-3/2.jpg'\n",
            "[ERROR] Loading /content/drive/MyDrive/multimodal_summarization/test_images/xmen-gold-2017-3/3.jpg: cannot identify image file '/content/drive/MyDrive/multimodal_summarization/test_images/xmen-gold-2017-3/3.jpg'\n",
            "[ERROR] Loading /content/drive/MyDrive/multimodal_summarization/test_images/xmen-gold-2017-3/4.jpg: cannot identify image file '/content/drive/MyDrive/multimodal_summarization/test_images/xmen-gold-2017-3/4.jpg'\n",
            "[ERROR] Loading /content/drive/MyDrive/multimodal_summarization/test_images/xmen-gold-2017-3/5.jpg: cannot identify image file '/content/drive/MyDrive/multimodal_summarization/test_images/xmen-gold-2017-3/5.jpg'\n",
            "[ERROR] Loading /content/drive/MyDrive/multimodal_summarization/test_images/xmen-gold-2017-3/6.jpg: cannot identify image file '/content/drive/MyDrive/multimodal_summarization/test_images/xmen-gold-2017-3/6.jpg'\n",
            "[ERROR] Loading /content/drive/MyDrive/multimodal_summarization/test_images/xmen-gold-2017-3/7.jpg: cannot identify image file '/content/drive/MyDrive/multimodal_summarization/test_images/xmen-gold-2017-3/7.jpg'\n",
            "[ERROR] Loading /content/drive/MyDrive/multimodal_summarization/test_images/xmen-gold-2017-3/8.jpg: cannot identify image file '/content/drive/MyDrive/multimodal_summarization/test_images/xmen-gold-2017-3/8.jpg'\n",
            "[ERROR] Loading /content/drive/MyDrive/multimodal_summarization/test_images/xmen-gold-2017-3/9.jpg: cannot identify image file '/content/drive/MyDrive/multimodal_summarization/test_images/xmen-gold-2017-3/9.jpg'\n",
            "[ERROR] Loading /content/drive/MyDrive/multimodal_summarization/test_images/xmen-gold-2017-3/10.jpg: cannot identify image file '/content/drive/MyDrive/multimodal_summarization/test_images/xmen-gold-2017-3/10.jpg'\n",
            "[ERROR] Loading /content/drive/MyDrive/multimodal_summarization/test_images/xmen-gold-2017-3/11.jpg: cannot identify image file '/content/drive/MyDrive/multimodal_summarization/test_images/xmen-gold-2017-3/11.jpg'\n",
            "[ERROR] Loading /content/drive/MyDrive/multimodal_summarization/test_images/xmen-gold-2017-3/12.jpg: cannot identify image file '/content/drive/MyDrive/multimodal_summarization/test_images/xmen-gold-2017-3/12.jpg'\n",
            "[ERROR] Loading /content/drive/MyDrive/multimodal_summarization/test_images/xmen-gold-2017-3/13.jpg: cannot identify image file '/content/drive/MyDrive/multimodal_summarization/test_images/xmen-gold-2017-3/13.jpg'\n",
            "[ERROR] Loading /content/drive/MyDrive/multimodal_summarization/test_images/xmen-gold-2017-3/14.jpg: cannot identify image file '/content/drive/MyDrive/multimodal_summarization/test_images/xmen-gold-2017-3/14.jpg'\n",
            "[ERROR] Loading /content/drive/MyDrive/multimodal_summarization/test_images/xmen-gold-2017-3/15.jpg: cannot identify image file '/content/drive/MyDrive/multimodal_summarization/test_images/xmen-gold-2017-3/15.jpg'\n",
            "[ERROR] Loading /content/drive/MyDrive/multimodal_summarization/test_images/xmen-gold-2017-3/16.jpg: cannot identify image file '/content/drive/MyDrive/multimodal_summarization/test_images/xmen-gold-2017-3/16.jpg'\n",
            "[ERROR] Loading /content/drive/MyDrive/multimodal_summarization/test_images/xmen-gold-2017-3/17.jpg: cannot identify image file '/content/drive/MyDrive/multimodal_summarization/test_images/xmen-gold-2017-3/17.jpg'\n",
            "[ERROR] Loading /content/drive/MyDrive/multimodal_summarization/test_images/xmen-gold-2017-3/18.jpg: cannot identify image file '/content/drive/MyDrive/multimodal_summarization/test_images/xmen-gold-2017-3/18.jpg'\n",
            "[ERROR] Loading /content/drive/MyDrive/multimodal_summarization/test_images/xmen-gold-2017-3/19.jpg: cannot identify image file '/content/drive/MyDrive/multimodal_summarization/test_images/xmen-gold-2017-3/19.jpg'\n",
            "[ERROR] Loading /content/drive/MyDrive/multimodal_summarization/test_images/xmen-gold-2017-3/20.jpg: cannot identify image file '/content/drive/MyDrive/multimodal_summarization/test_images/xmen-gold-2017-3/20.jpg'\n"
          ]
        },
        {
          "name": "stderr",
          "output_type": "stream",
          "text": [
            "\rEvaluating:  94%|█████████▍| 151/161 [3:20:10<04:24, 26.48s/it]"
          ]
        },
        {
          "name": "stdout",
          "output_type": "stream",
          "text": [
            "[ERROR] Loading /content/drive/MyDrive/multimodal_summarization/test_images/xmen-gold-2017-3/21.jpg: cannot identify image file '/content/drive/MyDrive/multimodal_summarization/test_images/xmen-gold-2017-3/21.jpg'\n",
            "[ERROR] Loading /content/drive/MyDrive/multimodal_summarization/test_images/xmen-gold-2017-3/22.jpg: cannot identify image file '/content/drive/MyDrive/multimodal_summarization/test_images/xmen-gold-2017-3/22.jpg'\n",
            "[ERROR] Loading /content/drive/MyDrive/multimodal_summarization/test_images/xmen-gold-2017-3/23.jpg: cannot identify image file '/content/drive/MyDrive/multimodal_summarization/test_images/xmen-gold-2017-3/23.jpg'\n",
            "[ERROR] Loading /content/drive/MyDrive/multimodal_summarization/test_images/xmen-gold-2017-7/1.jpg: cannot identify image file '/content/drive/MyDrive/multimodal_summarization/test_images/xmen-gold-2017-7/1.jpg'\n",
            "[ERROR] Loading /content/drive/MyDrive/multimodal_summarization/test_images/xmen-gold-2017-7/2.jpg: cannot identify image file '/content/drive/MyDrive/multimodal_summarization/test_images/xmen-gold-2017-7/2.jpg'\n",
            "[ERROR] Loading /content/drive/MyDrive/multimodal_summarization/test_images/xmen-gold-2017-7/3.jpg: cannot identify image file '/content/drive/MyDrive/multimodal_summarization/test_images/xmen-gold-2017-7/3.jpg'\n",
            "[ERROR] Loading /content/drive/MyDrive/multimodal_summarization/test_images/xmen-gold-2017-7/4.jpg: cannot identify image file '/content/drive/MyDrive/multimodal_summarization/test_images/xmen-gold-2017-7/4.jpg'\n",
            "[ERROR] Loading /content/drive/MyDrive/multimodal_summarization/test_images/xmen-gold-2017-7/5.jpg: cannot identify image file '/content/drive/MyDrive/multimodal_summarization/test_images/xmen-gold-2017-7/5.jpg'\n",
            "[ERROR] Loading /content/drive/MyDrive/multimodal_summarization/test_images/xmen-gold-2017-7/6.jpg: cannot identify image file '/content/drive/MyDrive/multimodal_summarization/test_images/xmen-gold-2017-7/6.jpg'\n",
            "[ERROR] Loading /content/drive/MyDrive/multimodal_summarization/test_images/xmen-gold-2017-7/7.jpg: cannot identify image file '/content/drive/MyDrive/multimodal_summarization/test_images/xmen-gold-2017-7/7.jpg'\n",
            "[ERROR] Loading /content/drive/MyDrive/multimodal_summarization/test_images/xmen-gold-2017-7/8.jpg: cannot identify image file '/content/drive/MyDrive/multimodal_summarization/test_images/xmen-gold-2017-7/8.jpg'\n",
            "[ERROR] Loading /content/drive/MyDrive/multimodal_summarization/test_images/xmen-gold-2017-7/9.jpg: cannot identify image file '/content/drive/MyDrive/multimodal_summarization/test_images/xmen-gold-2017-7/9.jpg'\n",
            "[ERROR] Loading /content/drive/MyDrive/multimodal_summarization/test_images/xmen-gold-2017-7/10.jpg: cannot identify image file '/content/drive/MyDrive/multimodal_summarization/test_images/xmen-gold-2017-7/10.jpg'\n",
            "[ERROR] Loading /content/drive/MyDrive/multimodal_summarization/test_images/xmen-gold-2017-7/11.jpg: cannot identify image file '/content/drive/MyDrive/multimodal_summarization/test_images/xmen-gold-2017-7/11.jpg'\n",
            "[ERROR] Loading /content/drive/MyDrive/multimodal_summarization/test_images/xmen-gold-2017-7/12.jpg: cannot identify image file '/content/drive/MyDrive/multimodal_summarization/test_images/xmen-gold-2017-7/12.jpg'\n",
            "[ERROR] Loading /content/drive/MyDrive/multimodal_summarization/test_images/xmen-gold-2017-7/13.jpg: cannot identify image file '/content/drive/MyDrive/multimodal_summarization/test_images/xmen-gold-2017-7/13.jpg'\n",
            "[ERROR] Loading /content/drive/MyDrive/multimodal_summarization/test_images/xmen-gold-2017-7/14.jpg: cannot identify image file '/content/drive/MyDrive/multimodal_summarization/test_images/xmen-gold-2017-7/14.jpg'\n",
            "[ERROR] Loading /content/drive/MyDrive/multimodal_summarization/test_images/xmen-gold-2017-7/15.jpg: cannot identify image file '/content/drive/MyDrive/multimodal_summarization/test_images/xmen-gold-2017-7/15.jpg'\n"
          ]
        },
        {
          "name": "stderr",
          "output_type": "stream",
          "text": [
            "\rEvaluating:  94%|█████████▍| 152/161 [3:20:35<03:55, 26.13s/it]"
          ]
        },
        {
          "name": "stdout",
          "output_type": "stream",
          "text": [
            "[ERROR] Loading /content/drive/MyDrive/multimodal_summarization/test_images/xmen-gold-2017-7/16.jpg: cannot identify image file '/content/drive/MyDrive/multimodal_summarization/test_images/xmen-gold-2017-7/16.jpg'\n",
            "[ERROR] Loading /content/drive/MyDrive/multimodal_summarization/test_images/xmen-gold-2017-7/17.jpg: cannot identify image file '/content/drive/MyDrive/multimodal_summarization/test_images/xmen-gold-2017-7/17.jpg'\n",
            "[ERROR] Loading /content/drive/MyDrive/multimodal_summarization/test_images/xmen-gold-2017-7/18.jpg: cannot identify image file '/content/drive/MyDrive/multimodal_summarization/test_images/xmen-gold-2017-7/18.jpg'\n",
            "[ERROR] Loading /content/drive/MyDrive/multimodal_summarization/test_images/xmen-gold-2017-7/19.jpg: cannot identify image file '/content/drive/MyDrive/multimodal_summarization/test_images/xmen-gold-2017-7/19.jpg'\n",
            "[ERROR] Loading /content/drive/MyDrive/multimodal_summarization/test_images/xmen-gold-2017-7/20.jpg: cannot identify image file '/content/drive/MyDrive/multimodal_summarization/test_images/xmen-gold-2017-7/20.jpg'\n",
            "[ERROR] Loading /content/drive/MyDrive/multimodal_summarization/test_images/xmen-gold-2017-7/21.jpg: cannot identify image file '/content/drive/MyDrive/multimodal_summarization/test_images/xmen-gold-2017-7/21.jpg'\n",
            "[ERROR] Loading /content/drive/MyDrive/multimodal_summarization/test_images/xmen-gold-2017-7/22.jpg: cannot identify image file '/content/drive/MyDrive/multimodal_summarization/test_images/xmen-gold-2017-7/22.jpg'\n",
            "[ERROR] Loading /content/drive/MyDrive/multimodal_summarization/test_images/xmen-gold-2017-7/23.jpg: cannot identify image file '/content/drive/MyDrive/multimodal_summarization/test_images/xmen-gold-2017-7/23.jpg'\n",
            "[ERROR] Loading /content/drive/MyDrive/multimodal_summarization/test_images/xmen-gold-2017-7/24.jpg: cannot identify image file '/content/drive/MyDrive/multimodal_summarization/test_images/xmen-gold-2017-7/24.jpg'\n",
            "[ERROR] Loading /content/drive/MyDrive/multimodal_summarization/test_images/xmen-gold-2017-7/25.jpg: cannot identify image file '/content/drive/MyDrive/multimodal_summarization/test_images/xmen-gold-2017-7/25.jpg'\n",
            "[ERROR] Loading /content/drive/MyDrive/multimodal_summarization/test_images/xmen-prime-2017-1/1.jpg: cannot identify image file '/content/drive/MyDrive/multimodal_summarization/test_images/xmen-prime-2017-1/1.jpg'\n",
            "[ERROR] Loading /content/drive/MyDrive/multimodal_summarization/test_images/xmen-prime-2017-1/2.jpg: cannot identify image file '/content/drive/MyDrive/multimodal_summarization/test_images/xmen-prime-2017-1/2.jpg'\n",
            "[ERROR] Loading /content/drive/MyDrive/multimodal_summarization/test_images/xmen-prime-2017-1/3.jpg: cannot identify image file '/content/drive/MyDrive/multimodal_summarization/test_images/xmen-prime-2017-1/3.jpg'\n",
            "[ERROR] Loading /content/drive/MyDrive/multimodal_summarization/test_images/xmen-prime-2017-1/4.jpg: cannot identify image file '/content/drive/MyDrive/multimodal_summarization/test_images/xmen-prime-2017-1/4.jpg'\n",
            "[ERROR] Loading /content/drive/MyDrive/multimodal_summarization/test_images/xmen-prime-2017-1/5.jpg: cannot identify image file '/content/drive/MyDrive/multimodal_summarization/test_images/xmen-prime-2017-1/5.jpg'\n",
            "[ERROR] Loading /content/drive/MyDrive/multimodal_summarization/test_images/xmen-prime-2017-1/6.jpg: cannot identify image file '/content/drive/MyDrive/multimodal_summarization/test_images/xmen-prime-2017-1/6.jpg'\n",
            "[ERROR] Loading /content/drive/MyDrive/multimodal_summarization/test_images/xmen-prime-2017-1/7.jpg: cannot identify image file '/content/drive/MyDrive/multimodal_summarization/test_images/xmen-prime-2017-1/7.jpg'\n",
            "[ERROR] Loading /content/drive/MyDrive/multimodal_summarization/test_images/xmen-prime-2017-1/8.jpg: cannot identify image file '/content/drive/MyDrive/multimodal_summarization/test_images/xmen-prime-2017-1/8.jpg'\n",
            "[ERROR] Loading /content/drive/MyDrive/multimodal_summarization/test_images/xmen-prime-2017-1/9.jpg: cannot identify image file '/content/drive/MyDrive/multimodal_summarization/test_images/xmen-prime-2017-1/9.jpg'\n",
            "[ERROR] Loading /content/drive/MyDrive/multimodal_summarization/test_images/xmen-prime-2017-1/10.jpg: cannot identify image file '/content/drive/MyDrive/multimodal_summarization/test_images/xmen-prime-2017-1/10.jpg'\n"
          ]
        },
        {
          "name": "stderr",
          "output_type": "stream",
          "text": [
            "\rEvaluating:  95%|█████████▌| 153/161 [3:21:01<03:27, 25.94s/it]"
          ]
        },
        {
          "name": "stdout",
          "output_type": "stream",
          "text": [
            "[ERROR] Loading /content/drive/MyDrive/multimodal_summarization/test_images/xmen-prime-2017-1/11.jpg: cannot identify image file '/content/drive/MyDrive/multimodal_summarization/test_images/xmen-prime-2017-1/11.jpg'\n",
            "[ERROR] Loading /content/drive/MyDrive/multimodal_summarization/test_images/xmen-prime-2017-1/12.jpg: cannot identify image file '/content/drive/MyDrive/multimodal_summarization/test_images/xmen-prime-2017-1/12.jpg'\n",
            "[ERROR] Loading /content/drive/MyDrive/multimodal_summarization/test_images/xmen-prime-2017-1/13.jpg: cannot identify image file '/content/drive/MyDrive/multimodal_summarization/test_images/xmen-prime-2017-1/13.jpg'\n",
            "[ERROR] Loading /content/drive/MyDrive/multimodal_summarization/test_images/xmen-prime-2017-1/14.jpg: cannot identify image file '/content/drive/MyDrive/multimodal_summarization/test_images/xmen-prime-2017-1/14.jpg'\n",
            "[ERROR] Loading /content/drive/MyDrive/multimodal_summarization/test_images/xmen-prime-2017-1/15.jpg: cannot identify image file '/content/drive/MyDrive/multimodal_summarization/test_images/xmen-prime-2017-1/15.jpg'\n",
            "[ERROR] Loading /content/drive/MyDrive/multimodal_summarization/test_images/xmen-prime-2017-1/16.jpg: cannot identify image file '/content/drive/MyDrive/multimodal_summarization/test_images/xmen-prime-2017-1/16.jpg'\n",
            "[ERROR] Loading /content/drive/MyDrive/multimodal_summarization/test_images/xmen-prime-2017-1/17.jpg: cannot identify image file '/content/drive/MyDrive/multimodal_summarization/test_images/xmen-prime-2017-1/17.jpg'\n",
            "[ERROR] Loading /content/drive/MyDrive/multimodal_summarization/test_images/xmen-prime-2017-1/18.jpg: cannot identify image file '/content/drive/MyDrive/multimodal_summarization/test_images/xmen-prime-2017-1/18.jpg'\n",
            "[ERROR] Loading /content/drive/MyDrive/multimodal_summarization/test_images/xmen-prime-2017-1/19.jpg: cannot identify image file '/content/drive/MyDrive/multimodal_summarization/test_images/xmen-prime-2017-1/19.jpg'\n",
            "[ERROR] Loading /content/drive/MyDrive/multimodal_summarization/test_images/xmen-prime-2017-1/20.jpg: cannot identify image file '/content/drive/MyDrive/multimodal_summarization/test_images/xmen-prime-2017-1/20.jpg'\n",
            "[ERROR] Loading /content/drive/MyDrive/multimodal_summarization/test_images/xmen-prime-2017-1/21.jpg: cannot identify image file '/content/drive/MyDrive/multimodal_summarization/test_images/xmen-prime-2017-1/21.jpg'\n",
            "[ERROR] Loading /content/drive/MyDrive/multimodal_summarization/test_images/xmen-prime-2017-1/22.jpg: cannot identify image file '/content/drive/MyDrive/multimodal_summarization/test_images/xmen-prime-2017-1/22.jpg'\n",
            "[ERROR] Loading /content/drive/MyDrive/multimodal_summarization/test_images/xmen-prime-2017-1/23.jpg: cannot identify image file '/content/drive/MyDrive/multimodal_summarization/test_images/xmen-prime-2017-1/23.jpg'\n",
            "[ERROR] Loading /content/drive/MyDrive/multimodal_summarization/test_images/xmen-prime-2017-1/24.jpg: cannot identify image file '/content/drive/MyDrive/multimodal_summarization/test_images/xmen-prime-2017-1/24.jpg'\n",
            "[ERROR] Loading /content/drive/MyDrive/multimodal_summarization/test_images/xmen-prime-2017-1/25.jpg: cannot identify image file '/content/drive/MyDrive/multimodal_summarization/test_images/xmen-prime-2017-1/25.jpg'\n",
            "[ERROR] Loading /content/drive/MyDrive/multimodal_summarization/test_images/xmen-prime-2017-1/26.jpg: cannot identify image file '/content/drive/MyDrive/multimodal_summarization/test_images/xmen-prime-2017-1/26.jpg'\n",
            "[ERROR] Loading /content/drive/MyDrive/multimodal_summarization/test_images/xmen-prime-2017-1/27.jpg: cannot identify image file '/content/drive/MyDrive/multimodal_summarization/test_images/xmen-prime-2017-1/27.jpg'\n",
            "[ERROR] Loading /content/drive/MyDrive/multimodal_summarization/test_images/xmen-prime-2017-1/28.jpg: cannot identify image file '/content/drive/MyDrive/multimodal_summarization/test_images/xmen-prime-2017-1/28.jpg'\n",
            "[ERROR] Loading /content/drive/MyDrive/multimodal_summarization/test_images/xmen-prime-2017-1/29.jpg: cannot identify image file '/content/drive/MyDrive/multimodal_summarization/test_images/xmen-prime-2017-1/29.jpg'\n",
            "[ERROR] Loading /content/drive/MyDrive/multimodal_summarization/test_images/xmen-prime-2017-1/30.jpg: cannot identify image file '/content/drive/MyDrive/multimodal_summarization/test_images/xmen-prime-2017-1/30.jpg'\n"
          ]
        },
        {
          "name": "stderr",
          "output_type": "stream",
          "text": [
            "\rEvaluating:  96%|█████████▌| 154/161 [3:21:26<03:00, 25.72s/it]"
          ]
        },
        {
          "name": "stdout",
          "output_type": "stream",
          "text": [
            "[ERROR] Loading /content/drive/MyDrive/multimodal_summarization/test_images/young-avengers-presents-05-of-06-2008/1.jpg: cannot identify image file '/content/drive/MyDrive/multimodal_summarization/test_images/young-avengers-presents-05-of-06-2008/1.jpg'\n",
            "[ERROR] Loading /content/drive/MyDrive/multimodal_summarization/test_images/young-avengers-presents-05-of-06-2008/2.jpg: cannot identify image file '/content/drive/MyDrive/multimodal_summarization/test_images/young-avengers-presents-05-of-06-2008/2.jpg'\n",
            "[ERROR] Loading /content/drive/MyDrive/multimodal_summarization/test_images/young-avengers-presents-05-of-06-2008/3.jpg: cannot identify image file '/content/drive/MyDrive/multimodal_summarization/test_images/young-avengers-presents-05-of-06-2008/3.jpg'\n",
            "[ERROR] Loading /content/drive/MyDrive/multimodal_summarization/test_images/young-avengers-presents-05-of-06-2008/4.jpg: cannot identify image file '/content/drive/MyDrive/multimodal_summarization/test_images/young-avengers-presents-05-of-06-2008/4.jpg'\n",
            "[ERROR] Loading /content/drive/MyDrive/multimodal_summarization/test_images/young-avengers-presents-05-of-06-2008/5.jpg: cannot identify image file '/content/drive/MyDrive/multimodal_summarization/test_images/young-avengers-presents-05-of-06-2008/5.jpg'\n",
            "[ERROR] Loading /content/drive/MyDrive/multimodal_summarization/test_images/young-avengers-presents-05-of-06-2008/6.jpg: cannot identify image file '/content/drive/MyDrive/multimodal_summarization/test_images/young-avengers-presents-05-of-06-2008/6.jpg'\n",
            "[ERROR] Loading /content/drive/MyDrive/multimodal_summarization/test_images/young-avengers-presents-05-of-06-2008/7.jpg: cannot identify image file '/content/drive/MyDrive/multimodal_summarization/test_images/young-avengers-presents-05-of-06-2008/7.jpg'\n",
            "[ERROR] Loading /content/drive/MyDrive/multimodal_summarization/test_images/young-avengers-presents-05-of-06-2008/8.jpg: cannot identify image file '/content/drive/MyDrive/multimodal_summarization/test_images/young-avengers-presents-05-of-06-2008/8.jpg'\n",
            "[ERROR] Loading /content/drive/MyDrive/multimodal_summarization/test_images/young-avengers-presents-05-of-06-2008/9.jpg: cannot identify image file '/content/drive/MyDrive/multimodal_summarization/test_images/young-avengers-presents-05-of-06-2008/9.jpg'\n",
            "[ERROR] Loading /content/drive/MyDrive/multimodal_summarization/test_images/young-avengers-presents-05-of-06-2008/10.jpg: cannot identify image file '/content/drive/MyDrive/multimodal_summarization/test_images/young-avengers-presents-05-of-06-2008/10.jpg'\n",
            "[ERROR] Loading /content/drive/MyDrive/multimodal_summarization/test_images/young-avengers-presents-05-of-06-2008/11.jpg: cannot identify image file '/content/drive/MyDrive/multimodal_summarization/test_images/young-avengers-presents-05-of-06-2008/11.jpg'\n",
            "[ERROR] Loading /content/drive/MyDrive/multimodal_summarization/test_images/young-avengers-presents-05-of-06-2008/12.jpg: cannot identify image file '/content/drive/MyDrive/multimodal_summarization/test_images/young-avengers-presents-05-of-06-2008/12.jpg'\n",
            "[ERROR] Loading /content/drive/MyDrive/multimodal_summarization/test_images/young-avengers-presents-05-of-06-2008/13.jpg: cannot identify image file '/content/drive/MyDrive/multimodal_summarization/test_images/young-avengers-presents-05-of-06-2008/13.jpg'\n",
            "[ERROR] Loading /content/drive/MyDrive/multimodal_summarization/test_images/young-avengers-presents-05-of-06-2008/14.jpg: cannot identify image file '/content/drive/MyDrive/multimodal_summarization/test_images/young-avengers-presents-05-of-06-2008/14.jpg'\n",
            "[ERROR] Loading /content/drive/MyDrive/multimodal_summarization/test_images/young-avengers-presents-05-of-06-2008/15.jpg: cannot identify image file '/content/drive/MyDrive/multimodal_summarization/test_images/young-avengers-presents-05-of-06-2008/15.jpg'\n",
            "[ERROR] Loading /content/drive/MyDrive/multimodal_summarization/test_images/young-avengers-presents-05-of-06-2008/16.jpg: cannot identify image file '/content/drive/MyDrive/multimodal_summarization/test_images/young-avengers-presents-05-of-06-2008/16.jpg'\n",
            "[ERROR] Loading /content/drive/MyDrive/multimodal_summarization/test_images/young-avengers-presents-05-of-06-2008/17.jpg: cannot identify image file '/content/drive/MyDrive/multimodal_summarization/test_images/young-avengers-presents-05-of-06-2008/17.jpg'\n",
            "[ERROR] Loading /content/drive/MyDrive/multimodal_summarization/test_images/young-avengers-presents-05-of-06-2008/18.jpg: cannot identify image file '/content/drive/MyDrive/multimodal_summarization/test_images/young-avengers-presents-05-of-06-2008/18.jpg'\n",
            "[ERROR] Loading /content/drive/MyDrive/multimodal_summarization/test_images/young-avengers-presents-05-of-06-2008/19.jpg: cannot identify image file '/content/drive/MyDrive/multimodal_summarization/test_images/young-avengers-presents-05-of-06-2008/19.jpg'\n",
            "[ERROR] Loading /content/drive/MyDrive/multimodal_summarization/test_images/young-avengers-presents-05-of-06-2008/20.jpg: cannot identify image file '/content/drive/MyDrive/multimodal_summarization/test_images/young-avengers-presents-05-of-06-2008/20.jpg'\n"
          ]
        },
        {
          "name": "stderr",
          "output_type": "stream",
          "text": [
            "\rEvaluating:  96%|█████████▋| 155/161 [3:21:51<02:33, 25.65s/it]"
          ]
        },
        {
          "name": "stdout",
          "output_type": "stream",
          "text": [
            "[ERROR] Loading /content/drive/MyDrive/multimodal_summarization/test_images/young-avengers-presents-05-of-06-2008/21.jpg: cannot identify image file '/content/drive/MyDrive/multimodal_summarization/test_images/young-avengers-presents-05-of-06-2008/21.jpg'\n",
            "[ERROR] Loading /content/drive/MyDrive/multimodal_summarization/test_images/young-avengers-presents-05-of-06-2008/22.jpg: cannot identify image file '/content/drive/MyDrive/multimodal_summarization/test_images/young-avengers-presents-05-of-06-2008/22.jpg'\n",
            "[ERROR] Loading /content/drive/MyDrive/multimodal_summarization/test_images/young-avengers-presents-05-of-06-2008/23.jpg: cannot identify image file '/content/drive/MyDrive/multimodal_summarization/test_images/young-avengers-presents-05-of-06-2008/23.jpg'\n",
            "[ERROR] Loading /content/drive/MyDrive/multimodal_summarization/test_images/young-avengers-presents-05-of-06-2008/24.jpg: cannot identify image file '/content/drive/MyDrive/multimodal_summarization/test_images/young-avengers-presents-05-of-06-2008/24.jpg'\n",
            "[ERROR] Loading /content/drive/MyDrive/multimodal_summarization/test_images/young-avengers-v1-001-2005/1.jpg: cannot identify image file '/content/drive/MyDrive/multimodal_summarization/test_images/young-avengers-v1-001-2005/1.jpg'\n",
            "[ERROR] Loading /content/drive/MyDrive/multimodal_summarization/test_images/young-avengers-v1-001-2005/2.jpg: cannot identify image file '/content/drive/MyDrive/multimodal_summarization/test_images/young-avengers-v1-001-2005/2.jpg'\n",
            "[ERROR] Loading /content/drive/MyDrive/multimodal_summarization/test_images/young-avengers-v1-001-2005/3.jpg: cannot identify image file '/content/drive/MyDrive/multimodal_summarization/test_images/young-avengers-v1-001-2005/3.jpg'\n",
            "[ERROR] Loading /content/drive/MyDrive/multimodal_summarization/test_images/young-avengers-v1-001-2005/4.jpg: cannot identify image file '/content/drive/MyDrive/multimodal_summarization/test_images/young-avengers-v1-001-2005/4.jpg'\n",
            "[ERROR] Loading /content/drive/MyDrive/multimodal_summarization/test_images/young-avengers-v1-001-2005/5.jpg: cannot identify image file '/content/drive/MyDrive/multimodal_summarization/test_images/young-avengers-v1-001-2005/5.jpg'\n",
            "[ERROR] Loading /content/drive/MyDrive/multimodal_summarization/test_images/young-avengers-v1-001-2005/6.jpg: cannot identify image file '/content/drive/MyDrive/multimodal_summarization/test_images/young-avengers-v1-001-2005/6.jpg'\n",
            "[ERROR] Loading /content/drive/MyDrive/multimodal_summarization/test_images/young-avengers-v1-001-2005/7.jpg: cannot identify image file '/content/drive/MyDrive/multimodal_summarization/test_images/young-avengers-v1-001-2005/7.jpg'\n",
            "[ERROR] Loading /content/drive/MyDrive/multimodal_summarization/test_images/young-avengers-v1-001-2005/8.jpg: cannot identify image file '/content/drive/MyDrive/multimodal_summarization/test_images/young-avengers-v1-001-2005/8.jpg'\n",
            "[ERROR] Loading /content/drive/MyDrive/multimodal_summarization/test_images/young-avengers-v1-001-2005/9.jpg: cannot identify image file '/content/drive/MyDrive/multimodal_summarization/test_images/young-avengers-v1-001-2005/9.jpg'\n",
            "[ERROR] Loading /content/drive/MyDrive/multimodal_summarization/test_images/young-avengers-v1-001-2005/10.jpg: cannot identify image file '/content/drive/MyDrive/multimodal_summarization/test_images/young-avengers-v1-001-2005/10.jpg'\n",
            "[ERROR] Loading /content/drive/MyDrive/multimodal_summarization/test_images/young-avengers-v1-001-2005/11.jpg: cannot identify image file '/content/drive/MyDrive/multimodal_summarization/test_images/young-avengers-v1-001-2005/11.jpg'\n",
            "[ERROR] Loading /content/drive/MyDrive/multimodal_summarization/test_images/young-avengers-v1-001-2005/12.jpg: cannot identify image file '/content/drive/MyDrive/multimodal_summarization/test_images/young-avengers-v1-001-2005/12.jpg'\n",
            "[ERROR] Loading /content/drive/MyDrive/multimodal_summarization/test_images/young-avengers-v1-001-2005/13.jpg: cannot identify image file '/content/drive/MyDrive/multimodal_summarization/test_images/young-avengers-v1-001-2005/13.jpg'\n",
            "[ERROR] Loading /content/drive/MyDrive/multimodal_summarization/test_images/young-avengers-v1-001-2005/14.jpg: cannot identify image file '/content/drive/MyDrive/multimodal_summarization/test_images/young-avengers-v1-001-2005/14.jpg'\n",
            "[ERROR] Loading /content/drive/MyDrive/multimodal_summarization/test_images/young-avengers-v1-001-2005/15.jpg: cannot identify image file '/content/drive/MyDrive/multimodal_summarization/test_images/young-avengers-v1-001-2005/15.jpg'\n"
          ]
        },
        {
          "name": "stderr",
          "output_type": "stream",
          "text": [
            "\rEvaluating:  97%|█████████▋| 156/161 [3:22:17<02:07, 25.57s/it]"
          ]
        },
        {
          "name": "stdout",
          "output_type": "stream",
          "text": [
            "[ERROR] Loading /content/drive/MyDrive/multimodal_summarization/test_images/young-avengers-v1-001-2005/16.jpg: cannot identify image file '/content/drive/MyDrive/multimodal_summarization/test_images/young-avengers-v1-001-2005/16.jpg'\n",
            "[ERROR] Loading /content/drive/MyDrive/multimodal_summarization/test_images/young-avengers-v1-001-2005/17.jpg: cannot identify image file '/content/drive/MyDrive/multimodal_summarization/test_images/young-avengers-v1-001-2005/17.jpg'\n",
            "[ERROR] Loading /content/drive/MyDrive/multimodal_summarization/test_images/young-avengers-v1-001-2005/18.jpg: cannot identify image file '/content/drive/MyDrive/multimodal_summarization/test_images/young-avengers-v1-001-2005/18.jpg'\n",
            "[ERROR] Loading /content/drive/MyDrive/multimodal_summarization/test_images/young-avengers-v1-001-2005/19.jpg: cannot identify image file '/content/drive/MyDrive/multimodal_summarization/test_images/young-avengers-v1-001-2005/19.jpg'\n",
            "[ERROR] Loading /content/drive/MyDrive/multimodal_summarization/test_images/young-avengers-v1-001-2005/20.jpg: cannot identify image file '/content/drive/MyDrive/multimodal_summarization/test_images/young-avengers-v1-001-2005/20.jpg'\n",
            "[ERROR] Loading /content/drive/MyDrive/multimodal_summarization/test_images/young-avengers-v1-001-2005/21.jpg: cannot identify image file '/content/drive/MyDrive/multimodal_summarization/test_images/young-avengers-v1-001-2005/21.jpg'\n",
            "[ERROR] Loading /content/drive/MyDrive/multimodal_summarization/test_images/young-avengers-v1-001-2005/22.jpg: cannot identify image file '/content/drive/MyDrive/multimodal_summarization/test_images/young-avengers-v1-001-2005/22.jpg'\n",
            "[ERROR] Loading /content/drive/MyDrive/multimodal_summarization/test_images/young-avengers-v1-001-2005/23.jpg: cannot identify image file '/content/drive/MyDrive/multimodal_summarization/test_images/young-avengers-v1-001-2005/23.jpg'\n",
            "[ERROR] Loading /content/drive/MyDrive/multimodal_summarization/test_images/young-avengers-v1-002-2005/1.jpg: cannot identify image file '/content/drive/MyDrive/multimodal_summarization/test_images/young-avengers-v1-002-2005/1.jpg'\n",
            "[ERROR] Loading /content/drive/MyDrive/multimodal_summarization/test_images/young-avengers-v1-002-2005/2.jpg: cannot identify image file '/content/drive/MyDrive/multimodal_summarization/test_images/young-avengers-v1-002-2005/2.jpg'\n",
            "[ERROR] Loading /content/drive/MyDrive/multimodal_summarization/test_images/young-avengers-v1-002-2005/3.jpg: cannot identify image file '/content/drive/MyDrive/multimodal_summarization/test_images/young-avengers-v1-002-2005/3.jpg'\n",
            "[ERROR] Loading /content/drive/MyDrive/multimodal_summarization/test_images/young-avengers-v1-002-2005/4.jpg: cannot identify image file '/content/drive/MyDrive/multimodal_summarization/test_images/young-avengers-v1-002-2005/4.jpg'\n",
            "[ERROR] Loading /content/drive/MyDrive/multimodal_summarization/test_images/young-avengers-v1-002-2005/5.jpg: cannot identify image file '/content/drive/MyDrive/multimodal_summarization/test_images/young-avengers-v1-002-2005/5.jpg'\n",
            "[ERROR] Loading /content/drive/MyDrive/multimodal_summarization/test_images/young-avengers-v1-002-2005/6.jpg: cannot identify image file '/content/drive/MyDrive/multimodal_summarization/test_images/young-avengers-v1-002-2005/6.jpg'\n",
            "[ERROR] Loading /content/drive/MyDrive/multimodal_summarization/test_images/young-avengers-v1-002-2005/7.jpg: cannot identify image file '/content/drive/MyDrive/multimodal_summarization/test_images/young-avengers-v1-002-2005/7.jpg'\n",
            "[ERROR] Loading /content/drive/MyDrive/multimodal_summarization/test_images/young-avengers-v1-002-2005/8.jpg: cannot identify image file '/content/drive/MyDrive/multimodal_summarization/test_images/young-avengers-v1-002-2005/8.jpg'\n",
            "[ERROR] Loading /content/drive/MyDrive/multimodal_summarization/test_images/young-avengers-v1-002-2005/9.jpg: cannot identify image file '/content/drive/MyDrive/multimodal_summarization/test_images/young-avengers-v1-002-2005/9.jpg'\n",
            "[ERROR] Loading /content/drive/MyDrive/multimodal_summarization/test_images/young-avengers-v1-002-2005/10.jpg: cannot identify image file '/content/drive/MyDrive/multimodal_summarization/test_images/young-avengers-v1-002-2005/10.jpg'\n"
          ]
        },
        {
          "name": "stderr",
          "output_type": "stream",
          "text": [
            "\rEvaluating:  98%|█████████▊| 157/161 [3:22:42<01:42, 25.56s/it]"
          ]
        },
        {
          "name": "stdout",
          "output_type": "stream",
          "text": [
            "[ERROR] Loading /content/drive/MyDrive/multimodal_summarization/test_images/young-avengers-v1-002-2005/11.jpg: cannot identify image file '/content/drive/MyDrive/multimodal_summarization/test_images/young-avengers-v1-002-2005/11.jpg'\n",
            "[ERROR] Loading /content/drive/MyDrive/multimodal_summarization/test_images/young-avengers-v1-002-2005/12.jpg: cannot identify image file '/content/drive/MyDrive/multimodal_summarization/test_images/young-avengers-v1-002-2005/12.jpg'\n",
            "[ERROR] Loading /content/drive/MyDrive/multimodal_summarization/test_images/young-avengers-v1-002-2005/13.jpg: cannot identify image file '/content/drive/MyDrive/multimodal_summarization/test_images/young-avengers-v1-002-2005/13.jpg'\n",
            "[ERROR] Loading /content/drive/MyDrive/multimodal_summarization/test_images/young-avengers-v1-002-2005/14.jpg: cannot identify image file '/content/drive/MyDrive/multimodal_summarization/test_images/young-avengers-v1-002-2005/14.jpg'\n",
            "[ERROR] Loading /content/drive/MyDrive/multimodal_summarization/test_images/young-avengers-v1-002-2005/15.jpg: cannot identify image file '/content/drive/MyDrive/multimodal_summarization/test_images/young-avengers-v1-002-2005/15.jpg'\n",
            "[ERROR] Loading /content/drive/MyDrive/multimodal_summarization/test_images/young-avengers-v1-002-2005/16.jpg: cannot identify image file '/content/drive/MyDrive/multimodal_summarization/test_images/young-avengers-v1-002-2005/16.jpg'\n",
            "[ERROR] Loading /content/drive/MyDrive/multimodal_summarization/test_images/young-avengers-v1-002-2005/17.jpg: cannot identify image file '/content/drive/MyDrive/multimodal_summarization/test_images/young-avengers-v1-002-2005/17.jpg'\n",
            "[ERROR] Loading /content/drive/MyDrive/multimodal_summarization/test_images/young-avengers-v1-002-2005/18.jpg: cannot identify image file '/content/drive/MyDrive/multimodal_summarization/test_images/young-avengers-v1-002-2005/18.jpg'\n",
            "[ERROR] Loading /content/drive/MyDrive/multimodal_summarization/test_images/young-avengers-v1-002-2005/19.jpg: cannot identify image file '/content/drive/MyDrive/multimodal_summarization/test_images/young-avengers-v1-002-2005/19.jpg'\n",
            "[ERROR] Loading /content/drive/MyDrive/multimodal_summarization/test_images/young-avengers-v1-002-2005/20.jpg: cannot identify image file '/content/drive/MyDrive/multimodal_summarization/test_images/young-avengers-v1-002-2005/20.jpg'\n",
            "[ERROR] Loading /content/drive/MyDrive/multimodal_summarization/test_images/young-avengers-v1-002-2005/21.jpg: cannot identify image file '/content/drive/MyDrive/multimodal_summarization/test_images/young-avengers-v1-002-2005/21.jpg'\n",
            "[ERROR] Loading /content/drive/MyDrive/multimodal_summarization/test_images/young-avengers-v1-002-2005/22.jpg: cannot identify image file '/content/drive/MyDrive/multimodal_summarization/test_images/young-avengers-v1-002-2005/22.jpg'\n",
            "[ERROR] Loading /content/drive/MyDrive/multimodal_summarization/test_images/young-avengers-v1-002-2005/23.jpg: cannot identify image file '/content/drive/MyDrive/multimodal_summarization/test_images/young-avengers-v1-002-2005/23.jpg'\n",
            "[ERROR] Loading /content/drive/MyDrive/multimodal_summarization/test_images/young-avengers-v1-002-2005/24.jpg: cannot identify image file '/content/drive/MyDrive/multimodal_summarization/test_images/young-avengers-v1-002-2005/24.jpg'\n",
            "[ERROR] Loading /content/drive/MyDrive/multimodal_summarization/test_images/young-avengers-v1-004-2005/1.jpg: cannot identify image file '/content/drive/MyDrive/multimodal_summarization/test_images/young-avengers-v1-004-2005/1.jpg'\n",
            "[ERROR] Loading /content/drive/MyDrive/multimodal_summarization/test_images/young-avengers-v1-004-2005/2.jpg: cannot identify image file '/content/drive/MyDrive/multimodal_summarization/test_images/young-avengers-v1-004-2005/2.jpg'\n",
            "[ERROR] Loading /content/drive/MyDrive/multimodal_summarization/test_images/young-avengers-v1-004-2005/3.jpg: cannot identify image file '/content/drive/MyDrive/multimodal_summarization/test_images/young-avengers-v1-004-2005/3.jpg'\n",
            "[ERROR] Loading /content/drive/MyDrive/multimodal_summarization/test_images/young-avengers-v1-004-2005/4.jpg: cannot identify image file '/content/drive/MyDrive/multimodal_summarization/test_images/young-avengers-v1-004-2005/4.jpg'\n",
            "[ERROR] Loading /content/drive/MyDrive/multimodal_summarization/test_images/young-avengers-v1-004-2005/5.jpg: cannot identify image file '/content/drive/MyDrive/multimodal_summarization/test_images/young-avengers-v1-004-2005/5.jpg'\n"
          ]
        },
        {
          "name": "stderr",
          "output_type": "stream",
          "text": [
            "\rEvaluating:  98%|█████████▊| 158/161 [3:23:08<01:16, 25.52s/it]"
          ]
        },
        {
          "name": "stdout",
          "output_type": "stream",
          "text": [
            "[ERROR] Loading /content/drive/MyDrive/multimodal_summarization/test_images/young-avengers-v1-004-2005/6.jpg: cannot identify image file '/content/drive/MyDrive/multimodal_summarization/test_images/young-avengers-v1-004-2005/6.jpg'\n",
            "[ERROR] Loading /content/drive/MyDrive/multimodal_summarization/test_images/young-avengers-v1-004-2005/7.jpg: cannot identify image file '/content/drive/MyDrive/multimodal_summarization/test_images/young-avengers-v1-004-2005/7.jpg'\n",
            "[ERROR] Loading /content/drive/MyDrive/multimodal_summarization/test_images/young-avengers-v1-004-2005/8.jpg: cannot identify image file '/content/drive/MyDrive/multimodal_summarization/test_images/young-avengers-v1-004-2005/8.jpg'\n",
            "[ERROR] Loading /content/drive/MyDrive/multimodal_summarization/test_images/young-avengers-v1-004-2005/9.jpg: cannot identify image file '/content/drive/MyDrive/multimodal_summarization/test_images/young-avengers-v1-004-2005/9.jpg'\n",
            "[ERROR] Loading /content/drive/MyDrive/multimodal_summarization/test_images/young-avengers-v1-004-2005/10.jpg: cannot identify image file '/content/drive/MyDrive/multimodal_summarization/test_images/young-avengers-v1-004-2005/10.jpg'\n",
            "[ERROR] Loading /content/drive/MyDrive/multimodal_summarization/test_images/young-avengers-v1-004-2005/11.jpg: cannot identify image file '/content/drive/MyDrive/multimodal_summarization/test_images/young-avengers-v1-004-2005/11.jpg'\n",
            "[ERROR] Loading /content/drive/MyDrive/multimodal_summarization/test_images/young-avengers-v1-004-2005/12.jpg: cannot identify image file '/content/drive/MyDrive/multimodal_summarization/test_images/young-avengers-v1-004-2005/12.jpg'\n",
            "[ERROR] Loading /content/drive/MyDrive/multimodal_summarization/test_images/young-avengers-v1-004-2005/13.jpg: cannot identify image file '/content/drive/MyDrive/multimodal_summarization/test_images/young-avengers-v1-004-2005/13.jpg'\n",
            "[ERROR] Loading /content/drive/MyDrive/multimodal_summarization/test_images/young-avengers-v1-004-2005/14.jpg: cannot identify image file '/content/drive/MyDrive/multimodal_summarization/test_images/young-avengers-v1-004-2005/14.jpg'\n",
            "[ERROR] Loading /content/drive/MyDrive/multimodal_summarization/test_images/young-avengers-v1-004-2005/15.jpg: cannot identify image file '/content/drive/MyDrive/multimodal_summarization/test_images/young-avengers-v1-004-2005/15.jpg'\n",
            "[ERROR] Loading /content/drive/MyDrive/multimodal_summarization/test_images/young-avengers-v1-004-2005/16.jpg: cannot identify image file '/content/drive/MyDrive/multimodal_summarization/test_images/young-avengers-v1-004-2005/16.jpg'\n",
            "[ERROR] Loading /content/drive/MyDrive/multimodal_summarization/test_images/young-avengers-v1-004-2005/17.jpg: cannot identify image file '/content/drive/MyDrive/multimodal_summarization/test_images/young-avengers-v1-004-2005/17.jpg'\n",
            "[ERROR] Loading /content/drive/MyDrive/multimodal_summarization/test_images/young-avengers-v1-004-2005/18.jpg: cannot identify image file '/content/drive/MyDrive/multimodal_summarization/test_images/young-avengers-v1-004-2005/18.jpg'\n",
            "[ERROR] Loading /content/drive/MyDrive/multimodal_summarization/test_images/young-avengers-v1-004-2005/19.jpg: cannot identify image file '/content/drive/MyDrive/multimodal_summarization/test_images/young-avengers-v1-004-2005/19.jpg'\n",
            "[ERROR] Loading /content/drive/MyDrive/multimodal_summarization/test_images/young-avengers-v1-004-2005/20.jpg: cannot identify image file '/content/drive/MyDrive/multimodal_summarization/test_images/young-avengers-v1-004-2005/20.jpg'\n",
            "[ERROR] Loading /content/drive/MyDrive/multimodal_summarization/test_images/young-avengers-v1-004-2005/21.jpg: cannot identify image file '/content/drive/MyDrive/multimodal_summarization/test_images/young-avengers-v1-004-2005/21.jpg'\n",
            "[ERROR] Loading /content/drive/MyDrive/multimodal_summarization/test_images/young-avengers-v1-004-2005/22.jpg: cannot identify image file '/content/drive/MyDrive/multimodal_summarization/test_images/young-avengers-v1-004-2005/22.jpg'\n",
            "[ERROR] Loading /content/drive/MyDrive/multimodal_summarization/test_images/young-avengers-v1-004-2005/23.jpg: cannot identify image file '/content/drive/MyDrive/multimodal_summarization/test_images/young-avengers-v1-004-2005/23.jpg'\n"
          ]
        },
        {
          "name": "stderr",
          "output_type": "stream",
          "text": [
            "\rEvaluating:  99%|█████████▉| 159/161 [3:23:33<00:50, 25.40s/it]"
          ]
        },
        {
          "name": "stdout",
          "output_type": "stream",
          "text": [
            "[ERROR] Loading /content/drive/MyDrive/multimodal_summarization/test_images/young-avengers-v1-011-2006/1.jpg: cannot identify image file '/content/drive/MyDrive/multimodal_summarization/test_images/young-avengers-v1-011-2006/1.jpg'\n",
            "[ERROR] Loading /content/drive/MyDrive/multimodal_summarization/test_images/young-avengers-v1-011-2006/2.jpg: cannot identify image file '/content/drive/MyDrive/multimodal_summarization/test_images/young-avengers-v1-011-2006/2.jpg'\n",
            "[ERROR] Loading /content/drive/MyDrive/multimodal_summarization/test_images/young-avengers-v1-011-2006/3.jpg: cannot identify image file '/content/drive/MyDrive/multimodal_summarization/test_images/young-avengers-v1-011-2006/3.jpg'\n",
            "[ERROR] Loading /content/drive/MyDrive/multimodal_summarization/test_images/young-avengers-v1-011-2006/4.jpg: cannot identify image file '/content/drive/MyDrive/multimodal_summarization/test_images/young-avengers-v1-011-2006/4.jpg'\n",
            "[ERROR] Loading /content/drive/MyDrive/multimodal_summarization/test_images/young-avengers-v1-011-2006/5.jpg: cannot identify image file '/content/drive/MyDrive/multimodal_summarization/test_images/young-avengers-v1-011-2006/5.jpg'\n",
            "[ERROR] Loading /content/drive/MyDrive/multimodal_summarization/test_images/young-avengers-v1-011-2006/6.jpg: cannot identify image file '/content/drive/MyDrive/multimodal_summarization/test_images/young-avengers-v1-011-2006/6.jpg'\n",
            "[ERROR] Loading /content/drive/MyDrive/multimodal_summarization/test_images/young-avengers-v1-011-2006/7.jpg: cannot identify image file '/content/drive/MyDrive/multimodal_summarization/test_images/young-avengers-v1-011-2006/7.jpg'\n",
            "[ERROR] Loading /content/drive/MyDrive/multimodal_summarization/test_images/young-avengers-v1-011-2006/8.jpg: cannot identify image file '/content/drive/MyDrive/multimodal_summarization/test_images/young-avengers-v1-011-2006/8.jpg'\n",
            "[ERROR] Loading /content/drive/MyDrive/multimodal_summarization/test_images/young-avengers-v1-011-2006/9.jpg: cannot identify image file '/content/drive/MyDrive/multimodal_summarization/test_images/young-avengers-v1-011-2006/9.jpg'\n",
            "[ERROR] Loading /content/drive/MyDrive/multimodal_summarization/test_images/young-avengers-v1-011-2006/10.jpg: cannot identify image file '/content/drive/MyDrive/multimodal_summarization/test_images/young-avengers-v1-011-2006/10.jpg'\n",
            "[ERROR] Loading /content/drive/MyDrive/multimodal_summarization/test_images/young-avengers-v1-011-2006/11.jpg: cannot identify image file '/content/drive/MyDrive/multimodal_summarization/test_images/young-avengers-v1-011-2006/11.jpg'\n",
            "[ERROR] Loading /content/drive/MyDrive/multimodal_summarization/test_images/young-avengers-v1-011-2006/12.jpg: cannot identify image file '/content/drive/MyDrive/multimodal_summarization/test_images/young-avengers-v1-011-2006/12.jpg'\n",
            "[ERROR] Loading /content/drive/MyDrive/multimodal_summarization/test_images/young-avengers-v1-011-2006/13.jpg: cannot identify image file '/content/drive/MyDrive/multimodal_summarization/test_images/young-avengers-v1-011-2006/13.jpg'\n",
            "[ERROR] Loading /content/drive/MyDrive/multimodal_summarization/test_images/young-avengers-v1-011-2006/14.jpg: cannot identify image file '/content/drive/MyDrive/multimodal_summarization/test_images/young-avengers-v1-011-2006/14.jpg'\n",
            "[ERROR] Loading /content/drive/MyDrive/multimodal_summarization/test_images/young-avengers-v1-011-2006/15.jpg: cannot identify image file '/content/drive/MyDrive/multimodal_summarization/test_images/young-avengers-v1-011-2006/15.jpg'\n",
            "[ERROR] Loading /content/drive/MyDrive/multimodal_summarization/test_images/young-avengers-v1-011-2006/16.jpg: cannot identify image file '/content/drive/MyDrive/multimodal_summarization/test_images/young-avengers-v1-011-2006/16.jpg'\n",
            "[ERROR] Loading /content/drive/MyDrive/multimodal_summarization/test_images/young-avengers-v1-011-2006/17.jpg: cannot identify image file '/content/drive/MyDrive/multimodal_summarization/test_images/young-avengers-v1-011-2006/17.jpg'\n",
            "[ERROR] Loading /content/drive/MyDrive/multimodal_summarization/test_images/young-avengers-v1-011-2006/18.jpg: cannot identify image file '/content/drive/MyDrive/multimodal_summarization/test_images/young-avengers-v1-011-2006/18.jpg'\n",
            "[ERROR] Loading /content/drive/MyDrive/multimodal_summarization/test_images/young-avengers-v1-011-2006/19.jpg: cannot identify image file '/content/drive/MyDrive/multimodal_summarization/test_images/young-avengers-v1-011-2006/19.jpg'\n",
            "[ERROR] Loading /content/drive/MyDrive/multimodal_summarization/test_images/young-avengers-v1-011-2006/20.jpg: cannot identify image file '/content/drive/MyDrive/multimodal_summarization/test_images/young-avengers-v1-011-2006/20.jpg'\n"
          ]
        },
        {
          "name": "stderr",
          "output_type": "stream",
          "text": [
            "\rEvaluating:  99%|█████████▉| 160/161 [3:23:58<00:25, 25.41s/it]"
          ]
        },
        {
          "name": "stdout",
          "output_type": "stream",
          "text": [
            "[ERROR] Loading /content/drive/MyDrive/multimodal_summarization/test_images/young-avengers-v1-011-2006/21.jpg: cannot identify image file '/content/drive/MyDrive/multimodal_summarization/test_images/young-avengers-v1-011-2006/21.jpg'\n",
            "[ERROR] Loading /content/drive/MyDrive/multimodal_summarization/test_images/young-avengers-v1-011-2006/22.jpg: cannot identify image file '/content/drive/MyDrive/multimodal_summarization/test_images/young-avengers-v1-011-2006/22.jpg'\n"
          ]
        },
        {
          "name": "stderr",
          "output_type": "stream",
          "text": [
            "Evaluating: 100%|██████████| 161/161 [3:24:14<00:00, 76.11s/it]\n"
          ]
        },
        {
          "name": "stdout",
          "output_type": "stream",
          "text": [
            "Results saved to /content/drive/MyDrive/multimodal_summarization//evaluation_results.json\n",
            "{'rouge1': {'precision': 0.0282035771226767, 'recall': 0.07814421995810315, 'fmeasure': 0.03731312860417132}, 'rouge2': {'precision': 0.003080877952099227, 'recall': 0.0083484285707677, 'fmeasure': 0.004070214584896119}, 'rougeL': {'precision': 0.0282035771226767, 'recall': 0.07814421995810315, 'fmeasure': 0.03731312860417132}}\n"
          ]
        }
      ],
      "source": [
        "rouge_scores = evaluate_model(model, test_loader, tokenizer)\n",
        "print(rouge_scores)"
      ]
    },
    {
      "cell_type": "code",
      "execution_count": null,
      "metadata": {
        "colab": {
          "base_uri": "https://localhost:8080/",
          "height": 469
        },
        "id": "J2x5pxq10GeV",
        "outputId": "a97ff7e3-1e8a-4981-f455-9bb1c1a45b36"
      },
      "outputs": [
        {
          "output_type": "stream",
          "name": "stderr",
          "text": [
            "Checking images: 0it [00:00, ?it/s]\n",
            "Checking images: 100%|██████████| 25/25 [00:26<00:00,  1.08s/it]\n",
            "Checking images: 100%|██████████| 21/21 [00:00<00:00, 107.78it/s]\n",
            "Checking images: 100%|██████████| 23/23 [00:00<00:00, 297.24it/s]\n",
            "Checking images: 100%|██████████| 25/25 [00:24<00:00,  1.03it/s]\n",
            "Checking images: 100%|██████████| 23/23 [00:22<00:00,  1.04it/s]\n",
            "Checking images: 100%|██████████| 21/21 [00:19<00:00,  1.10it/s]\n",
            "Checking images: 100%|██████████| 23/23 [00:00<00:00, 381.37it/s]\n",
            "Checking images:  13%|█▎        | 3/23 [00:04<00:27,  1.38s/it]\n"
          ]
        },
        {
          "output_type": "error",
          "ename": "KeyboardInterrupt",
          "evalue": "",
          "traceback": [
            "\u001b[0;31m---------------------------------------------------------------------------\u001b[0m",
            "\u001b[0;31mKeyboardInterrupt\u001b[0m                         Traceback (most recent call last)",
            "\u001b[0;32m<ipython-input-19-18477938ec94>\u001b[0m in \u001b[0;36m<cell line: 0>\u001b[0;34m()\u001b[0m\n\u001b[1;32m     22\u001b[0m \u001b[0;34m\u001b[0m\u001b[0m\n\u001b[1;32m     23\u001b[0m \u001b[0;31m# Run verification (optional)\u001b[0m\u001b[0;34m\u001b[0m\u001b[0;34m\u001b[0m\u001b[0m\n\u001b[0;32m---> 24\u001b[0;31m \u001b[0mverify_image_dataset\u001b[0m\u001b[0;34m(\u001b[0m\u001b[0mconfig\u001b[0m\u001b[0;34m.\u001b[0m\u001b[0mtest_image_dir\u001b[0m\u001b[0;34m)\u001b[0m\u001b[0;34m\u001b[0m\u001b[0;34m\u001b[0m\u001b[0m\n\u001b[0m",
            "\u001b[0;32m<ipython-input-19-18477938ec94>\u001b[0m in \u001b[0;36mverify_image_dataset\u001b[0;34m(image_dir)\u001b[0m\n\u001b[1;32m      9\u001b[0m                 \u001b[0mpath\u001b[0m \u001b[0;34m=\u001b[0m \u001b[0mos\u001b[0m\u001b[0;34m.\u001b[0m\u001b[0mpath\u001b[0m\u001b[0;34m.\u001b[0m\u001b[0mjoin\u001b[0m\u001b[0;34m(\u001b[0m\u001b[0mroot\u001b[0m\u001b[0;34m,\u001b[0m \u001b[0mfile\u001b[0m\u001b[0;34m)\u001b[0m\u001b[0;34m\u001b[0m\u001b[0;34m\u001b[0m\u001b[0m\n\u001b[1;32m     10\u001b[0m                 \u001b[0;32mtry\u001b[0m\u001b[0;34m:\u001b[0m\u001b[0;34m\u001b[0m\u001b[0;34m\u001b[0m\u001b[0m\n\u001b[0;32m---> 11\u001b[0;31m                     \u001b[0mimg\u001b[0m \u001b[0;34m=\u001b[0m \u001b[0mImage\u001b[0m\u001b[0;34m.\u001b[0m\u001b[0mopen\u001b[0m\u001b[0;34m(\u001b[0m\u001b[0mpath\u001b[0m\u001b[0;34m)\u001b[0m\u001b[0;34m\u001b[0m\u001b[0;34m\u001b[0m\u001b[0m\n\u001b[0m\u001b[1;32m     12\u001b[0m                     \u001b[0mimg\u001b[0m\u001b[0;34m.\u001b[0m\u001b[0mverify\u001b[0m\u001b[0;34m(\u001b[0m\u001b[0;34m)\u001b[0m  \u001b[0;31m# Verify without loading\u001b[0m\u001b[0;34m\u001b[0m\u001b[0;34m\u001b[0m\u001b[0m\n\u001b[1;32m     13\u001b[0m                 \u001b[0;32mexcept\u001b[0m \u001b[0mException\u001b[0m \u001b[0;32mas\u001b[0m \u001b[0me\u001b[0m\u001b[0;34m:\u001b[0m\u001b[0;34m\u001b[0m\u001b[0;34m\u001b[0m\u001b[0m\n",
            "\u001b[0;32m/usr/local/lib/python3.11/dist-packages/PIL/Image.py\u001b[0m in \u001b[0;36mopen\u001b[0;34m(fp, mode, formats)\u001b[0m\n\u001b[1;32m   3474\u001b[0m         \u001b[0mexclusive_fp\u001b[0m \u001b[0;34m=\u001b[0m \u001b[0;32mTrue\u001b[0m\u001b[0;34m\u001b[0m\u001b[0;34m\u001b[0m\u001b[0m\n\u001b[1;32m   3475\u001b[0m \u001b[0;34m\u001b[0m\u001b[0m\n\u001b[0;32m-> 3476\u001b[0;31m     \u001b[0mprefix\u001b[0m \u001b[0;34m=\u001b[0m \u001b[0mfp\u001b[0m\u001b[0;34m.\u001b[0m\u001b[0mread\u001b[0m\u001b[0;34m(\u001b[0m\u001b[0;36m16\u001b[0m\u001b[0;34m)\u001b[0m\u001b[0;34m\u001b[0m\u001b[0;34m\u001b[0m\u001b[0m\n\u001b[0m\u001b[1;32m   3477\u001b[0m \u001b[0;34m\u001b[0m\u001b[0m\n\u001b[1;32m   3478\u001b[0m     \u001b[0mpreinit\u001b[0m\u001b[0;34m(\u001b[0m\u001b[0;34m)\u001b[0m\u001b[0;34m\u001b[0m\u001b[0;34m\u001b[0m\u001b[0m\n",
            "\u001b[0;31mKeyboardInterrupt\u001b[0m: "
          ]
        }
      ],
      "source": [
        "def verify_image_dataset(image_dir):\n",
        "\n",
        "    from tqdm import tqdm\n",
        "    corrupt_files = []\n",
        "\n",
        "    for root, _, files in os.walk(image_dir):\n",
        "        for file in tqdm(files, desc=\"Checking images\"):\n",
        "            if file.lower().endswith(('.png', '.jpg', '.jpeg')):\n",
        "                path = os.path.join(root, file)\n",
        "                try:\n",
        "                    img = Image.open(path)\n",
        "                    img.verify()  # Verify without loading\n",
        "                except Exception as e:\n",
        "                    corrupt_files.append((path, str(e)))\n",
        "\n",
        "    if corrupt_files:\n",
        "        print(f\"\\nFound {len(corrupt_files)} corrupt images:\")\n",
        "        for path, error in corrupt_files[:10]:  # Print first 10\n",
        "            print(f\"{path}: {error}\")\n",
        "        return False\n",
        "    return True\n",
        "\n",
        "# Run verification (optional)\n",
        "verify_image_dataset(config.test_image_dir)"
      ]
    },
    {
      "cell_type": "code",
      "execution_count": null,
      "metadata": {
        "id": "0z_5HWtbxALQ"
      },
      "outputs": [],
      "source": [
        "def generate_summaries(model, tokenizer, dataset, num_examples=5):\n",
        "    model.eval()\n",
        "    dataloader = DataLoader(dataset, batch_size=1, shuffle=True)\n",
        "    examples = []\n",
        "\n",
        "    with torch.no_grad():\n",
        "        for i, batch in enumerate(dataloader):\n",
        "            if i >= num_examples:\n",
        "                break\n",
        "\n",
        "            # Prepare inputs\n",
        "            inputs = {\n",
        "                'input_ids': batch['ocr_input_ids'].to(device),\n",
        "                'images': batch['images'].to(device),\n",
        "                'attention_mask': batch['ocr_attention_mask'].bool().to(device),\n",
        "                'ocr_chunk_indices': batch['ocr_chunk_indices'].to(device),\n",
        "                'num_real_images': batch['num_real_images']\n",
        "            }\n",
        "\n",
        "            # Get reference summary (convert -100 to pad token id)\n",
        "            labels = batch['labels'].clone()\n",
        "            labels[labels == -100] = tokenizer.pad_token_id\n",
        "\n",
        "            # Generate summary using greedy decoding\n",
        "            generated = torch.full((1, 1), tokenizer.bos_token_id, dtype=torch.long, device=device)\n",
        "\n",
        "            for _ in range(config.max_text_len):\n",
        "                outputs = model(\n",
        "                    input_ids=inputs['input_ids'],\n",
        "                    images=inputs['images'],\n",
        "                    decoder_input_ids=generated,\n",
        "                    attention_mask=inputs['attention_mask'],\n",
        "                    decoder_attention_mask=None,  # Don't need mask for generation\n",
        "                    ocr_chunk_indices=inputs['ocr_chunk_indices'],\n",
        "                    num_real_images=inputs['num_real_images']\n",
        "                )\n",
        "\n",
        "                next_token = outputs[:, -1, :].argmax(dim=-1).unsqueeze(1)\n",
        "                generated = torch.cat([generated, next_token], dim=-1)\n",
        "\n",
        "                # Stop if EOS generated\n",
        "                if next_token == tokenizer.eos_token_id:\n",
        "                    break\n",
        "\n",
        "            # Decode results\n",
        "            predicted_summary = tokenizer.decode(generated[0], skip_special_tokens=True)\n",
        "            reference_summary = tokenizer.decode(labels[0], skip_special_tokens=True)\n",
        "\n",
        "            examples.append({\n",
        "                'comic_id': batch['comic_id'][0],\n",
        "                'chunk_id': batch['chunk_id'][0],\n",
        "                'predicted_summary': predicted_summary,\n",
        "                'reference_summary': reference_summary\n",
        "            })\n",
        "\n",
        "            print(f\"\\nExample {i+1}:\")\n",
        "            print(f\"Comic ID: {batch['comic_id'][0]}, Chunk ID: {batch['chunk_id'][0]}\")\n",
        "            print(f\"Predicted: {predicted_summary}\")\n",
        "            print(f\"Reference: {reference_summary}\")\n",
        "\n",
        "    return examples"
      ]
    },
    {
      "cell_type": "code",
      "source": [
        "neotest_dataset = ComicDataset(config.json_file, config.image_dir, tokenizer)\n",
        "neotest_loader = DataLoader(neotest_dataset, batch_size=config.batch_size)\n",
        "examples = generate_summaries(model, tokenizer, neotest_dataset, num_examples=5)"
      ],
      "metadata": {
        "id": "OQvJGsrEi6Yk",
        "colab": {
          "base_uri": "https://localhost:8080/"
        },
        "outputId": "5419428b-2629-44d1-a968-226575911036"
      },
      "execution_count": null,
      "outputs": [
        {
          "output_type": "stream",
          "name": "stdout",
          "text": [
            "\n",
            "Example 1:\n",
            "Comic ID: 2099-unlimited-001, Chunk ID: 8\n",
            "Predicted: \n",
            "Reference: Sweet Dreams’ armored killers arrive at Quirk’s home, kill her boyfriend and point their guns on her. Hulk breaks through they all, takes the bullets meant for her and clobbers the killers.\n",
            "\n",
            "Example 2:\n",
            "Comic ID: all-new-doop-002-2014, Chunk ID: 4\n",
            "Predicted: The X-Men are in the middle of the night, and the X-Men are in the middle of the night, and the X-Men are in the middle of the night. The X-Men are in the middle of the night, and the X-Men are in the middle of the night, and the X-Men are in the middle of the night, and the X-Men are in the middle of the night, and the X-Men are in the middle of the night, and the X-Men are in the middle of the night, and the X-Men are in the middle of the night, and the X-Men are in the middle of the night, and the X-Men are in the middle of the night, and the X-Men are in the middle of the night, and the X-Men are in the middle of the night, and the X-Men are in the middle of the night, and the X-Men are in the middle of the night, and the X-Men are in the middle of the night, and the X-Men are in the middle of the night, and the X-Men are in the middle of the night, and the X-Men are in the middle of the night, and the X-Men are in the middle of the night, and the X-Men are in the middle of the night, and the X-Men are in the middle of the night, and the X-Men are in the middle of the night, and the X-Men are in the middle of the night, and the X-Men are in the middle of the night, and the X-Men are in the middle of the night, and the X-Men are in the middle of the night, and the X-Men are in the middle of the night, and the X-Men are in the middle of the night, and the X-Men are in the middle of the night, and the X-Men are in the middle of the night, and the X-Men are in the middle of the night, and the X-Men are in the middle of the night, and the X-Men are in the middle of the night, and the X-Men are in the middle of the night, and the X-Men are in the middle of the night, and the X-Men are in the middle of the night, and the X-Men are in the middle of the night, and the X-Men are in the middle of the night, and the X-Men are in the middle of the night, and the X-Men are in the middle of the night, and the X-Men are in the middle of the night, and the X-Men are in the middle of the night, and the X-Men are in the night, and the X-Men are in the middle of the night, and the X-Men are in the middle of the night, and the X-Men are in the middle of the X-Men, and the X-Men, and the X-Men are in the middle of the X-Men, and the X-Men are in the middle of the night, and the X-Men are in the middle of the X-Men, and the middle of the X-Men are in the X-Men, and the X-Men are in the middle of the X-Men, and the X-Men are in the middle of the X-Men, and the X-Men, and the X-Men, and the X-Men, and the X-Men are in the middle of the X-Men, and the X-Men are in the X-Men, and the X-Men are\n",
            "Reference: She loves him. “Let’s nuzzle each other untilour noses develop blisters.” He erases what young Cyclops said about Kitty. Suddenly an alarm goes off, screaming Bobby probably isn’t going to like this. Elsewhere, Kitty and Rachel are in a flying car on their way to find Scott and Jean. Bobby probably isn’t going to like this, Rachel points out. That’s Bobby’s problem, Kitty retorts. Rachel remarks that she thought Kitty liked him. That he was fun and uncomplicated. Kitty muses things may have gotten more complicated. How? Rachel asks. It’s like he’s put a spell on her. She can’t stop thinking about him. And wishes she could. Who? Rachel scoffs. Has she been seeing Pete Wisdom again? If only it were that simple, Kitty sighs. Rachel announces they’ve arrived. They see the X-Men of the present and future have surrounded Jean and Scott. As they fly the flying car at the Ice-Hulk, Doop happily films the scene, after which he then climbs through the marginalia to save time. He arrives later when future Kate Pryde cheers her Jean to give her younger self a lesson she won’t forget. Kitty and Rachel conspire to attack future Kate, who angrily shouts at them she knows they are planning something. Doop grabs Kate and takes her into the Marginalia. The Marginalia:Kate is initially confused and, while she is trying to play along, Doop soon realizes she has no idea what he is talking about, doesn’t even know who he is. When he confronts her, she angrily shows her true face, that of Raze, and stabs Doop with his claws. Doop realizes the other future X-Men could be impostors as well. This might become a little confusing.\n",
            "\n",
            "Example 3:\n",
            "Comic ID: a-force-001-2015-2, Chunk ID: 3\n",
            "Predicted: \n",
            "Reference: I rescued us, all of us, they're not gonna -' America begins, when suddenly, there is a flash of light, and Sam Wilson of the Thor Corps appears, his wings extending out behind him. 'Sam Wilson? One of the Thors?' someone asks. 'America Chavez. It grieves me that you have violated Battleworld's greatest laws' Sam Wilson announces. He takes America by her arm and announces that she has breached the shield and endangered everyone under its protection. 'And worse, you have forsaken the sanctity of Doom's borders' he adds. 'Take it easy, tall, dark and hawkward' America declares, while Sister Grimm assures her that everything is going to be okay, that they will get her out of this. There is anogther flash of energy and someone exclaims 'America!' Shortly: 'It's not about the child, whatever her name is. This is about the law and the will of Doom' Doctor Strange, Sheriff of Battleworld declares via holographic projection. 'America Chavez. You should say her name, Sheriff Strange' She-Hulk snaps. But Strange replies that he does not need to know her name to know that she violated the sacred precept of their world – that the borders are never to be crossed. She-Hulk points out that America is young, and she was caught up in the chaos of battle after nearly dying in the defense of their land. Strange remarks that she also damaged the Shield. 'So now she will serve out her life on it, in defense of the many lands of Battleworld' he explains. 'She saved the lives of countless civilians, and -' She-Hulk protests, but Strange declares that Doom's law is absolute, and reminds her that she is the Baroness because she was the lawgiver of Arcadia. 'The child broke that law, which is clear and inviolate. She must be punished. You are meant to be impartial, legal, just' Strange adds. But She-Hulk tells him that she does not believe the laws are just. She-Hulk turns to leave the communications chamber and Strange reminds her that they are God's laws and she cannot bend them to protect her friends from their own guilt. 'Would you have the wrath of Doom fall on you and all the people of your island for defiance? Go, and do as you are honor-bound, the Thors are already on their way' Strange finishes. She-Hulk goes into another part of the Hall of Justice, 'Ms America, I am truly...' she begins, while America stands with her head hanging next to Sister Grimm, who tells her not to be angry, and that it will be okay, they will find a way. Behind them are Medusa, Captain Marvel, Spider-Woman, Pixie, Ororo Munro a.k.a. Storm and Jean “Phoenix” Grey. America tells Nico that she is not shaking because she is angry. 'This is hard enough, Hermanita.\n",
            "\n",
            "Example 4:\n",
            "Comic ID: alpha-flight-v1-002, Chunk ID: 4\n",
            "Predicted: \n",
            "Reference: His grandmother tells his he is right – but it is not a chick inside it - something else, which is alive though! Gladys Smallwood sees the creature inside the egg move, and realizing that it is trying to hatch, she breaks the egg. While she would eventually tell James Hudson that she was sure the creature wasn’t’ human before she opened the egg – the creature she pulled from the egg resembled that of a newborn humanoid baby. (various flashbacks) The Smallwoods named her Marrina, and within a year, she was very much like any other one-year-old child. She was accepted by the local townspeople, despite her yellow-green complexion, because of the closed nature and frequent inbreeding of the community. ‘Freaks’ were not uncommon. Marrina attended school, proving her intellect was above average. When she turned sixteen, things changed. Marrina swam – and swam. Though swimming was nothing new to her, or anyone else in the community, no one had ever swum like she did. (present) Back aboard the Omni-Jet, Hudson tells his friends that ten months after that, Marrina's ‘brother’ Dan Smallwood contacted the Ministry of Defense. From there, Marrina was inducted into Department H, and she became one of the first members of Gamma Flight, and was soon move up to Beta Flight. Walt acts surprised - wasn’t she given all the standard psyche tests as they all were? Hudson tells the doctor that she was, and passed with flying colors. Whatever has happened to her now – well, there was no indication of it on any tests… A hundred miles ahead, and in the close-to-freezing waters, Marrina swims easily through them…she approaches a cavern sensing it is the place that calls to her. The silence is eerie, yet she still senses the call that pulses through her entire body. In the strange melding of ice and metal, she does not feel out of place – more like comforted. She creeps forward – until she comes across a seated man - who tells her there is nothing to fear…for she is home! Marrina is confused – home? Her home is three thousand miles away! She asks him what he has done to her. The mysterious being tells her he has done nothing – save revealing her true nature…and she may call him Master! And with this, Marrina’s memory and any sense of control she had remaining fades away… Second story : (ten years ago) James MacDonald Hudson, Jerry Jaxon, and an American military General are in Hudson’s lab at the research and development section of the AM-CAM Petroleum Company, Edmonton, Alberta. Hudson has just discovered the superhuman research and exploration suit he designed is going to be sold to the American military, and is naturally, extremely angry. Jaxon apologizes to the General, who understands Hudson’s anger. However Jaxon is not so kind, and reminds James that his ‘toy’ would never have been built if he (Jaxon) and AM-CAM had not been prepared to take a financial risk. He continues that the majority of their funding is American, and their parent office has made deals with the American army before. Hudson storms out of his lab saying they haven’t made deals with him! As he storms through the corridors a woman, who apologizes, interrupts him. She says she wanted to warn him, but Jaxon wouldn’t let her.\n",
            "\n",
            "Example 5:\n",
            "Comic ID: age-of-x-man-apocalypse-and-the-x-tracts-002-2019, Chunk ID: 1\n",
            "Predicted: \n",
            "Reference: untitled Flashback:The Wyngarde Rehabilitation Institute:The Sentinel Guards (smiley-faced versions of the originals) are distracted by an explosion in the northern rehabilitation yard. Before leaving, the Sentinel tells prisoner Shadowcat to get on her knees. Any use of her powers will cause her cuffs to go into punishment mode. When Kitty is left alone, colorful gas comes in through the air vents and speaks to her. It solidifies into a beautiful, black woman covered in rainbow colors. She knows Kitty believes the X-Men are wrong. She believes community is not conflict, love is not war. She believes mutant is not god. That moment, the cell door opens and a gray-skinned man steps in. So say the X-tracts! he announces. So says En Sabah Nur! With a touch, he destroys Kitty’s cuffs. The three of them step out of the cell, as Kitty marvels that he touched her. They reject isolation. They breathe as one, he lectures her. And they’d like her to join them. Sentinels rush past them and ignore them. En Sabah Nur explains that Unveil’s gift allows her to hide those in her mists from prying eyes and minds. After he saved her from great horrors she chooses to use those gifts in his employ. He is hoping Kitty will do the same. There is a facility. He can get them there, but he needs her power to get them inside. Soon they are in a Hatchery. Kitty phases the two of them inside. En Sabah Nur explains, within these walls is something he has never had in his many years of life. Its absence has left him incomplete.\n"
          ]
        }
      ]
    },
    {
      "cell_type": "code",
      "execution_count": null,
      "metadata": {
        "colab": {
          "base_uri": "https://localhost:8080/"
        },
        "id": "yDtxFebAmF_v",
        "outputId": "af1c440a-1ab0-4eef-81bb-4c23a8c9a81e"
      },
      "outputs": [
        {
          "output_type": "stream",
          "name": "stdout",
          "text": [
            "\n",
            "Example 1 (beam_search):\n",
            "Comic ID: avengers-millennium-tpb-part-1, Chunk ID: 33\n",
            "Predicted: He asks if he is going to be able to help him. He tells her that she doesn’t know what it was like, but she has no idea how long they are in each other. She says that this isn’t a good time for them to get out of the way, and that there is something else to do about it. They have to go back to work together and find out who they are now. But they can't let themselves go back to work again because they don’t want to make sure they aren’t doing anything wrong with them anymore. And then we need to get out of here and see what happens when they're all right. It’s only one thing to worry about, so maybe they should take care of their new boss.\n",
            "Reference: \n",
            "\n",
            "Example 2 (beam_search):\n",
            "Comic ID: avengers-west-coast-089, Chunk ID: 2\n",
            "Predicted: \n",
            "Reference: Julia “Spider-Woman” Carpenter asks what other choice there is, and turns to USAgent, declaring that although she hasn’t been an Avenger as long as he has, she didn’t cash checks from the United Nations and then go working for the Commission behind everybody’s back. Johnny declares that their charter doesn’t say one word about not holding down a second job, ‘So bug off!’ he tells Julia. But Julia points out that it is still a conflict of interest to work for the government when the Avengers are now under the United Nations. Wanda adds that the fact the Commission is a despicable outfit just makes it worse. ‘Listen, what I do in my spare time –‘ Johnny begins, until Clint interrupts, ‘”Spare time”? You went on a mission for them in one of our Quinjets!’ he declares. ‘Bet you’ll really miss this when you’re off at college’ Bobbi “Mockingbird” Morse-Barton whispers to Miguel “Living Lightning” Santos, as they and Simon “Wonder Man” Williams stand nearby and watch the argument. ‘Yeah right’ Miguel, now a reserve member of the team replies. Hawkeye tells Johnny that if he thinks they won’t kick him out of the team because they are short handed after the death of Iron Man, then he has got news for him, when suddenly, the security alarm goes off. Wonder Man and Living Lighting quickly rush into action, while the others follow them, with Hawkeye telling USAgent that he can wait here if he likes, ‘Somebody might phone with a better offer’. Arriving outside the main building, the Avengers West Coast are confronted by ‘That new Iron Man’ as Living Lightning puts it. Simon asks him what he is doing here, to which Iron Man replies that he won’t pretend he is overjoyed to be here, ‘But I’m here just the same’. Wonder Man tells the new Iron Man that, after their free-for-all at Tony Stark’s funeral, he is about the last person they ever expected to see again. ‘What are you doing – slumming?’ Living Lightning asks the new Iron Man as the rest of the Avengers West Coast arrive on the scene. Iron Man replies that he is actually here to offer to join the Avengers West, to which Hawkeye asks him what the blazes brought this on. Iron Man replies that he was thinking about it, and figured that if he didn’t take Stark’s place here too, then the tram would lack sheer power. ‘So, if you want me, I’m in – whenever my other duties allow, of course’. Mockingbird holds her husband Hawkeye back as he angrily replies ‘Of all the -! With that kind of an attitude, who needs you?’, before Mockingbird reminds her husband that it is not for him to decide. Clint admits that Mockingbird is right, and points out also that they have not elected a new chairman to replace Iron Man. The Scarlet Witch points out that this is hardly the time, to which USAgent declares ‘So let’s take a vote – then throw him out!’ Mockingbird remarks that she smells a consensus here, and suggests that Hawkeye speak for all of them, reminding everyone that Clint was the group’s first chairman. No one objects, so Clint turns to the new Iron Man and tells him that they want to be fair to him\n",
            "\n",
            "Example 3 (beam_search):\n",
            "Comic ID: avengers-two-wonder-man-and-beast-3, Chunk ID: 1\n",
            "Predicted: He asks if he is going to be able to help him. He tells her that she doesn’t know what it was like, but she has no idea how long they are in each other. She says that this isn’t a good time for them to get out of the way, and that there is something else to do about it. They have to go back to work together and find out who they are now. But they can't let themselves go back to work again because they don’t want to make sure they aren’t doing anything wrong with them anymore. And then we need to get out of here and see what happens when they're all right. It’s only one thing to worry about, so maybe they should take care of their new boss.\n",
            "Reference: It’s Alive After being summoned by Lotus, the massive stone Colossus tears through the wall and smashes Wonder Man in the face with its huge fist. Simon is more than surprised by its appearance. Bob O’Bryan had told him that ‘It’ had been destroyed. The only ‘It’ he ever ran up against was the robot copy Bob built for their movie. This is no robot, and its fists are extremely solid. “Kill Wonder Man,” says the monster as it pummels Simon into the ground with astonishing power. Beast jumps into the fray, but is swatted away like he’s nothing. Diane Cummings shakes her husband, and asks if he can hear her. He has to stop this. Bob is oblivious to her presence, repeating the words, “Kill Wonder Man.’ Before Diane can try again, she is karate chopped from behind by Lotus, who stands face to face with Bob. She tells him that her will is his will. He must get them out of there while Wonder Man is down. Bob obeys, and the giant creature picks them both up and takes to the air. Lotus figures she’ll deal with Wonder Man later. As Hank rushes to check his friend is all right, Mac Sanders reports on the incident. Wonder Man is furious, and asks where they are. Hank informs him they’ve gone; together, one assumes. His view was partially obscured, but he thinks the creature scooped up Bob as well. Diane then appears, and confirms that it did. She says Lotus has him under some sort of spell. Simon asks her not to worry; he’ll save him. Lotus won’t get away with this. Before Hank can object, Wonder Man flies off at speed, leaving Hank and Diane behind with the other guests. Diane says she can’t believe It is back. “Back?!” queries Hank. Flying over Hollywood’s famous sign, Lotus wonders how Simon found out. He shouted to the entire room that she had backed the Armed Response attack squad. The only ones who could link her legitimate holdings to criminal activity are either dead, or under her thrall. Somehow, yet Wonder Man seemed to know everything. She thinks it was maddening enough when he disrupted her filmmaking. That production company was the perfect cover, but this… She’d planned to tail him from the charity gala, and then use O’Bryan to use It to destroy him. Her plans have now changed. Her entire operation is in jeopardy, all because of this infuriating Avenger. Simon’s head is still ringing from the pounding he took, but at least he now knows who’s out to get him. He still can’t get over Lotus turning up, though. He saw the Black Talon kill her at Mephisto’s command when they were trapped in Hades, didn’t he? He knows that Mephisto tricked him with a phony Enchantress and Executioner, and with his parents’ ‘ghosts.’ He actually made him forget his mother was alive.\n",
            "[ERROR] Loading /content/drive/MyDrive/multimodal_summarization/test_images/x-treme-x-men-v1-033-2003/1.jpg: cannot identify image file '/content/drive/MyDrive/multimodal_summarization/test_images/x-treme-x-men-v1-033-2003/1.jpg'\n",
            "[ERROR] Loading /content/drive/MyDrive/multimodal_summarization/test_images/x-treme-x-men-v1-033-2003/2.jpg: cannot identify image file '/content/drive/MyDrive/multimodal_summarization/test_images/x-treme-x-men-v1-033-2003/2.jpg'\n",
            "[ERROR] Loading /content/drive/MyDrive/multimodal_summarization/test_images/x-treme-x-men-v1-033-2003/3.jpg: cannot identify image file '/content/drive/MyDrive/multimodal_summarization/test_images/x-treme-x-men-v1-033-2003/3.jpg'\n",
            "[ERROR] Loading /content/drive/MyDrive/multimodal_summarization/test_images/x-treme-x-men-v1-033-2003/4.jpg: cannot identify image file '/content/drive/MyDrive/multimodal_summarization/test_images/x-treme-x-men-v1-033-2003/4.jpg'\n",
            "[ERROR] Loading /content/drive/MyDrive/multimodal_summarization/test_images/x-treme-x-men-v1-033-2003/5.jpg: cannot identify image file '/content/drive/MyDrive/multimodal_summarization/test_images/x-treme-x-men-v1-033-2003/5.jpg'\n",
            "\n",
            "Example 4 (beam_search):\n",
            "Comic ID: x-treme-x-men-v1-033-2003, Chunk ID: 1\n",
            "Predicted: He asks if he is going to be able to help him. He tells her that she doesn’t know what it was like, but she has no idea how long they are in each other. She says that this isn’t a good time for them to get out of the way, and that there is something else to do about it. They have to go back to work together and find out who they are now. But they can't let themselves go back to work again because they don’t want to make sure they aren’t doing anything wrong with them anymore. And then we need to get out of here and see what happens when they're all right. It’s only one thing to worry about, so maybe they should take care of their new boss.\n",
            "Reference: Intifada - part 3: Manifest Destiny Marie Jennifer D’Ancanto (or prisoner #K-22351) walks up the courthouse steps in Valle Soleada, California. Outside the courthouse, two factions converge. One of these factions is the pro-Marie group, the other is the anti-Marie group and the only thing that stands between them is a handful of police officers. Manoli Wetherell reports on the clash of the factions and Marie’s excuse of why she attacked the Mermaid Club’s patrons. Manoli states that Marie is upset over the recent takeover of her own neighborhood by a group that says they only want mutants to live there. At the X-Corp headquarters in Los Angeles, Roberto DaCosta talks to the governor of California, telling him that he strongly deplores Marie’s hate-crime and anyone that shares his views will get his full support. The reply is not heard, but Bobby goes on to say that he believes an example needs to be made out of Marie so this heinous crime will not happen again. Back at the courthouse, the district attorney addresses a crowd of reporters and tells them that he is seeking the maximum penalty for her crimes. Minutes later, the judge questions Marie on how she will plead in the case. Marie stands to her feet and nervously pleads not guilty, as her lawyer sits uncaringly next to her. In the night and at Anna’s beach house a mutant named Revenant (another word for ghost) walks the beach outside. Rogue’s Dream Anna Raven runs from the ocean in a joyful smile, as she thinks about how great her life has been of late. She has a job, a house of her own, her own “sweetie” and she has even picked a name out for herself. Running inside her house, Anna brushes her hair in front of her bathroom mirror and is shocked to see her eyes begin to glow. Suddenly, her hand begins to turn blue and she wonders how it is possible she is turning into Mystique when she has never imprinted her foster mother before? Running from the room, her towel falls to the ground, revealing her body to be in the form of Mystique. Rogue hears a voice inside her and knows that it is Mystique that is speaking to her. Rogue’s teammates rush in, only to be singly killed by Anna’s mutated hands. As she kills, Anna hears Mystique tell her that the two of them are almost identical; Mystique steals people’s appearance, while Rogue steals their minds.\n",
            "\n",
            "Example 5 (beam_search):\n",
            "Comic ID: avengers-millennium-tpb-part-1, Chunk ID: 22\n",
            "Predicted: He asks if he is going to be able to help him. He tells her that she doesn’t know what it was like, but she has no idea how long they are in each other. She says that this isn’t a good time for them to get out of the way, and that there is something else to do about it. They have to go back to work together and find out who they are now. But they can't let themselves go back to work again because they don’t want to make sure they aren’t doing anything wrong with them anymore. And then we need to get out of here and see what happens when they're all right. It’s only one thing to worry about, so maybe they should take care of their new boss.\n",
            "Reference: \n"
          ]
        }
      ],
      "source": [
        "examples = generate_summaries(model, tokenizer, test_dataset, num_examples=5)"
      ]
    },
    {
      "cell_type": "code",
      "source": [],
      "metadata": {
        "id": "juaWjFrlHnS2"
      },
      "execution_count": null,
      "outputs": []
    }
  ],
  "metadata": {
    "accelerator": "GPU",
    "colab": {
      "gpuType": "A100",
      "provenance": [],
      "include_colab_link": true
    },
    "kernelspec": {
      "display_name": "Python 3",
      "name": "python3"
    },
    "language_info": {
      "name": "python"
    },
    "widgets": {
      "application/vnd.jupyter.widget-state+json": {
        "6e3c5a13fa664d10bcc423b8fb2f5171": {
          "model_module": "@jupyter-widgets/controls",
          "model_name": "HBoxModel",
          "model_module_version": "1.5.0",
          "state": {
            "_dom_classes": [],
            "_model_module": "@jupyter-widgets/controls",
            "_model_module_version": "1.5.0",
            "_model_name": "HBoxModel",
            "_view_count": null,
            "_view_module": "@jupyter-widgets/controls",
            "_view_module_version": "1.5.0",
            "_view_name": "HBoxView",
            "box_style": "",
            "children": [
              "IPY_MODEL_b0a240d3b3a049eca86a05a7499e59d5",
              "IPY_MODEL_088aa656aa7849fa809a720c99f007d6",
              "IPY_MODEL_f4809bd5391b4718aa0daad37fb0353c"
            ],
            "layout": "IPY_MODEL_f62c0425035f4d64ae163e9ff0ba7e44"
          }
        },
        "b0a240d3b3a049eca86a05a7499e59d5": {
          "model_module": "@jupyter-widgets/controls",
          "model_name": "HTMLModel",
          "model_module_version": "1.5.0",
          "state": {
            "_dom_classes": [],
            "_model_module": "@jupyter-widgets/controls",
            "_model_module_version": "1.5.0",
            "_model_name": "HTMLModel",
            "_view_count": null,
            "_view_module": "@jupyter-widgets/controls",
            "_view_module_version": "1.5.0",
            "_view_name": "HTMLView",
            "description": "",
            "description_tooltip": null,
            "layout": "IPY_MODEL_e0070ace9cbb4e39acda58d8dfe5c23d",
            "placeholder": "​",
            "style": "IPY_MODEL_d18ba5c4079c400bbe9c370f2dfef3d6",
            "value": "vocab.json: 100%"
          }
        },
        "088aa656aa7849fa809a720c99f007d6": {
          "model_module": "@jupyter-widgets/controls",
          "model_name": "FloatProgressModel",
          "model_module_version": "1.5.0",
          "state": {
            "_dom_classes": [],
            "_model_module": "@jupyter-widgets/controls",
            "_model_module_version": "1.5.0",
            "_model_name": "FloatProgressModel",
            "_view_count": null,
            "_view_module": "@jupyter-widgets/controls",
            "_view_module_version": "1.5.0",
            "_view_name": "ProgressView",
            "bar_style": "success",
            "description": "",
            "description_tooltip": null,
            "layout": "IPY_MODEL_1dda82aecd394c16b9bb1cfd1500a8fc",
            "max": 898823,
            "min": 0,
            "orientation": "horizontal",
            "style": "IPY_MODEL_71a9aa812f3f42f99f553c0088e6ad09",
            "value": 898823
          }
        },
        "f4809bd5391b4718aa0daad37fb0353c": {
          "model_module": "@jupyter-widgets/controls",
          "model_name": "HTMLModel",
          "model_module_version": "1.5.0",
          "state": {
            "_dom_classes": [],
            "_model_module": "@jupyter-widgets/controls",
            "_model_module_version": "1.5.0",
            "_model_name": "HTMLModel",
            "_view_count": null,
            "_view_module": "@jupyter-widgets/controls",
            "_view_module_version": "1.5.0",
            "_view_name": "HTMLView",
            "description": "",
            "description_tooltip": null,
            "layout": "IPY_MODEL_8a8b73e1c81a49fe8ef57d148078a520",
            "placeholder": "​",
            "style": "IPY_MODEL_2efc3d44e5d34359b6e11eb60ed063ba",
            "value": " 899k/899k [00:00&lt;00:00, 12.5MB/s]"
          }
        },
        "f62c0425035f4d64ae163e9ff0ba7e44": {
          "model_module": "@jupyter-widgets/base",
          "model_name": "LayoutModel",
          "model_module_version": "1.2.0",
          "state": {
            "_model_module": "@jupyter-widgets/base",
            "_model_module_version": "1.2.0",
            "_model_name": "LayoutModel",
            "_view_count": null,
            "_view_module": "@jupyter-widgets/base",
            "_view_module_version": "1.2.0",
            "_view_name": "LayoutView",
            "align_content": null,
            "align_items": null,
            "align_self": null,
            "border": null,
            "bottom": null,
            "display": null,
            "flex": null,
            "flex_flow": null,
            "grid_area": null,
            "grid_auto_columns": null,
            "grid_auto_flow": null,
            "grid_auto_rows": null,
            "grid_column": null,
            "grid_gap": null,
            "grid_row": null,
            "grid_template_areas": null,
            "grid_template_columns": null,
            "grid_template_rows": null,
            "height": null,
            "justify_content": null,
            "justify_items": null,
            "left": null,
            "margin": null,
            "max_height": null,
            "max_width": null,
            "min_height": null,
            "min_width": null,
            "object_fit": null,
            "object_position": null,
            "order": null,
            "overflow": null,
            "overflow_x": null,
            "overflow_y": null,
            "padding": null,
            "right": null,
            "top": null,
            "visibility": null,
            "width": null
          }
        },
        "e0070ace9cbb4e39acda58d8dfe5c23d": {
          "model_module": "@jupyter-widgets/base",
          "model_name": "LayoutModel",
          "model_module_version": "1.2.0",
          "state": {
            "_model_module": "@jupyter-widgets/base",
            "_model_module_version": "1.2.0",
            "_model_name": "LayoutModel",
            "_view_count": null,
            "_view_module": "@jupyter-widgets/base",
            "_view_module_version": "1.2.0",
            "_view_name": "LayoutView",
            "align_content": null,
            "align_items": null,
            "align_self": null,
            "border": null,
            "bottom": null,
            "display": null,
            "flex": null,
            "flex_flow": null,
            "grid_area": null,
            "grid_auto_columns": null,
            "grid_auto_flow": null,
            "grid_auto_rows": null,
            "grid_column": null,
            "grid_gap": null,
            "grid_row": null,
            "grid_template_areas": null,
            "grid_template_columns": null,
            "grid_template_rows": null,
            "height": null,
            "justify_content": null,
            "justify_items": null,
            "left": null,
            "margin": null,
            "max_height": null,
            "max_width": null,
            "min_height": null,
            "min_width": null,
            "object_fit": null,
            "object_position": null,
            "order": null,
            "overflow": null,
            "overflow_x": null,
            "overflow_y": null,
            "padding": null,
            "right": null,
            "top": null,
            "visibility": null,
            "width": null
          }
        },
        "d18ba5c4079c400bbe9c370f2dfef3d6": {
          "model_module": "@jupyter-widgets/controls",
          "model_name": "DescriptionStyleModel",
          "model_module_version": "1.5.0",
          "state": {
            "_model_module": "@jupyter-widgets/controls",
            "_model_module_version": "1.5.0",
            "_model_name": "DescriptionStyleModel",
            "_view_count": null,
            "_view_module": "@jupyter-widgets/base",
            "_view_module_version": "1.2.0",
            "_view_name": "StyleView",
            "description_width": ""
          }
        },
        "1dda82aecd394c16b9bb1cfd1500a8fc": {
          "model_module": "@jupyter-widgets/base",
          "model_name": "LayoutModel",
          "model_module_version": "1.2.0",
          "state": {
            "_model_module": "@jupyter-widgets/base",
            "_model_module_version": "1.2.0",
            "_model_name": "LayoutModel",
            "_view_count": null,
            "_view_module": "@jupyter-widgets/base",
            "_view_module_version": "1.2.0",
            "_view_name": "LayoutView",
            "align_content": null,
            "align_items": null,
            "align_self": null,
            "border": null,
            "bottom": null,
            "display": null,
            "flex": null,
            "flex_flow": null,
            "grid_area": null,
            "grid_auto_columns": null,
            "grid_auto_flow": null,
            "grid_auto_rows": null,
            "grid_column": null,
            "grid_gap": null,
            "grid_row": null,
            "grid_template_areas": null,
            "grid_template_columns": null,
            "grid_template_rows": null,
            "height": null,
            "justify_content": null,
            "justify_items": null,
            "left": null,
            "margin": null,
            "max_height": null,
            "max_width": null,
            "min_height": null,
            "min_width": null,
            "object_fit": null,
            "object_position": null,
            "order": null,
            "overflow": null,
            "overflow_x": null,
            "overflow_y": null,
            "padding": null,
            "right": null,
            "top": null,
            "visibility": null,
            "width": null
          }
        },
        "71a9aa812f3f42f99f553c0088e6ad09": {
          "model_module": "@jupyter-widgets/controls",
          "model_name": "ProgressStyleModel",
          "model_module_version": "1.5.0",
          "state": {
            "_model_module": "@jupyter-widgets/controls",
            "_model_module_version": "1.5.0",
            "_model_name": "ProgressStyleModel",
            "_view_count": null,
            "_view_module": "@jupyter-widgets/base",
            "_view_module_version": "1.2.0",
            "_view_name": "StyleView",
            "bar_color": null,
            "description_width": ""
          }
        },
        "8a8b73e1c81a49fe8ef57d148078a520": {
          "model_module": "@jupyter-widgets/base",
          "model_name": "LayoutModel",
          "model_module_version": "1.2.0",
          "state": {
            "_model_module": "@jupyter-widgets/base",
            "_model_module_version": "1.2.0",
            "_model_name": "LayoutModel",
            "_view_count": null,
            "_view_module": "@jupyter-widgets/base",
            "_view_module_version": "1.2.0",
            "_view_name": "LayoutView",
            "align_content": null,
            "align_items": null,
            "align_self": null,
            "border": null,
            "bottom": null,
            "display": null,
            "flex": null,
            "flex_flow": null,
            "grid_area": null,
            "grid_auto_columns": null,
            "grid_auto_flow": null,
            "grid_auto_rows": null,
            "grid_column": null,
            "grid_gap": null,
            "grid_row": null,
            "grid_template_areas": null,
            "grid_template_columns": null,
            "grid_template_rows": null,
            "height": null,
            "justify_content": null,
            "justify_items": null,
            "left": null,
            "margin": null,
            "max_height": null,
            "max_width": null,
            "min_height": null,
            "min_width": null,
            "object_fit": null,
            "object_position": null,
            "order": null,
            "overflow": null,
            "overflow_x": null,
            "overflow_y": null,
            "padding": null,
            "right": null,
            "top": null,
            "visibility": null,
            "width": null
          }
        },
        "2efc3d44e5d34359b6e11eb60ed063ba": {
          "model_module": "@jupyter-widgets/controls",
          "model_name": "DescriptionStyleModel",
          "model_module_version": "1.5.0",
          "state": {
            "_model_module": "@jupyter-widgets/controls",
            "_model_module_version": "1.5.0",
            "_model_name": "DescriptionStyleModel",
            "_view_count": null,
            "_view_module": "@jupyter-widgets/base",
            "_view_module_version": "1.2.0",
            "_view_name": "StyleView",
            "description_width": ""
          }
        },
        "46358d651548449fb52904d8dd54f945": {
          "model_module": "@jupyter-widgets/controls",
          "model_name": "HBoxModel",
          "model_module_version": "1.5.0",
          "state": {
            "_dom_classes": [],
            "_model_module": "@jupyter-widgets/controls",
            "_model_module_version": "1.5.0",
            "_model_name": "HBoxModel",
            "_view_count": null,
            "_view_module": "@jupyter-widgets/controls",
            "_view_module_version": "1.5.0",
            "_view_name": "HBoxView",
            "box_style": "",
            "children": [
              "IPY_MODEL_797fc47a8d564c3aae22f7ce446b1c4a",
              "IPY_MODEL_33c29dd9e3054d71857fff5cf0a6f7db",
              "IPY_MODEL_e2a1157fef7447e49c26aeb274fc37bc"
            ],
            "layout": "IPY_MODEL_0d2f72ca78824f1bb5ccccb60addbed2"
          }
        },
        "797fc47a8d564c3aae22f7ce446b1c4a": {
          "model_module": "@jupyter-widgets/controls",
          "model_name": "HTMLModel",
          "model_module_version": "1.5.0",
          "state": {
            "_dom_classes": [],
            "_model_module": "@jupyter-widgets/controls",
            "_model_module_version": "1.5.0",
            "_model_name": "HTMLModel",
            "_view_count": null,
            "_view_module": "@jupyter-widgets/controls",
            "_view_module_version": "1.5.0",
            "_view_name": "HTMLView",
            "description": "",
            "description_tooltip": null,
            "layout": "IPY_MODEL_6625590a135a44939ae4f036df08e1b6",
            "placeholder": "​",
            "style": "IPY_MODEL_1528fc77007f4f178d1d59f5abc22e85",
            "value": "merges.txt: 100%"
          }
        },
        "33c29dd9e3054d71857fff5cf0a6f7db": {
          "model_module": "@jupyter-widgets/controls",
          "model_name": "FloatProgressModel",
          "model_module_version": "1.5.0",
          "state": {
            "_dom_classes": [],
            "_model_module": "@jupyter-widgets/controls",
            "_model_module_version": "1.5.0",
            "_model_name": "FloatProgressModel",
            "_view_count": null,
            "_view_module": "@jupyter-widgets/controls",
            "_view_module_version": "1.5.0",
            "_view_name": "ProgressView",
            "bar_style": "success",
            "description": "",
            "description_tooltip": null,
            "layout": "IPY_MODEL_ad30629cdb924487b5ed2405701e0029",
            "max": 456318,
            "min": 0,
            "orientation": "horizontal",
            "style": "IPY_MODEL_110281471d9c43b68fe669992625e88b",
            "value": 456318
          }
        },
        "e2a1157fef7447e49c26aeb274fc37bc": {
          "model_module": "@jupyter-widgets/controls",
          "model_name": "HTMLModel",
          "model_module_version": "1.5.0",
          "state": {
            "_dom_classes": [],
            "_model_module": "@jupyter-widgets/controls",
            "_model_module_version": "1.5.0",
            "_model_name": "HTMLModel",
            "_view_count": null,
            "_view_module": "@jupyter-widgets/controls",
            "_view_module_version": "1.5.0",
            "_view_name": "HTMLView",
            "description": "",
            "description_tooltip": null,
            "layout": "IPY_MODEL_2a0581aab3724f3f8ab1b6ac08a51994",
            "placeholder": "​",
            "style": "IPY_MODEL_1f197013bb684fd09b70d0ab9cb145fa",
            "value": " 456k/456k [00:00&lt;00:00, 23.9MB/s]"
          }
        },
        "0d2f72ca78824f1bb5ccccb60addbed2": {
          "model_module": "@jupyter-widgets/base",
          "model_name": "LayoutModel",
          "model_module_version": "1.2.0",
          "state": {
            "_model_module": "@jupyter-widgets/base",
            "_model_module_version": "1.2.0",
            "_model_name": "LayoutModel",
            "_view_count": null,
            "_view_module": "@jupyter-widgets/base",
            "_view_module_version": "1.2.0",
            "_view_name": "LayoutView",
            "align_content": null,
            "align_items": null,
            "align_self": null,
            "border": null,
            "bottom": null,
            "display": null,
            "flex": null,
            "flex_flow": null,
            "grid_area": null,
            "grid_auto_columns": null,
            "grid_auto_flow": null,
            "grid_auto_rows": null,
            "grid_column": null,
            "grid_gap": null,
            "grid_row": null,
            "grid_template_areas": null,
            "grid_template_columns": null,
            "grid_template_rows": null,
            "height": null,
            "justify_content": null,
            "justify_items": null,
            "left": null,
            "margin": null,
            "max_height": null,
            "max_width": null,
            "min_height": null,
            "min_width": null,
            "object_fit": null,
            "object_position": null,
            "order": null,
            "overflow": null,
            "overflow_x": null,
            "overflow_y": null,
            "padding": null,
            "right": null,
            "top": null,
            "visibility": null,
            "width": null
          }
        },
        "6625590a135a44939ae4f036df08e1b6": {
          "model_module": "@jupyter-widgets/base",
          "model_name": "LayoutModel",
          "model_module_version": "1.2.0",
          "state": {
            "_model_module": "@jupyter-widgets/base",
            "_model_module_version": "1.2.0",
            "_model_name": "LayoutModel",
            "_view_count": null,
            "_view_module": "@jupyter-widgets/base",
            "_view_module_version": "1.2.0",
            "_view_name": "LayoutView",
            "align_content": null,
            "align_items": null,
            "align_self": null,
            "border": null,
            "bottom": null,
            "display": null,
            "flex": null,
            "flex_flow": null,
            "grid_area": null,
            "grid_auto_columns": null,
            "grid_auto_flow": null,
            "grid_auto_rows": null,
            "grid_column": null,
            "grid_gap": null,
            "grid_row": null,
            "grid_template_areas": null,
            "grid_template_columns": null,
            "grid_template_rows": null,
            "height": null,
            "justify_content": null,
            "justify_items": null,
            "left": null,
            "margin": null,
            "max_height": null,
            "max_width": null,
            "min_height": null,
            "min_width": null,
            "object_fit": null,
            "object_position": null,
            "order": null,
            "overflow": null,
            "overflow_x": null,
            "overflow_y": null,
            "padding": null,
            "right": null,
            "top": null,
            "visibility": null,
            "width": null
          }
        },
        "1528fc77007f4f178d1d59f5abc22e85": {
          "model_module": "@jupyter-widgets/controls",
          "model_name": "DescriptionStyleModel",
          "model_module_version": "1.5.0",
          "state": {
            "_model_module": "@jupyter-widgets/controls",
            "_model_module_version": "1.5.0",
            "_model_name": "DescriptionStyleModel",
            "_view_count": null,
            "_view_module": "@jupyter-widgets/base",
            "_view_module_version": "1.2.0",
            "_view_name": "StyleView",
            "description_width": ""
          }
        },
        "ad30629cdb924487b5ed2405701e0029": {
          "model_module": "@jupyter-widgets/base",
          "model_name": "LayoutModel",
          "model_module_version": "1.2.0",
          "state": {
            "_model_module": "@jupyter-widgets/base",
            "_model_module_version": "1.2.0",
            "_model_name": "LayoutModel",
            "_view_count": null,
            "_view_module": "@jupyter-widgets/base",
            "_view_module_version": "1.2.0",
            "_view_name": "LayoutView",
            "align_content": null,
            "align_items": null,
            "align_self": null,
            "border": null,
            "bottom": null,
            "display": null,
            "flex": null,
            "flex_flow": null,
            "grid_area": null,
            "grid_auto_columns": null,
            "grid_auto_flow": null,
            "grid_auto_rows": null,
            "grid_column": null,
            "grid_gap": null,
            "grid_row": null,
            "grid_template_areas": null,
            "grid_template_columns": null,
            "grid_template_rows": null,
            "height": null,
            "justify_content": null,
            "justify_items": null,
            "left": null,
            "margin": null,
            "max_height": null,
            "max_width": null,
            "min_height": null,
            "min_width": null,
            "object_fit": null,
            "object_position": null,
            "order": null,
            "overflow": null,
            "overflow_x": null,
            "overflow_y": null,
            "padding": null,
            "right": null,
            "top": null,
            "visibility": null,
            "width": null
          }
        },
        "110281471d9c43b68fe669992625e88b": {
          "model_module": "@jupyter-widgets/controls",
          "model_name": "ProgressStyleModel",
          "model_module_version": "1.5.0",
          "state": {
            "_model_module": "@jupyter-widgets/controls",
            "_model_module_version": "1.5.0",
            "_model_name": "ProgressStyleModel",
            "_view_count": null,
            "_view_module": "@jupyter-widgets/base",
            "_view_module_version": "1.2.0",
            "_view_name": "StyleView",
            "bar_color": null,
            "description_width": ""
          }
        },
        "2a0581aab3724f3f8ab1b6ac08a51994": {
          "model_module": "@jupyter-widgets/base",
          "model_name": "LayoutModel",
          "model_module_version": "1.2.0",
          "state": {
            "_model_module": "@jupyter-widgets/base",
            "_model_module_version": "1.2.0",
            "_model_name": "LayoutModel",
            "_view_count": null,
            "_view_module": "@jupyter-widgets/base",
            "_view_module_version": "1.2.0",
            "_view_name": "LayoutView",
            "align_content": null,
            "align_items": null,
            "align_self": null,
            "border": null,
            "bottom": null,
            "display": null,
            "flex": null,
            "flex_flow": null,
            "grid_area": null,
            "grid_auto_columns": null,
            "grid_auto_flow": null,
            "grid_auto_rows": null,
            "grid_column": null,
            "grid_gap": null,
            "grid_row": null,
            "grid_template_areas": null,
            "grid_template_columns": null,
            "grid_template_rows": null,
            "height": null,
            "justify_content": null,
            "justify_items": null,
            "left": null,
            "margin": null,
            "max_height": null,
            "max_width": null,
            "min_height": null,
            "min_width": null,
            "object_fit": null,
            "object_position": null,
            "order": null,
            "overflow": null,
            "overflow_x": null,
            "overflow_y": null,
            "padding": null,
            "right": null,
            "top": null,
            "visibility": null,
            "width": null
          }
        },
        "1f197013bb684fd09b70d0ab9cb145fa": {
          "model_module": "@jupyter-widgets/controls",
          "model_name": "DescriptionStyleModel",
          "model_module_version": "1.5.0",
          "state": {
            "_model_module": "@jupyter-widgets/controls",
            "_model_module_version": "1.5.0",
            "_model_name": "DescriptionStyleModel",
            "_view_count": null,
            "_view_module": "@jupyter-widgets/base",
            "_view_module_version": "1.2.0",
            "_view_name": "StyleView",
            "description_width": ""
          }
        },
        "8329fd8202a44eec87e90694f524aaf9": {
          "model_module": "@jupyter-widgets/controls",
          "model_name": "HBoxModel",
          "model_module_version": "1.5.0",
          "state": {
            "_dom_classes": [],
            "_model_module": "@jupyter-widgets/controls",
            "_model_module_version": "1.5.0",
            "_model_name": "HBoxModel",
            "_view_count": null,
            "_view_module": "@jupyter-widgets/controls",
            "_view_module_version": "1.5.0",
            "_view_name": "HBoxView",
            "box_style": "",
            "children": [
              "IPY_MODEL_b0d554dcd7264abfa2ab7bef64203f4f",
              "IPY_MODEL_0cd822a0928f44cbbc0189e8ce79da4d",
              "IPY_MODEL_e2d4435c75704d6f825df650233f1141"
            ],
            "layout": "IPY_MODEL_f15b31ee659a4ae480b25fa466da0010"
          }
        },
        "b0d554dcd7264abfa2ab7bef64203f4f": {
          "model_module": "@jupyter-widgets/controls",
          "model_name": "HTMLModel",
          "model_module_version": "1.5.0",
          "state": {
            "_dom_classes": [],
            "_model_module": "@jupyter-widgets/controls",
            "_model_module_version": "1.5.0",
            "_model_name": "HTMLModel",
            "_view_count": null,
            "_view_module": "@jupyter-widgets/controls",
            "_view_module_version": "1.5.0",
            "_view_name": "HTMLView",
            "description": "",
            "description_tooltip": null,
            "layout": "IPY_MODEL_a84ca52eef154544a18144621553efee",
            "placeholder": "​",
            "style": "IPY_MODEL_f1e60e3139e647e98a2aba29dd05cd7f",
            "value": "tokenizer.json: 100%"
          }
        },
        "0cd822a0928f44cbbc0189e8ce79da4d": {
          "model_module": "@jupyter-widgets/controls",
          "model_name": "FloatProgressModel",
          "model_module_version": "1.5.0",
          "state": {
            "_dom_classes": [],
            "_model_module": "@jupyter-widgets/controls",
            "_model_module_version": "1.5.0",
            "_model_name": "FloatProgressModel",
            "_view_count": null,
            "_view_module": "@jupyter-widgets/controls",
            "_view_module_version": "1.5.0",
            "_view_name": "ProgressView",
            "bar_style": "success",
            "description": "",
            "description_tooltip": null,
            "layout": "IPY_MODEL_e3b3820356ac42bf8ea7e6c342776243",
            "max": 1355863,
            "min": 0,
            "orientation": "horizontal",
            "style": "IPY_MODEL_70c779b9100844bdaebdf4a41254dec6",
            "value": 1355863
          }
        },
        "e2d4435c75704d6f825df650233f1141": {
          "model_module": "@jupyter-widgets/controls",
          "model_name": "HTMLModel",
          "model_module_version": "1.5.0",
          "state": {
            "_dom_classes": [],
            "_model_module": "@jupyter-widgets/controls",
            "_model_module_version": "1.5.0",
            "_model_name": "HTMLModel",
            "_view_count": null,
            "_view_module": "@jupyter-widgets/controls",
            "_view_module_version": "1.5.0",
            "_view_name": "HTMLView",
            "description": "",
            "description_tooltip": null,
            "layout": "IPY_MODEL_0022c4a37e3242e6b31603100ca523fc",
            "placeholder": "​",
            "style": "IPY_MODEL_ec25e60780324d3a988c659d4cf57be8",
            "value": " 1.36M/1.36M [00:00&lt;00:00, 32.6MB/s]"
          }
        },
        "f15b31ee659a4ae480b25fa466da0010": {
          "model_module": "@jupyter-widgets/base",
          "model_name": "LayoutModel",
          "model_module_version": "1.2.0",
          "state": {
            "_model_module": "@jupyter-widgets/base",
            "_model_module_version": "1.2.0",
            "_model_name": "LayoutModel",
            "_view_count": null,
            "_view_module": "@jupyter-widgets/base",
            "_view_module_version": "1.2.0",
            "_view_name": "LayoutView",
            "align_content": null,
            "align_items": null,
            "align_self": null,
            "border": null,
            "bottom": null,
            "display": null,
            "flex": null,
            "flex_flow": null,
            "grid_area": null,
            "grid_auto_columns": null,
            "grid_auto_flow": null,
            "grid_auto_rows": null,
            "grid_column": null,
            "grid_gap": null,
            "grid_row": null,
            "grid_template_areas": null,
            "grid_template_columns": null,
            "grid_template_rows": null,
            "height": null,
            "justify_content": null,
            "justify_items": null,
            "left": null,
            "margin": null,
            "max_height": null,
            "max_width": null,
            "min_height": null,
            "min_width": null,
            "object_fit": null,
            "object_position": null,
            "order": null,
            "overflow": null,
            "overflow_x": null,
            "overflow_y": null,
            "padding": null,
            "right": null,
            "top": null,
            "visibility": null,
            "width": null
          }
        },
        "a84ca52eef154544a18144621553efee": {
          "model_module": "@jupyter-widgets/base",
          "model_name": "LayoutModel",
          "model_module_version": "1.2.0",
          "state": {
            "_model_module": "@jupyter-widgets/base",
            "_model_module_version": "1.2.0",
            "_model_name": "LayoutModel",
            "_view_count": null,
            "_view_module": "@jupyter-widgets/base",
            "_view_module_version": "1.2.0",
            "_view_name": "LayoutView",
            "align_content": null,
            "align_items": null,
            "align_self": null,
            "border": null,
            "bottom": null,
            "display": null,
            "flex": null,
            "flex_flow": null,
            "grid_area": null,
            "grid_auto_columns": null,
            "grid_auto_flow": null,
            "grid_auto_rows": null,
            "grid_column": null,
            "grid_gap": null,
            "grid_row": null,
            "grid_template_areas": null,
            "grid_template_columns": null,
            "grid_template_rows": null,
            "height": null,
            "justify_content": null,
            "justify_items": null,
            "left": null,
            "margin": null,
            "max_height": null,
            "max_width": null,
            "min_height": null,
            "min_width": null,
            "object_fit": null,
            "object_position": null,
            "order": null,
            "overflow": null,
            "overflow_x": null,
            "overflow_y": null,
            "padding": null,
            "right": null,
            "top": null,
            "visibility": null,
            "width": null
          }
        },
        "f1e60e3139e647e98a2aba29dd05cd7f": {
          "model_module": "@jupyter-widgets/controls",
          "model_name": "DescriptionStyleModel",
          "model_module_version": "1.5.0",
          "state": {
            "_model_module": "@jupyter-widgets/controls",
            "_model_module_version": "1.5.0",
            "_model_name": "DescriptionStyleModel",
            "_view_count": null,
            "_view_module": "@jupyter-widgets/base",
            "_view_module_version": "1.2.0",
            "_view_name": "StyleView",
            "description_width": ""
          }
        },
        "e3b3820356ac42bf8ea7e6c342776243": {
          "model_module": "@jupyter-widgets/base",
          "model_name": "LayoutModel",
          "model_module_version": "1.2.0",
          "state": {
            "_model_module": "@jupyter-widgets/base",
            "_model_module_version": "1.2.0",
            "_model_name": "LayoutModel",
            "_view_count": null,
            "_view_module": "@jupyter-widgets/base",
            "_view_module_version": "1.2.0",
            "_view_name": "LayoutView",
            "align_content": null,
            "align_items": null,
            "align_self": null,
            "border": null,
            "bottom": null,
            "display": null,
            "flex": null,
            "flex_flow": null,
            "grid_area": null,
            "grid_auto_columns": null,
            "grid_auto_flow": null,
            "grid_auto_rows": null,
            "grid_column": null,
            "grid_gap": null,
            "grid_row": null,
            "grid_template_areas": null,
            "grid_template_columns": null,
            "grid_template_rows": null,
            "height": null,
            "justify_content": null,
            "justify_items": null,
            "left": null,
            "margin": null,
            "max_height": null,
            "max_width": null,
            "min_height": null,
            "min_width": null,
            "object_fit": null,
            "object_position": null,
            "order": null,
            "overflow": null,
            "overflow_x": null,
            "overflow_y": null,
            "padding": null,
            "right": null,
            "top": null,
            "visibility": null,
            "width": null
          }
        },
        "70c779b9100844bdaebdf4a41254dec6": {
          "model_module": "@jupyter-widgets/controls",
          "model_name": "ProgressStyleModel",
          "model_module_version": "1.5.0",
          "state": {
            "_model_module": "@jupyter-widgets/controls",
            "_model_module_version": "1.5.0",
            "_model_name": "ProgressStyleModel",
            "_view_count": null,
            "_view_module": "@jupyter-widgets/base",
            "_view_module_version": "1.2.0",
            "_view_name": "StyleView",
            "bar_color": null,
            "description_width": ""
          }
        },
        "0022c4a37e3242e6b31603100ca523fc": {
          "model_module": "@jupyter-widgets/base",
          "model_name": "LayoutModel",
          "model_module_version": "1.2.0",
          "state": {
            "_model_module": "@jupyter-widgets/base",
            "_model_module_version": "1.2.0",
            "_model_name": "LayoutModel",
            "_view_count": null,
            "_view_module": "@jupyter-widgets/base",
            "_view_module_version": "1.2.0",
            "_view_name": "LayoutView",
            "align_content": null,
            "align_items": null,
            "align_self": null,
            "border": null,
            "bottom": null,
            "display": null,
            "flex": null,
            "flex_flow": null,
            "grid_area": null,
            "grid_auto_columns": null,
            "grid_auto_flow": null,
            "grid_auto_rows": null,
            "grid_column": null,
            "grid_gap": null,
            "grid_row": null,
            "grid_template_areas": null,
            "grid_template_columns": null,
            "grid_template_rows": null,
            "height": null,
            "justify_content": null,
            "justify_items": null,
            "left": null,
            "margin": null,
            "max_height": null,
            "max_width": null,
            "min_height": null,
            "min_width": null,
            "object_fit": null,
            "object_position": null,
            "order": null,
            "overflow": null,
            "overflow_x": null,
            "overflow_y": null,
            "padding": null,
            "right": null,
            "top": null,
            "visibility": null,
            "width": null
          }
        },
        "ec25e60780324d3a988c659d4cf57be8": {
          "model_module": "@jupyter-widgets/controls",
          "model_name": "DescriptionStyleModel",
          "model_module_version": "1.5.0",
          "state": {
            "_model_module": "@jupyter-widgets/controls",
            "_model_module_version": "1.5.0",
            "_model_name": "DescriptionStyleModel",
            "_view_count": null,
            "_view_module": "@jupyter-widgets/base",
            "_view_module_version": "1.2.0",
            "_view_name": "StyleView",
            "description_width": ""
          }
        },
        "9fce6d44f77547139466ff78984022cb": {
          "model_module": "@jupyter-widgets/controls",
          "model_name": "HBoxModel",
          "model_module_version": "1.5.0",
          "state": {
            "_dom_classes": [],
            "_model_module": "@jupyter-widgets/controls",
            "_model_module_version": "1.5.0",
            "_model_name": "HBoxModel",
            "_view_count": null,
            "_view_module": "@jupyter-widgets/controls",
            "_view_module_version": "1.5.0",
            "_view_name": "HBoxView",
            "box_style": "",
            "children": [
              "IPY_MODEL_bf224874e1c14685b3c7ad3b7424985b",
              "IPY_MODEL_cb6d684af0b7447ea171307ee7fcf3dc",
              "IPY_MODEL_ba22d1b9d78b47bebaff21766fe313ae"
            ],
            "layout": "IPY_MODEL_07a1b46c9f724d20a7a24c356b60dfa5"
          }
        },
        "bf224874e1c14685b3c7ad3b7424985b": {
          "model_module": "@jupyter-widgets/controls",
          "model_name": "HTMLModel",
          "model_module_version": "1.5.0",
          "state": {
            "_dom_classes": [],
            "_model_module": "@jupyter-widgets/controls",
            "_model_module_version": "1.5.0",
            "_model_name": "HTMLModel",
            "_view_count": null,
            "_view_module": "@jupyter-widgets/controls",
            "_view_module_version": "1.5.0",
            "_view_name": "HTMLView",
            "description": "",
            "description_tooltip": null,
            "layout": "IPY_MODEL_864eabeeaac94a8f8056abd87a166d8b",
            "placeholder": "​",
            "style": "IPY_MODEL_7e34f2bab6ea4387b7c2e8b7bac6fc8b",
            "value": "config.json: 100%"
          }
        },
        "cb6d684af0b7447ea171307ee7fcf3dc": {
          "model_module": "@jupyter-widgets/controls",
          "model_name": "FloatProgressModel",
          "model_module_version": "1.5.0",
          "state": {
            "_dom_classes": [],
            "_model_module": "@jupyter-widgets/controls",
            "_model_module_version": "1.5.0",
            "_model_name": "FloatProgressModel",
            "_view_count": null,
            "_view_module": "@jupyter-widgets/controls",
            "_view_module_version": "1.5.0",
            "_view_name": "ProgressView",
            "bar_style": "success",
            "description": "",
            "description_tooltip": null,
            "layout": "IPY_MODEL_b999ef9938054ca3bb3aafbf28da8faa",
            "max": 1716,
            "min": 0,
            "orientation": "horizontal",
            "style": "IPY_MODEL_a6786499f8104b6a891d28db143f84b7",
            "value": 1716
          }
        },
        "ba22d1b9d78b47bebaff21766fe313ae": {
          "model_module": "@jupyter-widgets/controls",
          "model_name": "HTMLModel",
          "model_module_version": "1.5.0",
          "state": {
            "_dom_classes": [],
            "_model_module": "@jupyter-widgets/controls",
            "_model_module_version": "1.5.0",
            "_model_name": "HTMLModel",
            "_view_count": null,
            "_view_module": "@jupyter-widgets/controls",
            "_view_module_version": "1.5.0",
            "_view_name": "HTMLView",
            "description": "",
            "description_tooltip": null,
            "layout": "IPY_MODEL_a0e3e4238dd44f5a8cdf2ad14095bef8",
            "placeholder": "​",
            "style": "IPY_MODEL_8a0155da07394e89a5a47987dd24b100",
            "value": " 1.72k/1.72k [00:00&lt;00:00, 206kB/s]"
          }
        },
        "07a1b46c9f724d20a7a24c356b60dfa5": {
          "model_module": "@jupyter-widgets/base",
          "model_name": "LayoutModel",
          "model_module_version": "1.2.0",
          "state": {
            "_model_module": "@jupyter-widgets/base",
            "_model_module_version": "1.2.0",
            "_model_name": "LayoutModel",
            "_view_count": null,
            "_view_module": "@jupyter-widgets/base",
            "_view_module_version": "1.2.0",
            "_view_name": "LayoutView",
            "align_content": null,
            "align_items": null,
            "align_self": null,
            "border": null,
            "bottom": null,
            "display": null,
            "flex": null,
            "flex_flow": null,
            "grid_area": null,
            "grid_auto_columns": null,
            "grid_auto_flow": null,
            "grid_auto_rows": null,
            "grid_column": null,
            "grid_gap": null,
            "grid_row": null,
            "grid_template_areas": null,
            "grid_template_columns": null,
            "grid_template_rows": null,
            "height": null,
            "justify_content": null,
            "justify_items": null,
            "left": null,
            "margin": null,
            "max_height": null,
            "max_width": null,
            "min_height": null,
            "min_width": null,
            "object_fit": null,
            "object_position": null,
            "order": null,
            "overflow": null,
            "overflow_x": null,
            "overflow_y": null,
            "padding": null,
            "right": null,
            "top": null,
            "visibility": null,
            "width": null
          }
        },
        "864eabeeaac94a8f8056abd87a166d8b": {
          "model_module": "@jupyter-widgets/base",
          "model_name": "LayoutModel",
          "model_module_version": "1.2.0",
          "state": {
            "_model_module": "@jupyter-widgets/base",
            "_model_module_version": "1.2.0",
            "_model_name": "LayoutModel",
            "_view_count": null,
            "_view_module": "@jupyter-widgets/base",
            "_view_module_version": "1.2.0",
            "_view_name": "LayoutView",
            "align_content": null,
            "align_items": null,
            "align_self": null,
            "border": null,
            "bottom": null,
            "display": null,
            "flex": null,
            "flex_flow": null,
            "grid_area": null,
            "grid_auto_columns": null,
            "grid_auto_flow": null,
            "grid_auto_rows": null,
            "grid_column": null,
            "grid_gap": null,
            "grid_row": null,
            "grid_template_areas": null,
            "grid_template_columns": null,
            "grid_template_rows": null,
            "height": null,
            "justify_content": null,
            "justify_items": null,
            "left": null,
            "margin": null,
            "max_height": null,
            "max_width": null,
            "min_height": null,
            "min_width": null,
            "object_fit": null,
            "object_position": null,
            "order": null,
            "overflow": null,
            "overflow_x": null,
            "overflow_y": null,
            "padding": null,
            "right": null,
            "top": null,
            "visibility": null,
            "width": null
          }
        },
        "7e34f2bab6ea4387b7c2e8b7bac6fc8b": {
          "model_module": "@jupyter-widgets/controls",
          "model_name": "DescriptionStyleModel",
          "model_module_version": "1.5.0",
          "state": {
            "_model_module": "@jupyter-widgets/controls",
            "_model_module_version": "1.5.0",
            "_model_name": "DescriptionStyleModel",
            "_view_count": null,
            "_view_module": "@jupyter-widgets/base",
            "_view_module_version": "1.2.0",
            "_view_name": "StyleView",
            "description_width": ""
          }
        },
        "b999ef9938054ca3bb3aafbf28da8faa": {
          "model_module": "@jupyter-widgets/base",
          "model_name": "LayoutModel",
          "model_module_version": "1.2.0",
          "state": {
            "_model_module": "@jupyter-widgets/base",
            "_model_module_version": "1.2.0",
            "_model_name": "LayoutModel",
            "_view_count": null,
            "_view_module": "@jupyter-widgets/base",
            "_view_module_version": "1.2.0",
            "_view_name": "LayoutView",
            "align_content": null,
            "align_items": null,
            "align_self": null,
            "border": null,
            "bottom": null,
            "display": null,
            "flex": null,
            "flex_flow": null,
            "grid_area": null,
            "grid_auto_columns": null,
            "grid_auto_flow": null,
            "grid_auto_rows": null,
            "grid_column": null,
            "grid_gap": null,
            "grid_row": null,
            "grid_template_areas": null,
            "grid_template_columns": null,
            "grid_template_rows": null,
            "height": null,
            "justify_content": null,
            "justify_items": null,
            "left": null,
            "margin": null,
            "max_height": null,
            "max_width": null,
            "min_height": null,
            "min_width": null,
            "object_fit": null,
            "object_position": null,
            "order": null,
            "overflow": null,
            "overflow_x": null,
            "overflow_y": null,
            "padding": null,
            "right": null,
            "top": null,
            "visibility": null,
            "width": null
          }
        },
        "a6786499f8104b6a891d28db143f84b7": {
          "model_module": "@jupyter-widgets/controls",
          "model_name": "ProgressStyleModel",
          "model_module_version": "1.5.0",
          "state": {
            "_model_module": "@jupyter-widgets/controls",
            "_model_module_version": "1.5.0",
            "_model_name": "ProgressStyleModel",
            "_view_count": null,
            "_view_module": "@jupyter-widgets/base",
            "_view_module_version": "1.2.0",
            "_view_name": "StyleView",
            "bar_color": null,
            "description_width": ""
          }
        },
        "a0e3e4238dd44f5a8cdf2ad14095bef8": {
          "model_module": "@jupyter-widgets/base",
          "model_name": "LayoutModel",
          "model_module_version": "1.2.0",
          "state": {
            "_model_module": "@jupyter-widgets/base",
            "_model_module_version": "1.2.0",
            "_model_name": "LayoutModel",
            "_view_count": null,
            "_view_module": "@jupyter-widgets/base",
            "_view_module_version": "1.2.0",
            "_view_name": "LayoutView",
            "align_content": null,
            "align_items": null,
            "align_self": null,
            "border": null,
            "bottom": null,
            "display": null,
            "flex": null,
            "flex_flow": null,
            "grid_area": null,
            "grid_auto_columns": null,
            "grid_auto_flow": null,
            "grid_auto_rows": null,
            "grid_column": null,
            "grid_gap": null,
            "grid_row": null,
            "grid_template_areas": null,
            "grid_template_columns": null,
            "grid_template_rows": null,
            "height": null,
            "justify_content": null,
            "justify_items": null,
            "left": null,
            "margin": null,
            "max_height": null,
            "max_width": null,
            "min_height": null,
            "min_width": null,
            "object_fit": null,
            "object_position": null,
            "order": null,
            "overflow": null,
            "overflow_x": null,
            "overflow_y": null,
            "padding": null,
            "right": null,
            "top": null,
            "visibility": null,
            "width": null
          }
        },
        "8a0155da07394e89a5a47987dd24b100": {
          "model_module": "@jupyter-widgets/controls",
          "model_name": "DescriptionStyleModel",
          "model_module_version": "1.5.0",
          "state": {
            "_model_module": "@jupyter-widgets/controls",
            "_model_module_version": "1.5.0",
            "_model_name": "DescriptionStyleModel",
            "_view_count": null,
            "_view_module": "@jupyter-widgets/base",
            "_view_module_version": "1.2.0",
            "_view_name": "StyleView",
            "description_width": ""
          }
        }
      }
    }
  },
  "nbformat": 4,
  "nbformat_minor": 0
}